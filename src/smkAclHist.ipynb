{
 "cells": [
  {
   "cell_type": "code",
   "execution_count": 16,
   "metadata": {},
   "outputs": [],
   "source": [
    "# Essentials\n",
    "import numpy as np\n",
    "import pandas as pd\n",
    "import datetime\n",
    "import random\n",
    "import configparser\n",
    "\n",
    "# Plots\n",
    "import seaborn as sns\n",
    "import matplotlib.pyplot as plt\n",
    "\n",
    "# Models\n",
    "from sklearn.ensemble import RandomForestRegressor, GradientBoostingRegressor, AdaBoostRegressor, BaggingRegressor\n",
    "from sklearn.kernel_ridge import KernelRidge\n",
    "from sklearn.linear_model import Ridge, RidgeCV\n",
    "from sklearn.linear_model import ElasticNet, ElasticNetCV\n",
    "from sklearn.svm import SVR\n",
    "from mlxtend.regressor import StackingCVRegressor\n",
    "import lightgbm as lgb\n",
    "from lightgbm import LGBMRegressor\n",
    "from xgboost import XGBRegressor\n",
    "\n",
    "# Stats\n",
    "from scipy.stats import skew, norm\n",
    "from scipy.special import boxcox1p\n",
    "from scipy.stats import boxcox_normmax\n",
    "\n",
    "# Misc\n",
    "from sklearn.model_selection import GridSearchCV\n",
    "from sklearn.model_selection import KFold, cross_val_score\n",
    "from sklearn.metrics import mean_squared_error\n",
    "from sklearn.preprocessing import OneHotEncoder\n",
    "from sklearn.preprocessing import LabelEncoder\n",
    "from sklearn.pipeline import make_pipeline\n",
    "from sklearn.preprocessing import scale\n",
    "from sklearn.preprocessing import StandardScaler\n",
    "from sklearn.preprocessing import RobustScaler\n",
    "from sklearn.decomposition import PCA\n",
    "\n",
    "pd.set_option('display.max_columns', None)\n",
    "\n",
    "# Ignore useless warnings\n",
    "import warnings\n",
    "warnings.filterwarnings(action=\"ignore\")\n",
    "pd.options.display.max_seq_items = 8000\n",
    "pd.options.display.max_rows = 8000"
   ]
  },
  {
   "cell_type": "code",
   "execution_count": 17,
   "metadata": {},
   "outputs": [],
   "source": [
    "config = configparser.ConfigParser()\n",
    "config.sections()\n",
    "config.read('config.ini')\n",
    "\n",
    "bp_file =config['DEFAULT']['SmkAlcHist']\n",
    "bp_file_p =config['DEFAULT']['SmkAlcHist_p']"
   ]
  },
  {
   "cell_type": "code",
   "execution_count": 18,
   "metadata": {},
   "outputs": [],
   "source": [
    "data_pd = pd.read_csv(bp_file, sep='|')\n"
   ]
  },
  {
   "cell_type": "code",
   "execution_count": 19,
   "metadata": {},
   "outputs": [
    {
     "data": {
      "text/plain": [
       "(179937, 6166)"
      ]
     },
     "execution_count": 19,
     "metadata": {},
     "output_type": "execute_result"
    }
   ],
   "source": [
    "len(data_pd), len(pd.Series(data_pd[\"Deidentified_Pat_ID\"].tolist()).sort_values().unique())"
   ]
  },
  {
   "cell_type": "code",
   "execution_count": 20,
   "metadata": {},
   "outputs": [
    {
     "data": {
      "text/plain": [
       "array(['Current Every Day Smoker', 'Current Some Day Smoker',\n",
       "       'Former Smoker', 'Heavy Tobacco Smoker', 'Light Tobacco Smoker',\n",
       "       'Never Assessed', 'Never Smoker',\n",
       "       'Passive Smoke Exposure - Never Smoker',\n",
       "       'Smoker, Current Status Unknown', 'Unknown If Ever Smoked'],\n",
       "      dtype=object)"
      ]
     },
     "execution_count": 20,
     "metadata": {},
     "output_type": "execute_result"
    }
   ],
   "source": [
    "pd.Series(data_pd[\"SmokingStatus\"].tolist()).sort_values().unique()"
   ]
  },
  {
   "cell_type": "code",
   "execution_count": 21,
   "metadata": {},
   "outputs": [
    {
     "data": {
      "text/html": [
       "<div>\n",
       "<style scoped>\n",
       "    .dataframe tbody tr th:only-of-type {\n",
       "        vertical-align: middle;\n",
       "    }\n",
       "\n",
       "    .dataframe tbody tr th {\n",
       "        vertical-align: top;\n",
       "    }\n",
       "\n",
       "    .dataframe thead th {\n",
       "        text-align: right;\n",
       "    }\n",
       "</style>\n",
       "<table border=\"1\" class=\"dataframe\">\n",
       "  <thead>\n",
       "    <tr style=\"text-align: right;\">\n",
       "      <th></th>\n",
       "      <th>Deidentified_Pat_ID</th>\n",
       "      <th>SmokingStatus</th>\n",
       "      <th>TOBACCO_PAK_PER_DY</th>\n",
       "      <th>SmokelessStatus</th>\n",
       "      <th>AlcoholStatus</th>\n",
       "      <th>PhysicalActivityDaysPerWeek</th>\n",
       "      <th>PhysicalActivityMinsPerSession</th>\n",
       "    </tr>\n",
       "  </thead>\n",
       "  <tbody>\n",
       "    <tr>\n",
       "      <th>0</th>\n",
       "      <td>ZHHZVNK</td>\n",
       "      <td>Never Smoker</td>\n",
       "      <td>NaN</td>\n",
       "      <td>Never Used</td>\n",
       "      <td>Yes</td>\n",
       "      <td>NaN</td>\n",
       "      <td>NaN</td>\n",
       "    </tr>\n",
       "    <tr>\n",
       "      <th>1</th>\n",
       "      <td>ZHHZVNK</td>\n",
       "      <td>Never Smoker</td>\n",
       "      <td>NaN</td>\n",
       "      <td>Never Used</td>\n",
       "      <td>Yes</td>\n",
       "      <td>NaN</td>\n",
       "      <td>NaN</td>\n",
       "    </tr>\n",
       "    <tr>\n",
       "      <th>2</th>\n",
       "      <td>ZHHZVNK</td>\n",
       "      <td>Never Smoker</td>\n",
       "      <td>NaN</td>\n",
       "      <td>Never Used</td>\n",
       "      <td>Yes</td>\n",
       "      <td>NaN</td>\n",
       "      <td>NaN</td>\n",
       "    </tr>\n",
       "    <tr>\n",
       "      <th>3</th>\n",
       "      <td>ZHHZVNK</td>\n",
       "      <td>Never Smoker</td>\n",
       "      <td>NaN</td>\n",
       "      <td>Never Used</td>\n",
       "      <td>Yes</td>\n",
       "      <td>NaN</td>\n",
       "      <td>NaN</td>\n",
       "    </tr>\n",
       "    <tr>\n",
       "      <th>4</th>\n",
       "      <td>ZHHZVNK</td>\n",
       "      <td>Never Smoker</td>\n",
       "      <td>NaN</td>\n",
       "      <td>Never Used</td>\n",
       "      <td>Yes</td>\n",
       "      <td>NaN</td>\n",
       "      <td>NaN</td>\n",
       "    </tr>\n",
       "  </tbody>\n",
       "</table>\n",
       "</div>"
      ],
      "text/plain": [
       "  Deidentified_Pat_ID SmokingStatus  TOBACCO_PAK_PER_DY SmokelessStatus  \\\n",
       "0             ZHHZVNK  Never Smoker                 NaN      Never Used   \n",
       "1             ZHHZVNK  Never Smoker                 NaN      Never Used   \n",
       "2             ZHHZVNK  Never Smoker                 NaN      Never Used   \n",
       "3             ZHHZVNK  Never Smoker                 NaN      Never Used   \n",
       "4             ZHHZVNK  Never Smoker                 NaN      Never Used   \n",
       "\n",
       "  AlcoholStatus PhysicalActivityDaysPerWeek PhysicalActivityMinsPerSession  \n",
       "0           Yes                         NaN                            NaN  \n",
       "1           Yes                         NaN                            NaN  \n",
       "2           Yes                         NaN                            NaN  \n",
       "3           Yes                         NaN                            NaN  \n",
       "4           Yes                         NaN                            NaN  "
      ]
     },
     "execution_count": 21,
     "metadata": {},
     "output_type": "execute_result"
    }
   ],
   "source": [
    "data_pd.head()"
   ]
  },
  {
   "cell_type": "code",
   "execution_count": null,
   "metadata": {},
   "outputs": [],
   "source": []
  },
  {
   "cell_type": "code",
   "execution_count": 22,
   "metadata": {},
   "outputs": [],
   "source": [
    "def smk_type(x):\n",
    "    if x == 'Never Smoker':\n",
    "        return 1\n",
    "\n",
    "    elif x == 'Former Smoker':\n",
    "        return 2\n",
    "    elif x == 'Passive Smoke Exposure - Never Smoker':\n",
    "        return 3\n",
    "    elif x == 'Light Tobacco Smoker':\n",
    "        return 4\n",
    "    elif x == 'Current Some Day Smoker':\n",
    "        return 5\n",
    "    elif x == 'Smoker, Current Status Unknown':\n",
    "        return 6\n",
    "    elif x == 'Current Some Day Smoker':\n",
    "        return 7\n",
    "    elif x == 'Current Every Day Smoker':\n",
    "        return 8\n",
    "    elif x == 'Heavy Tobacco Smoker':\n",
    "        return 9\n",
    "    else:\n",
    "#        print(x)\n",
    "        return 0\n"
   ]
  },
  {
   "cell_type": "code",
   "execution_count": 23,
   "metadata": {},
   "outputs": [],
   "source": [
    "data_pd['smktype'] = data_pd['SmokingStatus'].apply(lambda x: smk_type(x))"
   ]
  },
  {
   "cell_type": "code",
   "execution_count": 24,
   "metadata": {},
   "outputs": [
    {
     "data": {
      "text/html": [
       "<div>\n",
       "<style scoped>\n",
       "    .dataframe tbody tr th:only-of-type {\n",
       "        vertical-align: middle;\n",
       "    }\n",
       "\n",
       "    .dataframe tbody tr th {\n",
       "        vertical-align: top;\n",
       "    }\n",
       "\n",
       "    .dataframe thead th {\n",
       "        text-align: right;\n",
       "    }\n",
       "</style>\n",
       "<table border=\"1\" class=\"dataframe\">\n",
       "  <thead>\n",
       "    <tr style=\"text-align: right;\">\n",
       "      <th></th>\n",
       "      <th>Deidentified_Pat_ID</th>\n",
       "      <th>SmokingStatus</th>\n",
       "      <th>TOBACCO_PAK_PER_DY</th>\n",
       "      <th>SmokelessStatus</th>\n",
       "      <th>AlcoholStatus</th>\n",
       "      <th>PhysicalActivityDaysPerWeek</th>\n",
       "      <th>PhysicalActivityMinsPerSession</th>\n",
       "      <th>smktype</th>\n",
       "    </tr>\n",
       "  </thead>\n",
       "  <tbody>\n",
       "    <tr>\n",
       "      <th>0</th>\n",
       "      <td>ZHHZVNK</td>\n",
       "      <td>Never Smoker</td>\n",
       "      <td>NaN</td>\n",
       "      <td>Never Used</td>\n",
       "      <td>Yes</td>\n",
       "      <td>NaN</td>\n",
       "      <td>NaN</td>\n",
       "      <td>1</td>\n",
       "    </tr>\n",
       "    <tr>\n",
       "      <th>1</th>\n",
       "      <td>ZHHZVNK</td>\n",
       "      <td>Never Smoker</td>\n",
       "      <td>NaN</td>\n",
       "      <td>Never Used</td>\n",
       "      <td>Yes</td>\n",
       "      <td>NaN</td>\n",
       "      <td>NaN</td>\n",
       "      <td>1</td>\n",
       "    </tr>\n",
       "    <tr>\n",
       "      <th>2</th>\n",
       "      <td>ZHHZVNK</td>\n",
       "      <td>Never Smoker</td>\n",
       "      <td>NaN</td>\n",
       "      <td>Never Used</td>\n",
       "      <td>Yes</td>\n",
       "      <td>NaN</td>\n",
       "      <td>NaN</td>\n",
       "      <td>1</td>\n",
       "    </tr>\n",
       "    <tr>\n",
       "      <th>3</th>\n",
       "      <td>ZHHZVNK</td>\n",
       "      <td>Never Smoker</td>\n",
       "      <td>NaN</td>\n",
       "      <td>Never Used</td>\n",
       "      <td>Yes</td>\n",
       "      <td>NaN</td>\n",
       "      <td>NaN</td>\n",
       "      <td>1</td>\n",
       "    </tr>\n",
       "    <tr>\n",
       "      <th>4</th>\n",
       "      <td>ZHHZVNK</td>\n",
       "      <td>Never Smoker</td>\n",
       "      <td>NaN</td>\n",
       "      <td>Never Used</td>\n",
       "      <td>Yes</td>\n",
       "      <td>NaN</td>\n",
       "      <td>NaN</td>\n",
       "      <td>1</td>\n",
       "    </tr>\n",
       "  </tbody>\n",
       "</table>\n",
       "</div>"
      ],
      "text/plain": [
       "  Deidentified_Pat_ID SmokingStatus  TOBACCO_PAK_PER_DY SmokelessStatus  \\\n",
       "0             ZHHZVNK  Never Smoker                 NaN      Never Used   \n",
       "1             ZHHZVNK  Never Smoker                 NaN      Never Used   \n",
       "2             ZHHZVNK  Never Smoker                 NaN      Never Used   \n",
       "3             ZHHZVNK  Never Smoker                 NaN      Never Used   \n",
       "4             ZHHZVNK  Never Smoker                 NaN      Never Used   \n",
       "\n",
       "  AlcoholStatus PhysicalActivityDaysPerWeek PhysicalActivityMinsPerSession  \\\n",
       "0           Yes                         NaN                            NaN   \n",
       "1           Yes                         NaN                            NaN   \n",
       "2           Yes                         NaN                            NaN   \n",
       "3           Yes                         NaN                            NaN   \n",
       "4           Yes                         NaN                            NaN   \n",
       "\n",
       "   smktype  \n",
       "0        1  \n",
       "1        1  \n",
       "2        1  \n",
       "3        1  \n",
       "4        1  "
      ]
     },
     "execution_count": 24,
     "metadata": {},
     "output_type": "execute_result"
    }
   ],
   "source": [
    "data_pd.head()"
   ]
  },
  {
   "cell_type": "code",
   "execution_count": 25,
   "metadata": {},
   "outputs": [
    {
     "data": {
      "text/plain": [
       "(179937, 6166)"
      ]
     },
     "execution_count": 25,
     "metadata": {},
     "output_type": "execute_result"
    }
   ],
   "source": [
    "len(data_pd), len(pd.Series(data_pd[\"Deidentified_Pat_ID\"].tolist()).sort_values().unique())"
   ]
  },
  {
   "cell_type": "code",
   "execution_count": 26,
   "metadata": {},
   "outputs": [],
   "source": [
    "data_pd.sort_values(['Deidentified_Pat_ID','smktype'], inplace=True)\n",
    "\n",
    "data_pd.drop_duplicates([\"Deidentified_Pat_ID\"], keep='last', inplace=True)"
   ]
  },
  {
   "cell_type": "code",
   "execution_count": 27,
   "metadata": {},
   "outputs": [
    {
     "data": {
      "text/plain": [
       "(6166, 6166)"
      ]
     },
     "execution_count": 27,
     "metadata": {},
     "output_type": "execute_result"
    }
   ],
   "source": [
    "len(data_pd), len(pd.Series(data_pd[\"Deidentified_Pat_ID\"].tolist()).sort_values().unique())"
   ]
  },
  {
   "cell_type": "code",
   "execution_count": 28,
   "metadata": {},
   "outputs": [],
   "source": [
    "data_pd = data_pd[['Deidentified_Pat_ID', 'smktype']]\n",
    "data_pd.to_csv(bp_file_p, index=False)"
   ]
  },
  {
   "cell_type": "code",
   "execution_count": null,
   "metadata": {},
   "outputs": [],
   "source": []
  },
  {
   "cell_type": "code",
   "execution_count": 29,
   "metadata": {},
   "outputs": [
    {
     "data": {
      "text/plain": [
       "smktype\n",
       "0       4\n",
       "1    3741\n",
       "2    1670\n",
       "3     129\n",
       "4      27\n",
       "5     103\n",
       "6       4\n",
       "8     475\n",
       "9      13\n",
       "dtype: int64"
      ]
     },
     "execution_count": 29,
     "metadata": {},
     "output_type": "execute_result"
    }
   ],
   "source": [
    "data_pd.pivot_table(index=['smktype'], aggfunc='size')"
   ]
  },
  {
   "cell_type": "code",
   "execution_count": 30,
   "metadata": {},
   "outputs": [
    {
     "data": {
      "image/png": "[encoded data removed]",
      "text/plain": [
       "<Figure size 576x504 with 1 Axes>"
      ]
     },
     "metadata": {},
     "output_type": "display_data"
    }
   ],
   "source": [
    "sns.set_style(\"white\")\n",
    "sns.set_color_codes(palette='deep')\n",
    "f, ax = plt.subplots(figsize=(8, 7))\n",
    "#Check the new distribution \n",
    "sns.distplot(data_pd['smktype'], color=\"b\");\n",
    "ax.xaxis.grid(False)\n",
    "ax.set(ylabel=\"Frequency\")\n",
    "ax.set(xlabel=\"smktype\")\n",
    "ax.set(title=\"smktype distribution\")\n",
    "sns.despine(trim=True, left=True)\n",
    "plt.show()"
   ]
  },
  {
   "cell_type": "code",
   "execution_count": null,
   "metadata": {},
   "outputs": [],
   "source": []
  }
 ],
 "metadata": {
  "kernelspec": {
   "display_name": "Python 3",
   "language": "python",
   "name": "python3"
  },
  "language_info": {
   "codemirror_mode": {
    "name": "ipython",
    "version": 3
   },
   "file_extension": ".py",
   "mimetype": "text/x-python",
   "name": "python",
   "nbconvert_exporter": "python",
   "pygments_lexer": "ipython3",
   "version": "3.6.9"
  }
 },
 "nbformat": 4,
 "nbformat_minor": 2
}
