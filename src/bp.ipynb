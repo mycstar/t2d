{
 "cells": [
  {
   "cell_type": "code",
   "execution_count": 72,
   "metadata": {},
   "outputs": [],
   "source": [
    "# Essentials\n",
    "import numpy as np\n",
    "import pandas as pd\n",
    "import datetime\n",
    "import random\n",
    "\n",
    "# Plots\n",
    "import seaborn as sns\n",
    "import matplotlib.pyplot as plt\n",
    "\n",
    "# Models\n",
    "from sklearn.ensemble import RandomForestRegressor, GradientBoostingRegressor, AdaBoostRegressor, BaggingRegressor\n",
    "from sklearn.kernel_ridge import KernelRidge\n",
    "from sklearn.linear_model import Ridge, RidgeCV\n",
    "from sklearn.linear_model import ElasticNet, ElasticNetCV\n",
    "from sklearn.svm import SVR\n",
    "from mlxtend.regressor import StackingCVRegressor\n",
    "import lightgbm as lgb\n",
    "from lightgbm import LGBMRegressor\n",
    "from xgboost import XGBRegressor\n",
    "\n",
    "# Stats\n",
    "from scipy.stats import skew, norm\n",
    "from scipy.special import boxcox1p\n",
    "from scipy.stats import boxcox_normmax\n",
    "\n",
    "# Misc\n",
    "from sklearn.model_selection import GridSearchCV\n",
    "from sklearn.model_selection import KFold, cross_val_score\n",
    "from sklearn.metrics import mean_squared_error\n",
    "from sklearn.preprocessing import OneHotEncoder\n",
    "from sklearn.preprocessing import LabelEncoder\n",
    "from sklearn.pipeline import make_pipeline\n",
    "from sklearn.preprocessing import scale\n",
    "from sklearn.preprocessing import StandardScaler\n",
    "from sklearn.preprocessing import RobustScaler\n",
    "from sklearn.decomposition import PCA\n",
    "\n",
    "pd.set_option('display.max_columns', None)\n",
    "\n",
    "# Ignore useless warnings\n",
    "import warnings\n",
    "warnings.filterwarnings(action=\"ignore\")\n",
    "pd.options.display.max_seq_items = 8000\n",
    "pd.options.display.max_rows = 8000"
   ]
  },
  {
   "cell_type": "code",
   "execution_count": 73,
   "metadata": {},
   "outputs": [],
   "source": [
    "bp_file = '/data/data1/diabetes/EMR-data/BP.csv'\n",
    "bp_file_p = '/data/data1/diabetes/EMR-data2/BP.csv'"
   ]
  },
  {
   "cell_type": "code",
   "execution_count": 78,
   "metadata": {},
   "outputs": [],
   "source": [
    "data_pd = pd.read_csv(bp_file, sep='|')\n"
   ]
  },
  {
   "cell_type": "code",
   "execution_count": 79,
   "metadata": {},
   "outputs": [
    {
     "data": {
      "text/plain": [
       "(203420, 3)"
      ]
     },
     "execution_count": 79,
     "metadata": {},
     "output_type": "execute_result"
    }
   ],
   "source": [
    "data_pd.shape"
   ]
  },
  {
   "cell_type": "code",
   "execution_count": 77,
   "metadata": {},
   "outputs": [
    {
     "data": {
      "text/html": [
       "<div>\n",
       "<style scoped>\n",
       "    .dataframe tbody tr th:only-of-type {\n",
       "        vertical-align: middle;\n",
       "    }\n",
       "\n",
       "    .dataframe tbody tr th {\n",
       "        vertical-align: top;\n",
       "    }\n",
       "\n",
       "    .dataframe thead th {\n",
       "        text-align: right;\n",
       "    }\n",
       "</style>\n",
       "<table border=\"1\" class=\"dataframe\">\n",
       "  <thead>\n",
       "    <tr style=\"text-align: right;\">\n",
       "      <th></th>\n",
       "      <th>Deidentified_Pat_ID</th>\n",
       "      <th>BP</th>\n",
       "      <th>RecordedYear</th>\n",
       "    </tr>\n",
       "  </thead>\n",
       "  <tbody>\n",
       "    <tr>\n",
       "      <th>0</th>\n",
       "      <td>ZDTGTTA</td>\n",
       "      <td>130/71</td>\n",
       "      <td>2014</td>\n",
       "    </tr>\n",
       "    <tr>\n",
       "      <th>1</th>\n",
       "      <td>ZDTGTTA</td>\n",
       "      <td>127/73</td>\n",
       "      <td>2014</td>\n",
       "    </tr>\n",
       "    <tr>\n",
       "      <th>2</th>\n",
       "      <td>ZDTGTTA</td>\n",
       "      <td>120/80</td>\n",
       "      <td>2014</td>\n",
       "    </tr>\n",
       "    <tr>\n",
       "      <th>3</th>\n",
       "      <td>ZDTGTTA</td>\n",
       "      <td>111/67</td>\n",
       "      <td>2014</td>\n",
       "    </tr>\n",
       "    <tr>\n",
       "      <th>4</th>\n",
       "      <td>ZDTGTTA</td>\n",
       "      <td>101/59</td>\n",
       "      <td>2014</td>\n",
       "    </tr>\n",
       "  </tbody>\n",
       "</table>\n",
       "</div>"
      ],
      "text/plain": [
       "  Deidentified_Pat_ID      BP  RecordedYear\n",
       "0             ZDTGTTA  130/71          2014\n",
       "1             ZDTGTTA  127/73          2014\n",
       "2             ZDTGTTA  120/80          2014\n",
       "3             ZDTGTTA  111/67          2014\n",
       "4             ZDTGTTA  101/59          2014"
      ]
     },
     "execution_count": 77,
     "metadata": {},
     "output_type": "execute_result"
    }
   ],
   "source": [
    "data_pd.head()"
   ]
  },
  {
   "cell_type": "code",
   "execution_count": 80,
   "metadata": {},
   "outputs": [
    {
     "data": {
      "text/html": [
       "<div>\n",
       "<style scoped>\n",
       "    .dataframe tbody tr th:only-of-type {\n",
       "        vertical-align: middle;\n",
       "    }\n",
       "\n",
       "    .dataframe tbody tr th {\n",
       "        vertical-align: top;\n",
       "    }\n",
       "\n",
       "    .dataframe thead th {\n",
       "        text-align: right;\n",
       "    }\n",
       "</style>\n",
       "<table border=\"1\" class=\"dataframe\">\n",
       "  <thead>\n",
       "    <tr style=\"text-align: right;\">\n",
       "      <th></th>\n",
       "      <th>Deidentified_Pat_ID</th>\n",
       "      <th>BP</th>\n",
       "      <th>RecordedYear</th>\n",
       "    </tr>\n",
       "  </thead>\n",
       "  <tbody>\n",
       "    <tr>\n",
       "      <th>302</th>\n",
       "      <td>ZDGAZVDT</td>\n",
       "      <td>NaN</td>\n",
       "      <td>2014</td>\n",
       "    </tr>\n",
       "    <tr>\n",
       "      <th>303</th>\n",
       "      <td>ZDGAZVDT</td>\n",
       "      <td>NaN</td>\n",
       "      <td>2014</td>\n",
       "    </tr>\n",
       "    <tr>\n",
       "      <th>622</th>\n",
       "      <td>ZDNNKDNZ</td>\n",
       "      <td>NaN</td>\n",
       "      <td>2014</td>\n",
       "    </tr>\n",
       "    <tr>\n",
       "      <th>923</th>\n",
       "      <td>ZHZHKDKO</td>\n",
       "      <td>NaN</td>\n",
       "      <td>2014</td>\n",
       "    </tr>\n",
       "    <tr>\n",
       "      <th>1312</th>\n",
       "      <td>ZDTKNVK</td>\n",
       "      <td>NaN</td>\n",
       "      <td>2014</td>\n",
       "    </tr>\n",
       "  </tbody>\n",
       "</table>\n",
       "</div>"
      ],
      "text/plain": [
       "     Deidentified_Pat_ID   BP  RecordedYear\n",
       "302             ZDGAZVDT  NaN          2014\n",
       "303             ZDGAZVDT  NaN          2014\n",
       "622             ZDNNKDNZ  NaN          2014\n",
       "923             ZHZHKDKO  NaN          2014\n",
       "1312             ZDTKNVK  NaN          2014"
      ]
     },
     "execution_count": 80,
     "metadata": {},
     "output_type": "execute_result"
    }
   ],
   "source": [
    "na_dt = data_pd[data_pd['BP'].isna()]\n",
    "na_dt.head()"
   ]
  },
  {
   "cell_type": "code",
   "execution_count": 81,
   "metadata": {},
   "outputs": [
    {
     "data": {
      "text/plain": [
       "203420"
      ]
     },
     "execution_count": 81,
     "metadata": {},
     "output_type": "execute_result"
    }
   ],
   "source": [
    "len(data_pd)"
   ]
  },
  {
   "cell_type": "code",
   "execution_count": 82,
   "metadata": {},
   "outputs": [
    {
     "data": {
      "text/plain": [
       "203066"
      ]
     },
     "execution_count": 82,
     "metadata": {},
     "output_type": "execute_result"
    }
   ],
   "source": [
    "data_pd = data_pd[data_pd['BP'].notna()]\n",
    "len(data_pd)"
   ]
  },
  {
   "cell_type": "code",
   "execution_count": 83,
   "metadata": {},
   "outputs": [
    {
     "data": {
      "text/plain": [
       "array(['100/30', '100/39', '100/40', ..., '99/82', '99/85', '99/86'],\n",
       "      dtype=object)"
      ]
     },
     "execution_count": 83,
     "metadata": {},
     "output_type": "execute_result"
    }
   ],
   "source": [
    "pd.Series(data_pd[\"BP\"].tolist()).sort_values().unique()"
   ]
  },
  {
   "cell_type": "code",
   "execution_count": 84,
   "metadata": {},
   "outputs": [],
   "source": [
    "data_pd['BP'] = data_pd['BP'].astype('str')"
   ]
  },
  {
   "cell_type": "code",
   "execution_count": 85,
   "metadata": {},
   "outputs": [
    {
     "data": {
      "text/plain": [
       "array(['100/30', '100/39', '100/40', ..., '99/82', '99/85', '99/86'],\n",
       "      dtype=object)"
      ]
     },
     "execution_count": 85,
     "metadata": {},
     "output_type": "execute_result"
    }
   ],
   "source": [
    "pd.Series(data_pd[\"BP\"].tolist()).sort_values().unique()"
   ]
  },
  {
   "cell_type": "code",
   "execution_count": 86,
   "metadata": {},
   "outputs": [
    {
     "data": {
      "text/html": [
       "<div>\n",
       "<style scoped>\n",
       "    .dataframe tbody tr th:only-of-type {\n",
       "        vertical-align: middle;\n",
       "    }\n",
       "\n",
       "    .dataframe tbody tr th {\n",
       "        vertical-align: top;\n",
       "    }\n",
       "\n",
       "    .dataframe thead th {\n",
       "        text-align: right;\n",
       "    }\n",
       "</style>\n",
       "<table border=\"1\" class=\"dataframe\">\n",
       "  <thead>\n",
       "    <tr style=\"text-align: right;\">\n",
       "      <th></th>\n",
       "      <th>Deidentified_Pat_ID</th>\n",
       "      <th>BP</th>\n",
       "      <th>RecordedYear</th>\n",
       "    </tr>\n",
       "  </thead>\n",
       "  <tbody>\n",
       "  </tbody>\n",
       "</table>\n",
       "</div>"
      ],
      "text/plain": [
       "Empty DataFrame\n",
       "Columns: [Deidentified_Pat_ID, BP, RecordedYear]\n",
       "Index: []"
      ]
     },
     "execution_count": 86,
     "metadata": {},
     "output_type": "execute_result"
    }
   ],
   "source": [
    "na_dt = data_pd[data_pd['BP'].isna()]\n",
    "na_dt.head()"
   ]
  },
  {
   "cell_type": "code",
   "execution_count": 87,
   "metadata": {},
   "outputs": [],
   "source": [
    "tt = data_pd['BP'].str.split('/',expand=True)"
   ]
  },
  {
   "cell_type": "code",
   "execution_count": 50,
   "metadata": {},
   "outputs": [
    {
     "data": {
      "text/html": [
       "<div>\n",
       "<style scoped>\n",
       "    .dataframe tbody tr th:only-of-type {\n",
       "        vertical-align: middle;\n",
       "    }\n",
       "\n",
       "    .dataframe tbody tr th {\n",
       "        vertical-align: top;\n",
       "    }\n",
       "\n",
       "    .dataframe thead th {\n",
       "        text-align: right;\n",
       "    }\n",
       "</style>\n",
       "<table border=\"1\" class=\"dataframe\">\n",
       "  <thead>\n",
       "    <tr style=\"text-align: right;\">\n",
       "      <th></th>\n",
       "      <th>0</th>\n",
       "      <th>1</th>\n",
       "    </tr>\n",
       "  </thead>\n",
       "  <tbody>\n",
       "    <tr>\n",
       "      <th>203415</th>\n",
       "      <td>150</td>\n",
       "      <td>96</td>\n",
       "    </tr>\n",
       "    <tr>\n",
       "      <th>203416</th>\n",
       "      <td>118</td>\n",
       "      <td>78</td>\n",
       "    </tr>\n",
       "    <tr>\n",
       "      <th>203417</th>\n",
       "      <td>132</td>\n",
       "      <td>62</td>\n",
       "    </tr>\n",
       "    <tr>\n",
       "      <th>203418</th>\n",
       "      <td>134</td>\n",
       "      <td>84</td>\n",
       "    </tr>\n",
       "    <tr>\n",
       "      <th>203419</th>\n",
       "      <td>136</td>\n",
       "      <td>84</td>\n",
       "    </tr>\n",
       "  </tbody>\n",
       "</table>\n",
       "</div>"
      ],
      "text/plain": [
       "          0   1\n",
       "203415  150  96\n",
       "203416  118  78\n",
       "203417  132  62\n",
       "203418  134  84\n",
       "203419  136  84"
      ]
     },
     "execution_count": 50,
     "metadata": {},
     "output_type": "execute_result"
    }
   ],
   "source": [
    "tt.tail()"
   ]
  },
  {
   "cell_type": "code",
   "execution_count": 88,
   "metadata": {},
   "outputs": [],
   "source": [
    "data_pd['bp_high'] = data_pd['BP'].map(lambda x: x.split('/')[0])\n",
    "data_pd['bp_low'] = data_pd['BP'].map(lambda x: x.split('/')[1])"
   ]
  },
  {
   "cell_type": "code",
   "execution_count": 89,
   "metadata": {},
   "outputs": [
    {
     "data": {
      "text/html": [
       "<div>\n",
       "<style scoped>\n",
       "    .dataframe tbody tr th:only-of-type {\n",
       "        vertical-align: middle;\n",
       "    }\n",
       "\n",
       "    .dataframe tbody tr th {\n",
       "        vertical-align: top;\n",
       "    }\n",
       "\n",
       "    .dataframe thead th {\n",
       "        text-align: right;\n",
       "    }\n",
       "</style>\n",
       "<table border=\"1\" class=\"dataframe\">\n",
       "  <thead>\n",
       "    <tr style=\"text-align: right;\">\n",
       "      <th></th>\n",
       "      <th>Deidentified_Pat_ID</th>\n",
       "      <th>BP</th>\n",
       "      <th>RecordedYear</th>\n",
       "      <th>bp_high</th>\n",
       "      <th>bp_low</th>\n",
       "    </tr>\n",
       "  </thead>\n",
       "  <tbody>\n",
       "    <tr>\n",
       "      <th>0</th>\n",
       "      <td>ZDTGTTA</td>\n",
       "      <td>130/71</td>\n",
       "      <td>2014</td>\n",
       "      <td>130</td>\n",
       "      <td>71</td>\n",
       "    </tr>\n",
       "    <tr>\n",
       "      <th>1</th>\n",
       "      <td>ZDTGTTA</td>\n",
       "      <td>127/73</td>\n",
       "      <td>2014</td>\n",
       "      <td>127</td>\n",
       "      <td>73</td>\n",
       "    </tr>\n",
       "    <tr>\n",
       "      <th>2</th>\n",
       "      <td>ZDTGTTA</td>\n",
       "      <td>120/80</td>\n",
       "      <td>2014</td>\n",
       "      <td>120</td>\n",
       "      <td>80</td>\n",
       "    </tr>\n",
       "    <tr>\n",
       "      <th>3</th>\n",
       "      <td>ZDTGTTA</td>\n",
       "      <td>111/67</td>\n",
       "      <td>2014</td>\n",
       "      <td>111</td>\n",
       "      <td>67</td>\n",
       "    </tr>\n",
       "    <tr>\n",
       "      <th>4</th>\n",
       "      <td>ZDTGTTA</td>\n",
       "      <td>101/59</td>\n",
       "      <td>2014</td>\n",
       "      <td>101</td>\n",
       "      <td>59</td>\n",
       "    </tr>\n",
       "  </tbody>\n",
       "</table>\n",
       "</div>"
      ],
      "text/plain": [
       "  Deidentified_Pat_ID      BP  RecordedYear bp_high bp_low\n",
       "0             ZDTGTTA  130/71          2014     130     71\n",
       "1             ZDTGTTA  127/73          2014     127     73\n",
       "2             ZDTGTTA  120/80          2014     120     80\n",
       "3             ZDTGTTA  111/67          2014     111     67\n",
       "4             ZDTGTTA  101/59          2014     101     59"
      ]
     },
     "execution_count": 89,
     "metadata": {},
     "output_type": "execute_result"
    }
   ],
   "source": [
    "data_pd.head()"
   ]
  },
  {
   "cell_type": "code",
   "execution_count": 102,
   "metadata": {},
   "outputs": [
    {
     "data": {
      "text/plain": [
       "(203066, 5)"
      ]
     },
     "execution_count": 102,
     "metadata": {},
     "output_type": "execute_result"
    }
   ],
   "source": [
    "data_pd['bp_high'] = data_pd['bp_high'].astype('int')\n",
    "data_pd['bp_low'] = data_pd['bp_low'].astype('int')\n",
    "data_pd.shape\n"
   ]
  },
  {
   "cell_type": "code",
   "execution_count": 103,
   "metadata": {},
   "outputs": [
    {
     "data": {
      "text/plain": [
       "6157"
      ]
     },
     "execution_count": 103,
     "metadata": {},
     "output_type": "execute_result"
    }
   ],
   "source": [
    "len(pd.Series(data_pd[\"Deidentified_Pat_ID\"].tolist()).sort_values().unique())"
   ]
  },
  {
   "cell_type": "code",
   "execution_count": 104,
   "metadata": {},
   "outputs": [
    {
     "data": {
      "text/html": [
       "<div>\n",
       "<style scoped>\n",
       "    .dataframe tbody tr th:only-of-type {\n",
       "        vertical-align: middle;\n",
       "    }\n",
       "\n",
       "    .dataframe tbody tr th {\n",
       "        vertical-align: top;\n",
       "    }\n",
       "\n",
       "    .dataframe thead th {\n",
       "        text-align: right;\n",
       "    }\n",
       "</style>\n",
       "<table border=\"1\" class=\"dataframe\">\n",
       "  <thead>\n",
       "    <tr style=\"text-align: right;\">\n",
       "      <th></th>\n",
       "      <th>Deidentified_Pat_ID</th>\n",
       "      <th>BP</th>\n",
       "      <th>RecordedYear</th>\n",
       "      <th>bp_high</th>\n",
       "      <th>bp_low</th>\n",
       "    </tr>\n",
       "  </thead>\n",
       "  <tbody>\n",
       "    <tr>\n",
       "      <th>55590</th>\n",
       "      <td>MGVKKNZN</td>\n",
       "      <td>120/78</td>\n",
       "      <td>2018</td>\n",
       "      <td>120</td>\n",
       "      <td>78</td>\n",
       "    </tr>\n",
       "    <tr>\n",
       "      <th>60324</th>\n",
       "      <td>MGVNDNAK</td>\n",
       "      <td>102/66</td>\n",
       "      <td>2019</td>\n",
       "      <td>102</td>\n",
       "      <td>66</td>\n",
       "    </tr>\n",
       "    <tr>\n",
       "      <th>172627</th>\n",
       "      <td>MNAAOKVG</td>\n",
       "      <td>112/68</td>\n",
       "      <td>2019</td>\n",
       "      <td>112</td>\n",
       "      <td>68</td>\n",
       "    </tr>\n",
       "    <tr>\n",
       "      <th>39828</th>\n",
       "      <td>MNAAOKVG</td>\n",
       "      <td>122/82</td>\n",
       "      <td>2017</td>\n",
       "      <td>122</td>\n",
       "      <td>82</td>\n",
       "    </tr>\n",
       "    <tr>\n",
       "      <th>42932</th>\n",
       "      <td>MNAAOKVG</td>\n",
       "      <td>124/76</td>\n",
       "      <td>2017</td>\n",
       "      <td>124</td>\n",
       "      <td>76</td>\n",
       "    </tr>\n",
       "    <tr>\n",
       "      <th>26359</th>\n",
       "      <td>MNAAOKVG</td>\n",
       "      <td>126/88</td>\n",
       "      <td>2016</td>\n",
       "      <td>126</td>\n",
       "      <td>88</td>\n",
       "    </tr>\n",
       "    <tr>\n",
       "      <th>103211</th>\n",
       "      <td>MNAAOKVG</td>\n",
       "      <td>136/80</td>\n",
       "      <td>2017</td>\n",
       "      <td>136</td>\n",
       "      <td>80</td>\n",
       "    </tr>\n",
       "    <tr>\n",
       "      <th>116398</th>\n",
       "      <td>MNADDANN</td>\n",
       "      <td>116/88</td>\n",
       "      <td>2019</td>\n",
       "      <td>116</td>\n",
       "      <td>88</td>\n",
       "    </tr>\n",
       "    <tr>\n",
       "      <th>58727</th>\n",
       "      <td>MNADDANN</td>\n",
       "      <td>124/92</td>\n",
       "      <td>2018</td>\n",
       "      <td>124</td>\n",
       "      <td>92</td>\n",
       "    </tr>\n",
       "    <tr>\n",
       "      <th>118604</th>\n",
       "      <td>MNADDANN</td>\n",
       "      <td>124/76</td>\n",
       "      <td>2019</td>\n",
       "      <td>124</td>\n",
       "      <td>76</td>\n",
       "    </tr>\n",
       "  </tbody>\n",
       "</table>\n",
       "</div>"
      ],
      "text/plain": [
       "       Deidentified_Pat_ID      BP  RecordedYear  bp_high  bp_low\n",
       "55590             MGVKKNZN  120/78          2018      120      78\n",
       "60324             MGVNDNAK  102/66          2019      102      66\n",
       "172627            MNAAOKVG  112/68          2019      112      68\n",
       "39828             MNAAOKVG  122/82          2017      122      82\n",
       "42932             MNAAOKVG  124/76          2017      124      76\n",
       "26359             MNAAOKVG  126/88          2016      126      88\n",
       "103211            MNAAOKVG  136/80          2017      136      80\n",
       "116398            MNADDANN  116/88          2019      116      88\n",
       "58727             MNADDANN  124/92          2018      124      92\n",
       "118604            MNADDANN  124/76          2019      124      76"
      ]
     },
     "execution_count": 104,
     "metadata": {},
     "output_type": "execute_result"
    }
   ],
   "source": [
    "data_pd.sort_values([\"Deidentified_Pat_ID\",\"bp_high\"], inplace=True)\n",
    "data_pd.head(n=10)\n"
   ]
  },
  {
   "cell_type": "code",
   "execution_count": 105,
   "metadata": {},
   "outputs": [
    {
     "data": {
      "text/plain": [
       "(203066, 5)"
      ]
     },
     "execution_count": 105,
     "metadata": {},
     "output_type": "execute_result"
    }
   ],
   "source": [
    "data_pd.shape"
   ]
  },
  {
   "cell_type": "code",
   "execution_count": 106,
   "metadata": {},
   "outputs": [
    {
     "data": {
      "text/plain": [
       "6157"
      ]
     },
     "execution_count": 106,
     "metadata": {},
     "output_type": "execute_result"
    }
   ],
   "source": [
    "len(pd.Series(data_pd[\"Deidentified_Pat_ID\"].tolist()).sort_values().unique())"
   ]
  },
  {
   "cell_type": "code",
   "execution_count": 107,
   "metadata": {
    "scrolled": true
   },
   "outputs": [
    {
     "data": {
      "text/html": [
       "<div>\n",
       "<style scoped>\n",
       "    .dataframe tbody tr th:only-of-type {\n",
       "        vertical-align: middle;\n",
       "    }\n",
       "\n",
       "    .dataframe tbody tr th {\n",
       "        vertical-align: top;\n",
       "    }\n",
       "\n",
       "    .dataframe thead th {\n",
       "        text-align: right;\n",
       "    }\n",
       "</style>\n",
       "<table border=\"1\" class=\"dataframe\">\n",
       "  <thead>\n",
       "    <tr style=\"text-align: right;\">\n",
       "      <th></th>\n",
       "      <th>Deidentified_Pat_ID</th>\n",
       "      <th>BP</th>\n",
       "      <th>RecordedYear</th>\n",
       "      <th>bp_high</th>\n",
       "      <th>bp_low</th>\n",
       "    </tr>\n",
       "  </thead>\n",
       "  <tbody>\n",
       "    <tr>\n",
       "      <th>55590</th>\n",
       "      <td>MGVKKNZN</td>\n",
       "      <td>120/78</td>\n",
       "      <td>2018</td>\n",
       "      <td>120</td>\n",
       "      <td>78</td>\n",
       "    </tr>\n",
       "    <tr>\n",
       "      <th>60324</th>\n",
       "      <td>MGVNDNAK</td>\n",
       "      <td>102/66</td>\n",
       "      <td>2019</td>\n",
       "      <td>102</td>\n",
       "      <td>66</td>\n",
       "    </tr>\n",
       "    <tr>\n",
       "      <th>103211</th>\n",
       "      <td>MNAAOKVG</td>\n",
       "      <td>136/80</td>\n",
       "      <td>2017</td>\n",
       "      <td>136</td>\n",
       "      <td>80</td>\n",
       "    </tr>\n",
       "    <tr>\n",
       "      <th>36829</th>\n",
       "      <td>MNADDANN</td>\n",
       "      <td>134/98</td>\n",
       "      <td>2017</td>\n",
       "      <td>134</td>\n",
       "      <td>98</td>\n",
       "    </tr>\n",
       "    <tr>\n",
       "      <th>88480</th>\n",
       "      <td>MNADOVKN</td>\n",
       "      <td>139/95</td>\n",
       "      <td>2016</td>\n",
       "      <td>139</td>\n",
       "      <td>95</td>\n",
       "    </tr>\n",
       "    <tr>\n",
       "      <th>43822</th>\n",
       "      <td>MNADZOHA</td>\n",
       "      <td>138/88</td>\n",
       "      <td>2017</td>\n",
       "      <td>138</td>\n",
       "      <td>88</td>\n",
       "    </tr>\n",
       "    <tr>\n",
       "      <th>155783</th>\n",
       "      <td>MNAGDKZZ</td>\n",
       "      <td>132/68</td>\n",
       "      <td>2017</td>\n",
       "      <td>132</td>\n",
       "      <td>68</td>\n",
       "    </tr>\n",
       "    <tr>\n",
       "      <th>115513</th>\n",
       "      <td>MNANKNAN</td>\n",
       "      <td>154/87</td>\n",
       "      <td>2018</td>\n",
       "      <td>154</td>\n",
       "      <td>87</td>\n",
       "    </tr>\n",
       "    <tr>\n",
       "      <th>92211</th>\n",
       "      <td>MNANZAKG</td>\n",
       "      <td>150/84</td>\n",
       "      <td>2017</td>\n",
       "      <td>150</td>\n",
       "      <td>84</td>\n",
       "    </tr>\n",
       "    <tr>\n",
       "      <th>115826</th>\n",
       "      <td>MNAODHZZ</td>\n",
       "      <td>168/93</td>\n",
       "      <td>2019</td>\n",
       "      <td>168</td>\n",
       "      <td>93</td>\n",
       "    </tr>\n",
       "  </tbody>\n",
       "</table>\n",
       "</div>"
      ],
      "text/plain": [
       "       Deidentified_Pat_ID      BP  RecordedYear  bp_high  bp_low\n",
       "55590             MGVKKNZN  120/78          2018      120      78\n",
       "60324             MGVNDNAK  102/66          2019      102      66\n",
       "103211            MNAAOKVG  136/80          2017      136      80\n",
       "36829             MNADDANN  134/98          2017      134      98\n",
       "88480             MNADOVKN  139/95          2016      139      95\n",
       "43822             MNADZOHA  138/88          2017      138      88\n",
       "155783            MNAGDKZZ  132/68          2017      132      68\n",
       "115513            MNANKNAN  154/87          2018      154      87\n",
       "92211             MNANZAKG  150/84          2017      150      84\n",
       "115826            MNAODHZZ  168/93          2019      168      93"
      ]
     },
     "execution_count": 107,
     "metadata": {},
     "output_type": "execute_result"
    }
   ],
   "source": [
    "single_data1 = data_pd.drop_duplicates([\"Deidentified_Pat_ID\"], keep='last')\n",
    "single_data1.head(n=10)"
   ]
  },
  {
   "cell_type": "code",
   "execution_count": 108,
   "metadata": {},
   "outputs": [
    {
     "data": {
      "text/plain": [
       "(6157, 5)"
      ]
     },
     "execution_count": 108,
     "metadata": {},
     "output_type": "execute_result"
    }
   ],
   "source": [
    "single_data1.shape"
   ]
  },
  {
   "cell_type": "code",
   "execution_count": 109,
   "metadata": {},
   "outputs": [],
   "source": [
    "single_data1.to_csv(bp_file_p, index=False)"
   ]
  },
  {
   "cell_type": "code",
   "execution_count": 110,
   "metadata": {},
   "outputs": [
    {
     "data": {
      "text/plain": [
       "Deidentified_Pat_ID    ZZZZZTV\n",
       "BP                       98/60\n",
       "RecordedYear              2019\n",
       "bp_high                    430\n",
       "bp_low                     148\n",
       "dtype: object"
      ]
     },
     "execution_count": 110,
     "metadata": {},
     "output_type": "execute_result"
    }
   ],
   "source": [
    "single_data1.max()"
   ]
  },
  {
   "cell_type": "code",
   "execution_count": 111,
   "metadata": {},
   "outputs": [
    {
     "data": {
      "text/html": [
       "<div>\n",
       "<style scoped>\n",
       "    .dataframe tbody tr th:only-of-type {\n",
       "        vertical-align: middle;\n",
       "    }\n",
       "\n",
       "    .dataframe tbody tr th {\n",
       "        vertical-align: top;\n",
       "    }\n",
       "\n",
       "    .dataframe thead th {\n",
       "        text-align: right;\n",
       "    }\n",
       "</style>\n",
       "<table border=\"1\" class=\"dataframe\">\n",
       "  <thead>\n",
       "    <tr style=\"text-align: right;\">\n",
       "      <th></th>\n",
       "      <th>RecordedYear</th>\n",
       "      <th>bp_high</th>\n",
       "      <th>bp_low</th>\n",
       "    </tr>\n",
       "  </thead>\n",
       "  <tbody>\n",
       "    <tr>\n",
       "      <th>count</th>\n",
       "      <td>6157.000000</td>\n",
       "      <td>6157.000000</td>\n",
       "      <td>6157.000000</td>\n",
       "    </tr>\n",
       "    <tr>\n",
       "      <th>mean</th>\n",
       "      <td>2016.841156</td>\n",
       "      <td>144.323372</td>\n",
       "      <td>82.390287</td>\n",
       "    </tr>\n",
       "    <tr>\n",
       "      <th>std</th>\n",
       "      <td>1.515603</td>\n",
       "      <td>19.612106</td>\n",
       "      <td>11.606942</td>\n",
       "    </tr>\n",
       "    <tr>\n",
       "      <th>min</th>\n",
       "      <td>2014.000000</td>\n",
       "      <td>90.000000</td>\n",
       "      <td>8.000000</td>\n",
       "    </tr>\n",
       "    <tr>\n",
       "      <th>25%</th>\n",
       "      <td>2016.000000</td>\n",
       "      <td>131.000000</td>\n",
       "      <td>74.000000</td>\n",
       "    </tr>\n",
       "    <tr>\n",
       "      <th>50%</th>\n",
       "      <td>2017.000000</td>\n",
       "      <td>140.000000</td>\n",
       "      <td>82.000000</td>\n",
       "    </tr>\n",
       "    <tr>\n",
       "      <th>75%</th>\n",
       "      <td>2018.000000</td>\n",
       "      <td>156.000000</td>\n",
       "      <td>90.000000</td>\n",
       "    </tr>\n",
       "    <tr>\n",
       "      <th>max</th>\n",
       "      <td>2019.000000</td>\n",
       "      <td>430.000000</td>\n",
       "      <td>148.000000</td>\n",
       "    </tr>\n",
       "  </tbody>\n",
       "</table>\n",
       "</div>"
      ],
      "text/plain": [
       "       RecordedYear      bp_high       bp_low\n",
       "count   6157.000000  6157.000000  6157.000000\n",
       "mean    2016.841156   144.323372    82.390287\n",
       "std        1.515603    19.612106    11.606942\n",
       "min     2014.000000    90.000000     8.000000\n",
       "25%     2016.000000   131.000000    74.000000\n",
       "50%     2017.000000   140.000000    82.000000\n",
       "75%     2018.000000   156.000000    90.000000\n",
       "max     2019.000000   430.000000   148.000000"
      ]
     },
     "execution_count": 111,
     "metadata": {},
     "output_type": "execute_result"
    }
   ],
   "source": [
    "single_data1.describe()"
   ]
  },
  {
   "cell_type": "code",
   "execution_count": 113,
   "metadata": {},
   "outputs": [
    {
     "data": {
      "image/png": "[encoded data removed]",
      "text/plain": [
       "<Figure size 576x504 with 1 Axes>"
      ]
     },
     "metadata": {},
     "output_type": "display_data"
    }
   ],
   "source": [
    "sns.set_style(\"white\")\n",
    "sns.set_color_codes(palette='deep')\n",
    "f, ax = plt.subplots(figsize=(8, 7))\n",
    "#Check the new distribution \n",
    "sns.distplot(single_data1['bp_high'], color=\"b\");\n",
    "ax.xaxis.grid(False)\n",
    "ax.set(ylabel=\"Frequency\")\n",
    "ax.set(xlabel=\"bp_high\")\n",
    "ax.set(title=\"Bp high distribution\")\n",
    "sns.despine(trim=True, left=True)\n",
    "plt.show()"
   ]
  },
  {
   "cell_type": "code",
   "execution_count": 123,
   "metadata": {},
   "outputs": [
    {
     "data": {
      "image/png": "[encoded data removed]",
      "text/plain": [
       "<Figure size 576x504 with 1 Axes>"
      ]
     },
     "metadata": {},
     "output_type": "display_data"
    }
   ],
   "source": [
    "sns.set_style(\"white\")\n",
    "sns.set_color_codes(palette='deep')\n",
    "f, ax = plt.subplots(figsize=(8, 7))\n",
    "#Check the new distribution \n",
    "sns.distplot(single_data1['bp_low'], color=\"b\");\n",
    "ax.xaxis.grid(False)\n",
    "ax.set(ylabel=\"Frequency\")\n",
    "ax.set(xlabel=\"bp_low\")\n",
    "ax.set(title=\"Bp low distribution\")\n",
    "sns.despine(trim=True, left=True)\n",
    "plt.show()"
   ]
  },
  {
   "cell_type": "code",
   "execution_count": 115,
   "metadata": {},
   "outputs": [
    {
     "data": {
      "text/plain": [
       "3"
      ]
     },
     "execution_count": 115,
     "metadata": {},
     "output_type": "execute_result"
    }
   ],
   "source": [
    "len(single_data1[single_data1[\"bp_high\"]>300])"
   ]
  },
  {
   "cell_type": "code",
   "execution_count": null,
   "metadata": {},
   "outputs": [],
   "source": []
  },
  {
   "cell_type": "code",
   "execution_count": 116,
   "metadata": {},
   "outputs": [],
   "source": [
    "data_pd_less_200  = data_pd[data_pd['bp_high']<230]"
   ]
  },
  {
   "cell_type": "code",
   "execution_count": 117,
   "metadata": {},
   "outputs": [
    {
     "data": {
      "text/html": [
       "<div>\n",
       "<style scoped>\n",
       "    .dataframe tbody tr th:only-of-type {\n",
       "        vertical-align: middle;\n",
       "    }\n",
       "\n",
       "    .dataframe tbody tr th {\n",
       "        vertical-align: top;\n",
       "    }\n",
       "\n",
       "    .dataframe thead th {\n",
       "        text-align: right;\n",
       "    }\n",
       "</style>\n",
       "<table border=\"1\" class=\"dataframe\">\n",
       "  <thead>\n",
       "    <tr style=\"text-align: right;\">\n",
       "      <th></th>\n",
       "      <th>Deidentified_Pat_ID</th>\n",
       "      <th>BP</th>\n",
       "      <th>RecordedYear</th>\n",
       "      <th>bp_high</th>\n",
       "      <th>bp_low</th>\n",
       "    </tr>\n",
       "  </thead>\n",
       "  <tbody>\n",
       "    <tr>\n",
       "      <th>55590</th>\n",
       "      <td>MGVKKNZN</td>\n",
       "      <td>120/78</td>\n",
       "      <td>2018</td>\n",
       "      <td>120</td>\n",
       "      <td>78</td>\n",
       "    </tr>\n",
       "    <tr>\n",
       "      <th>60324</th>\n",
       "      <td>MGVNDNAK</td>\n",
       "      <td>102/66</td>\n",
       "      <td>2019</td>\n",
       "      <td>102</td>\n",
       "      <td>66</td>\n",
       "    </tr>\n",
       "    <tr>\n",
       "      <th>172627</th>\n",
       "      <td>MNAAOKVG</td>\n",
       "      <td>112/68</td>\n",
       "      <td>2019</td>\n",
       "      <td>112</td>\n",
       "      <td>68</td>\n",
       "    </tr>\n",
       "    <tr>\n",
       "      <th>39828</th>\n",
       "      <td>MNAAOKVG</td>\n",
       "      <td>122/82</td>\n",
       "      <td>2017</td>\n",
       "      <td>122</td>\n",
       "      <td>82</td>\n",
       "    </tr>\n",
       "    <tr>\n",
       "      <th>42932</th>\n",
       "      <td>MNAAOKVG</td>\n",
       "      <td>124/76</td>\n",
       "      <td>2017</td>\n",
       "      <td>124</td>\n",
       "      <td>76</td>\n",
       "    </tr>\n",
       "    <tr>\n",
       "      <th>26359</th>\n",
       "      <td>MNAAOKVG</td>\n",
       "      <td>126/88</td>\n",
       "      <td>2016</td>\n",
       "      <td>126</td>\n",
       "      <td>88</td>\n",
       "    </tr>\n",
       "    <tr>\n",
       "      <th>103211</th>\n",
       "      <td>MNAAOKVG</td>\n",
       "      <td>136/80</td>\n",
       "      <td>2017</td>\n",
       "      <td>136</td>\n",
       "      <td>80</td>\n",
       "    </tr>\n",
       "    <tr>\n",
       "      <th>116398</th>\n",
       "      <td>MNADDANN</td>\n",
       "      <td>116/88</td>\n",
       "      <td>2019</td>\n",
       "      <td>116</td>\n",
       "      <td>88</td>\n",
       "    </tr>\n",
       "    <tr>\n",
       "      <th>58727</th>\n",
       "      <td>MNADDANN</td>\n",
       "      <td>124/92</td>\n",
       "      <td>2018</td>\n",
       "      <td>124</td>\n",
       "      <td>92</td>\n",
       "    </tr>\n",
       "    <tr>\n",
       "      <th>118604</th>\n",
       "      <td>MNADDANN</td>\n",
       "      <td>124/76</td>\n",
       "      <td>2019</td>\n",
       "      <td>124</td>\n",
       "      <td>76</td>\n",
       "    </tr>\n",
       "  </tbody>\n",
       "</table>\n",
       "</div>"
      ],
      "text/plain": [
       "       Deidentified_Pat_ID      BP  RecordedYear  bp_high  bp_low\n",
       "55590             MGVKKNZN  120/78          2018      120      78\n",
       "60324             MGVNDNAK  102/66          2019      102      66\n",
       "172627            MNAAOKVG  112/68          2019      112      68\n",
       "39828             MNAAOKVG  122/82          2017      122      82\n",
       "42932             MNAAOKVG  124/76          2017      124      76\n",
       "26359             MNAAOKVG  126/88          2016      126      88\n",
       "103211            MNAAOKVG  136/80          2017      136      80\n",
       "116398            MNADDANN  116/88          2019      116      88\n",
       "58727             MNADDANN  124/92          2018      124      92\n",
       "118604            MNADDANN  124/76          2019      124      76"
      ]
     },
     "execution_count": 117,
     "metadata": {},
     "output_type": "execute_result"
    }
   ],
   "source": [
    "data_pd_less_200.sort_values([\"Deidentified_Pat_ID\",\"bp_high\"], inplace=True)\n",
    "data_pd_less_200.head(n=10)\n"
   ]
  },
  {
   "cell_type": "code",
   "execution_count": 118,
   "metadata": {},
   "outputs": [
    {
     "data": {
      "text/html": [
       "<div>\n",
       "<style scoped>\n",
       "    .dataframe tbody tr th:only-of-type {\n",
       "        vertical-align: middle;\n",
       "    }\n",
       "\n",
       "    .dataframe tbody tr th {\n",
       "        vertical-align: top;\n",
       "    }\n",
       "\n",
       "    .dataframe thead th {\n",
       "        text-align: right;\n",
       "    }\n",
       "</style>\n",
       "<table border=\"1\" class=\"dataframe\">\n",
       "  <thead>\n",
       "    <tr style=\"text-align: right;\">\n",
       "      <th></th>\n",
       "      <th>Deidentified_Pat_ID</th>\n",
       "      <th>BP</th>\n",
       "      <th>RecordedYear</th>\n",
       "      <th>bp_high</th>\n",
       "      <th>bp_low</th>\n",
       "    </tr>\n",
       "  </thead>\n",
       "  <tbody>\n",
       "    <tr>\n",
       "      <th>55590</th>\n",
       "      <td>MGVKKNZN</td>\n",
       "      <td>120/78</td>\n",
       "      <td>2018</td>\n",
       "      <td>120</td>\n",
       "      <td>78</td>\n",
       "    </tr>\n",
       "    <tr>\n",
       "      <th>60324</th>\n",
       "      <td>MGVNDNAK</td>\n",
       "      <td>102/66</td>\n",
       "      <td>2019</td>\n",
       "      <td>102</td>\n",
       "      <td>66</td>\n",
       "    </tr>\n",
       "    <tr>\n",
       "      <th>103211</th>\n",
       "      <td>MNAAOKVG</td>\n",
       "      <td>136/80</td>\n",
       "      <td>2017</td>\n",
       "      <td>136</td>\n",
       "      <td>80</td>\n",
       "    </tr>\n",
       "    <tr>\n",
       "      <th>36829</th>\n",
       "      <td>MNADDANN</td>\n",
       "      <td>134/98</td>\n",
       "      <td>2017</td>\n",
       "      <td>134</td>\n",
       "      <td>98</td>\n",
       "    </tr>\n",
       "    <tr>\n",
       "      <th>88480</th>\n",
       "      <td>MNADOVKN</td>\n",
       "      <td>139/95</td>\n",
       "      <td>2016</td>\n",
       "      <td>139</td>\n",
       "      <td>95</td>\n",
       "    </tr>\n",
       "    <tr>\n",
       "      <th>43822</th>\n",
       "      <td>MNADZOHA</td>\n",
       "      <td>138/88</td>\n",
       "      <td>2017</td>\n",
       "      <td>138</td>\n",
       "      <td>88</td>\n",
       "    </tr>\n",
       "    <tr>\n",
       "      <th>155783</th>\n",
       "      <td>MNAGDKZZ</td>\n",
       "      <td>132/68</td>\n",
       "      <td>2017</td>\n",
       "      <td>132</td>\n",
       "      <td>68</td>\n",
       "    </tr>\n",
       "    <tr>\n",
       "      <th>115513</th>\n",
       "      <td>MNANKNAN</td>\n",
       "      <td>154/87</td>\n",
       "      <td>2018</td>\n",
       "      <td>154</td>\n",
       "      <td>87</td>\n",
       "    </tr>\n",
       "    <tr>\n",
       "      <th>92211</th>\n",
       "      <td>MNANZAKG</td>\n",
       "      <td>150/84</td>\n",
       "      <td>2017</td>\n",
       "      <td>150</td>\n",
       "      <td>84</td>\n",
       "    </tr>\n",
       "    <tr>\n",
       "      <th>115826</th>\n",
       "      <td>MNAODHZZ</td>\n",
       "      <td>168/93</td>\n",
       "      <td>2019</td>\n",
       "      <td>168</td>\n",
       "      <td>93</td>\n",
       "    </tr>\n",
       "  </tbody>\n",
       "</table>\n",
       "</div>"
      ],
      "text/plain": [
       "       Deidentified_Pat_ID      BP  RecordedYear  bp_high  bp_low\n",
       "55590             MGVKKNZN  120/78          2018      120      78\n",
       "60324             MGVNDNAK  102/66          2019      102      66\n",
       "103211            MNAAOKVG  136/80          2017      136      80\n",
       "36829             MNADDANN  134/98          2017      134      98\n",
       "88480             MNADOVKN  139/95          2016      139      95\n",
       "43822             MNADZOHA  138/88          2017      138      88\n",
       "155783            MNAGDKZZ  132/68          2017      132      68\n",
       "115513            MNANKNAN  154/87          2018      154      87\n",
       "92211             MNANZAKG  150/84          2017      150      84\n",
       "115826            MNAODHZZ  168/93          2019      168      93"
      ]
     },
     "execution_count": 118,
     "metadata": {},
     "output_type": "execute_result"
    }
   ],
   "source": [
    "data_pd_less_200_1 = data_pd_less_200.drop_duplicates([\"Deidentified_Pat_ID\"], keep='last')\n",
    "data_pd_less_200_1.head(n=10)"
   ]
  },
  {
   "cell_type": "code",
   "execution_count": 119,
   "metadata": {},
   "outputs": [
    {
     "data": {
      "text/html": [
       "<div>\n",
       "<style scoped>\n",
       "    .dataframe tbody tr th:only-of-type {\n",
       "        vertical-align: middle;\n",
       "    }\n",
       "\n",
       "    .dataframe tbody tr th {\n",
       "        vertical-align: top;\n",
       "    }\n",
       "\n",
       "    .dataframe thead th {\n",
       "        text-align: right;\n",
       "    }\n",
       "</style>\n",
       "<table border=\"1\" class=\"dataframe\">\n",
       "  <thead>\n",
       "    <tr style=\"text-align: right;\">\n",
       "      <th></th>\n",
       "      <th>RecordedYear</th>\n",
       "      <th>bp_high</th>\n",
       "      <th>bp_low</th>\n",
       "    </tr>\n",
       "  </thead>\n",
       "  <tbody>\n",
       "    <tr>\n",
       "      <th>count</th>\n",
       "      <td>6157.000000</td>\n",
       "      <td>6157.000000</td>\n",
       "      <td>6157.000000</td>\n",
       "    </tr>\n",
       "    <tr>\n",
       "      <th>mean</th>\n",
       "      <td>2016.842131</td>\n",
       "      <td>144.162742</td>\n",
       "      <td>82.390775</td>\n",
       "    </tr>\n",
       "    <tr>\n",
       "      <th>std</th>\n",
       "      <td>1.515276</td>\n",
       "      <td>18.551480</td>\n",
       "      <td>11.594975</td>\n",
       "    </tr>\n",
       "    <tr>\n",
       "      <th>min</th>\n",
       "      <td>2014.000000</td>\n",
       "      <td>90.000000</td>\n",
       "      <td>8.000000</td>\n",
       "    </tr>\n",
       "    <tr>\n",
       "      <th>25%</th>\n",
       "      <td>2016.000000</td>\n",
       "      <td>131.000000</td>\n",
       "      <td>74.000000</td>\n",
       "    </tr>\n",
       "    <tr>\n",
       "      <th>50%</th>\n",
       "      <td>2017.000000</td>\n",
       "      <td>140.000000</td>\n",
       "      <td>82.000000</td>\n",
       "    </tr>\n",
       "    <tr>\n",
       "      <th>75%</th>\n",
       "      <td>2018.000000</td>\n",
       "      <td>156.000000</td>\n",
       "      <td>90.000000</td>\n",
       "    </tr>\n",
       "    <tr>\n",
       "      <th>max</th>\n",
       "      <td>2019.000000</td>\n",
       "      <td>228.000000</td>\n",
       "      <td>148.000000</td>\n",
       "    </tr>\n",
       "  </tbody>\n",
       "</table>\n",
       "</div>"
      ],
      "text/plain": [
       "       RecordedYear      bp_high       bp_low\n",
       "count   6157.000000  6157.000000  6157.000000\n",
       "mean    2016.842131   144.162742    82.390775\n",
       "std        1.515276    18.551480    11.594975\n",
       "min     2014.000000    90.000000     8.000000\n",
       "25%     2016.000000   131.000000    74.000000\n",
       "50%     2017.000000   140.000000    82.000000\n",
       "75%     2018.000000   156.000000    90.000000\n",
       "max     2019.000000   228.000000   148.000000"
      ]
     },
     "execution_count": 119,
     "metadata": {},
     "output_type": "execute_result"
    }
   ],
   "source": [
    "data_pd_less_200_1.describe()"
   ]
  },
  {
   "cell_type": "code",
   "execution_count": 120,
   "metadata": {},
   "outputs": [
    {
     "data": {
      "text/plain": [
       "6157"
      ]
     },
     "execution_count": 120,
     "metadata": {},
     "output_type": "execute_result"
    }
   ],
   "source": [
    "len(data_pd_less_200_1)"
   ]
  },
  {
   "cell_type": "code",
   "execution_count": 121,
   "metadata": {},
   "outputs": [
    {
     "data": {
      "image/png": "[encoded data removed]",
      "text/plain": [
       "<Figure size 576x504 with 1 Axes>"
      ]
     },
     "metadata": {},
     "output_type": "display_data"
    }
   ],
   "source": [
    "sns.set_style(\"white\")\n",
    "sns.set_color_codes(palette='deep')\n",
    "f, ax = plt.subplots(figsize=(8, 7))\n",
    "#Check the new distribution \n",
    "sns.distplot(data_pd_less_200_1['bp_high'], color=\"b\");\n",
    "ax.xaxis.grid(False)\n",
    "ax.set(ylabel=\"Frequency\")\n",
    "ax.set(xlabel=\"bp_high\")\n",
    "ax.set(title=\"Bp distribution\")\n",
    "sns.despine(trim=True, left=True)\n",
    "plt.show()"
   ]
  },
  {
   "cell_type": "code",
   "execution_count": 32,
   "metadata": {},
   "outputs": [],
   "source": [
    "data_pd_less_200_1.to_csv(bp_file_p, index=False)"
   ]
  },
  {
   "cell_type": "code",
   "execution_count": 124,
   "metadata": {},
   "outputs": [
    {
     "data": {
      "image/png": "[encoded data removed]",
      "text/plain": [
       "<Figure size 576x504 with 1 Axes>"
      ]
     },
     "metadata": {},
     "output_type": "display_data"
    }
   ],
   "source": [
    "sns.set_style(\"white\")\n",
    "sns.set_color_codes(palette='deep')\n",
    "f, ax = plt.subplots(figsize=(8, 7))\n",
    "#Check the new distribution \n",
    "sns.distplot(data_pd_less_200_1['bp_low'], color=\"b\");\n",
    "ax.xaxis.grid(False)\n",
    "ax.set(ylabel=\"Frequency\")\n",
    "ax.set(xlabel=\"bp_low\")\n",
    "ax.set(title=\"Bp low distribution\")\n",
    "sns.despine(trim=True, left=True)\n",
    "plt.show()"
   ]
  },
  {
   "cell_type": "code",
   "execution_count": null,
   "metadata": {},
   "outputs": [],
   "source": []
  }
 ],
 "metadata": {
  "kernelspec": {
   "display_name": "Python 3",
   "language": "python",
   "name": "python3"
  },
  "language_info": {
   "codemirror_mode": {
    "name": "ipython",
    "version": 3
   },
   "file_extension": ".py",
   "mimetype": "text/x-python",
   "name": "python",
   "nbconvert_exporter": "python",
   "pygments_lexer": "ipython3",
   "version": "3.7.3"
  }
 },
 "nbformat": 4,
 "nbformat_minor": 2
}
