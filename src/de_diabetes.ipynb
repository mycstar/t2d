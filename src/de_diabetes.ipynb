{
 "cells": [
  {
   "cell_type": "code",
   "execution_count": 28,
   "metadata": {},
   "outputs": [],
   "source": [
    "# Essentials\n",
    "import numpy as np\n",
    "import pandas as pd\n",
    "import datetime\n",
    "import random\n",
    "import configparser\n",
    "# Plots\n",
    "import seaborn as sns\n",
    "import matplotlib.pyplot as plt"
   ]
  },
  {
   "cell_type": "markdown",
   "metadata": {},
   "source": [
    "# compare doctor diagnosis record  and the result base on some test index"
   ]
  },
  {
   "cell_type": "code",
   "execution_count": 29,
   "metadata": {},
   "outputs": [],
   "source": [
    "config = configparser.ConfigParser()\n",
    "config.sections()\n",
    "config.read('config.ini')\n",
    "\n",
    "bp_file =config['DEFAULT']['T2DDX_p']\n",
    "feature_max_p =config['DEFAULT']['feature_max']\n",
    "\n",
    "t2ddx_pd = pd.read_csv(bp_file)\n",
    "feature_pd = pd.read_csv(feature_max_p)"
   ]
  },
  {
   "cell_type": "code",
   "execution_count": 30,
   "metadata": {},
   "outputs": [
    {
     "data": {
      "text/plain": [
       "((188, 6), (3910, 24))"
      ]
     },
     "execution_count": 30,
     "metadata": {},
     "output_type": "execute_result"
    }
   ],
   "source": [
    "t2ddx_pd.shape, feature_pd.shape"
   ]
  },
  {
   "cell_type": "code",
   "execution_count": 31,
   "metadata": {},
   "outputs": [
    {
     "data": {
      "text/html": [
       "<div>\n",
       "<style scoped>\n",
       "    .dataframe tbody tr th:only-of-type {\n",
       "        vertical-align: middle;\n",
       "    }\n",
       "\n",
       "    .dataframe tbody tr th {\n",
       "        vertical-align: top;\n",
       "    }\n",
       "\n",
       "    .dataframe thead th {\n",
       "        text-align: right;\n",
       "    }\n",
       "</style>\n",
       "<table border=\"1\" class=\"dataframe\">\n",
       "  <thead>\n",
       "    <tr style=\"text-align: right;\">\n",
       "      <th></th>\n",
       "      <th>Deidentified_Pat_ID</th>\n",
       "      <th>Weight</th>\n",
       "      <th>Height</th>\n",
       "      <th>BMI</th>\n",
       "      <th>gender</th>\n",
       "      <th>age</th>\n",
       "      <th>ethnicity</th>\n",
       "      <th>race</th>\n",
       "      <th>family_diabetes_type</th>\n",
       "      <th>bp_high</th>\n",
       "      <th>...</th>\n",
       "      <th>a1c</th>\n",
       "      <th>gulcose</th>\n",
       "      <th>Fasting?</th>\n",
       "      <th>GLUCOSE 1 HR</th>\n",
       "      <th>GLUCOSE 2 HR</th>\n",
       "      <th>GLUCOSE 3 HR</th>\n",
       "      <th>GLUCOSE FASTING</th>\n",
       "      <th>HEMOLYSIS INDEX</th>\n",
       "      <th>ICTERIC INDEX</th>\n",
       "      <th>LIPEMIC INDEX</th>\n",
       "    </tr>\n",
       "  </thead>\n",
       "  <tbody>\n",
       "    <tr>\n",
       "      <th>0</th>\n",
       "      <td>MGVKKNZN</td>\n",
       "      <td>2320.0</td>\n",
       "      <td>23.41</td>\n",
       "      <td>66.000</td>\n",
       "      <td>0.0</td>\n",
       "      <td>60.0</td>\n",
       "      <td>3.0</td>\n",
       "      <td>7.0</td>\n",
       "      <td>NaN</td>\n",
       "      <td>120.0</td>\n",
       "      <td>...</td>\n",
       "      <td>NaN</td>\n",
       "      <td>NaN</td>\n",
       "      <td>NaN</td>\n",
       "      <td>NaN</td>\n",
       "      <td>NaN</td>\n",
       "      <td>NaN</td>\n",
       "      <td>NaN</td>\n",
       "      <td>NaN</td>\n",
       "      <td>NaN</td>\n",
       "      <td>NaN</td>\n",
       "    </tr>\n",
       "    <tr>\n",
       "      <th>1</th>\n",
       "      <td>MNAOGDAK</td>\n",
       "      <td>3376.0</td>\n",
       "      <td>29.44</td>\n",
       "      <td>70.984</td>\n",
       "      <td>0.0</td>\n",
       "      <td>41.0</td>\n",
       "      <td>3.0</td>\n",
       "      <td>7.0</td>\n",
       "      <td>NaN</td>\n",
       "      <td>156.0</td>\n",
       "      <td>...</td>\n",
       "      <td>NaN</td>\n",
       "      <td>108.0</td>\n",
       "      <td>NaN</td>\n",
       "      <td>NaN</td>\n",
       "      <td>NaN</td>\n",
       "      <td>NaN</td>\n",
       "      <td>NaN</td>\n",
       "      <td>NaN</td>\n",
       "      <td>NaN</td>\n",
       "      <td>NaN</td>\n",
       "    </tr>\n",
       "    <tr>\n",
       "      <th>2</th>\n",
       "      <td>MNAZGATG</td>\n",
       "      <td>3340.8</td>\n",
       "      <td>29.13</td>\n",
       "      <td>71.000</td>\n",
       "      <td>0.0</td>\n",
       "      <td>67.0</td>\n",
       "      <td>3.0</td>\n",
       "      <td>7.0</td>\n",
       "      <td>NaN</td>\n",
       "      <td>128.0</td>\n",
       "      <td>...</td>\n",
       "      <td>NaN</td>\n",
       "      <td>NaN</td>\n",
       "      <td>NaN</td>\n",
       "      <td>NaN</td>\n",
       "      <td>NaN</td>\n",
       "      <td>NaN</td>\n",
       "      <td>NaN</td>\n",
       "      <td>NaN</td>\n",
       "      <td>NaN</td>\n",
       "      <td>NaN</td>\n",
       "    </tr>\n",
       "    <tr>\n",
       "      <th>3</th>\n",
       "      <td>MNGDNAOA</td>\n",
       "      <td>4268.8</td>\n",
       "      <td>43.08</td>\n",
       "      <td>66.000</td>\n",
       "      <td>1.0</td>\n",
       "      <td>55.0</td>\n",
       "      <td>3.0</td>\n",
       "      <td>7.0</td>\n",
       "      <td>NaN</td>\n",
       "      <td>152.0</td>\n",
       "      <td>...</td>\n",
       "      <td>NaN</td>\n",
       "      <td>99.0</td>\n",
       "      <td>NaN</td>\n",
       "      <td>NaN</td>\n",
       "      <td>NaN</td>\n",
       "      <td>NaN</td>\n",
       "      <td>NaN</td>\n",
       "      <td>NaN</td>\n",
       "      <td>NaN</td>\n",
       "      <td>NaN</td>\n",
       "    </tr>\n",
       "    <tr>\n",
       "      <th>4</th>\n",
       "      <td>MNGGAADT</td>\n",
       "      <td>3539.2</td>\n",
       "      <td>30.86</td>\n",
       "      <td>71.000</td>\n",
       "      <td>0.0</td>\n",
       "      <td>62.0</td>\n",
       "      <td>3.0</td>\n",
       "      <td>7.0</td>\n",
       "      <td>NaN</td>\n",
       "      <td>152.0</td>\n",
       "      <td>...</td>\n",
       "      <td>5.8</td>\n",
       "      <td>112.0</td>\n",
       "      <td>No</td>\n",
       "      <td>NaN</td>\n",
       "      <td>NaN</td>\n",
       "      <td>NaN</td>\n",
       "      <td>NaN</td>\n",
       "      <td>NaN</td>\n",
       "      <td>NaN</td>\n",
       "      <td>NaN</td>\n",
       "    </tr>\n",
       "  </tbody>\n",
       "</table>\n",
       "<p>5 rows × 24 columns</p>\n",
       "</div>"
      ],
      "text/plain": [
       "  Deidentified_Pat_ID  Weight  Height     BMI  gender   age  ethnicity  race  \\\n",
       "0            MGVKKNZN  2320.0   23.41  66.000     0.0  60.0        3.0   7.0   \n",
       "1            MNAOGDAK  3376.0   29.44  70.984     0.0  41.0        3.0   7.0   \n",
       "2            MNAZGATG  3340.8   29.13  71.000     0.0  67.0        3.0   7.0   \n",
       "3            MNGDNAOA  4268.8   43.08  66.000     1.0  55.0        3.0   7.0   \n",
       "4            MNGGAADT  3539.2   30.86  71.000     0.0  62.0        3.0   7.0   \n",
       "\n",
       "   family_diabetes_type  bp_high  ...  a1c  gulcose  Fasting?  GLUCOSE 1 HR  \\\n",
       "0                   NaN    120.0  ...  NaN      NaN       NaN           NaN   \n",
       "1                   NaN    156.0  ...  NaN    108.0       NaN           NaN   \n",
       "2                   NaN    128.0  ...  NaN      NaN       NaN           NaN   \n",
       "3                   NaN    152.0  ...  NaN     99.0       NaN           NaN   \n",
       "4                   NaN    152.0  ...  5.8    112.0        No           NaN   \n",
       "\n",
       "   GLUCOSE 2 HR  GLUCOSE 3 HR GLUCOSE FASTING  HEMOLYSIS INDEX  ICTERIC INDEX  \\\n",
       "0           NaN           NaN             NaN              NaN            NaN   \n",
       "1           NaN           NaN             NaN              NaN            NaN   \n",
       "2           NaN           NaN             NaN              NaN            NaN   \n",
       "3           NaN           NaN             NaN              NaN            NaN   \n",
       "4           NaN           NaN             NaN              NaN            NaN   \n",
       "\n",
       "   LIPEMIC INDEX  \n",
       "0            NaN  \n",
       "1            NaN  \n",
       "2            NaN  \n",
       "3            NaN  \n",
       "4            NaN  \n",
       "\n",
       "[5 rows x 24 columns]"
      ]
     },
     "execution_count": 31,
     "metadata": {},
     "output_type": "execute_result"
    }
   ],
   "source": [
    "feature_pd.head()"
   ]
  },
  {
   "cell_type": "markdown",
   "metadata": {},
   "source": [
    "# check how many record exist in both table3\n"
   ]
  },
  {
   "cell_type": "code",
   "execution_count": 32,
   "metadata": {},
   "outputs": [
    {
     "data": {
      "text/html": [
       "<div>\n",
       "<style scoped>\n",
       "    .dataframe tbody tr th:only-of-type {\n",
       "        vertical-align: middle;\n",
       "    }\n",
       "\n",
       "    .dataframe tbody tr th {\n",
       "        vertical-align: top;\n",
       "    }\n",
       "\n",
       "    .dataframe thead th {\n",
       "        text-align: right;\n",
       "    }\n",
       "</style>\n",
       "<table border=\"1\" class=\"dataframe\">\n",
       "  <thead>\n",
       "    <tr style=\"text-align: right;\">\n",
       "      <th></th>\n",
       "      <th>Deidentified_Pat_ID</th>\n",
       "      <th>NotedYear</th>\n",
       "      <th>dx_name</th>\n",
       "      <th>CURRENT_ICD10_LIST</th>\n",
       "      <th>Age of T2D onset</th>\n",
       "      <th>PregnantAtDX?</th>\n",
       "      <th>Weight</th>\n",
       "      <th>Height</th>\n",
       "      <th>BMI</th>\n",
       "      <th>gender</th>\n",
       "      <th>...</th>\n",
       "      <th>gulcose</th>\n",
       "      <th>Fasting?</th>\n",
       "      <th>GLUCOSE 1 HR</th>\n",
       "      <th>GLUCOSE 2 HR</th>\n",
       "      <th>GLUCOSE 3 HR</th>\n",
       "      <th>GLUCOSE FASTING</th>\n",
       "      <th>HEMOLYSIS INDEX</th>\n",
       "      <th>ICTERIC INDEX</th>\n",
       "      <th>LIPEMIC INDEX</th>\n",
       "      <th>_merge</th>\n",
       "    </tr>\n",
       "  </thead>\n",
       "  <tbody>\n",
       "    <tr>\n",
       "      <th>0</th>\n",
       "      <td>MNOAZATN</td>\n",
       "      <td>2018.0</td>\n",
       "      <td>Type 2 diabetes mellitus without complication,...</td>\n",
       "      <td>E11.9</td>\n",
       "      <td>57.0</td>\n",
       "      <td>NaN</td>\n",
       "      <td>NaN</td>\n",
       "      <td>NaN</td>\n",
       "      <td>NaN</td>\n",
       "      <td>0.0</td>\n",
       "      <td>...</td>\n",
       "      <td>126.0</td>\n",
       "      <td>Yes</td>\n",
       "      <td>NaN</td>\n",
       "      <td>NaN</td>\n",
       "      <td>NaN</td>\n",
       "      <td>NaN</td>\n",
       "      <td>NaN</td>\n",
       "      <td>NaN</td>\n",
       "      <td>NaN</td>\n",
       "      <td>both</td>\n",
       "    </tr>\n",
       "    <tr>\n",
       "      <th>1</th>\n",
       "      <td>ZAKVZZZ</td>\n",
       "      <td>2017.0</td>\n",
       "      <td>Type 2 diabetes mellitus without complication,...</td>\n",
       "      <td>E11.9</td>\n",
       "      <td>81.0</td>\n",
       "      <td>NaN</td>\n",
       "      <td>NaN</td>\n",
       "      <td>NaN</td>\n",
       "      <td>NaN</td>\n",
       "      <td>0.0</td>\n",
       "      <td>...</td>\n",
       "      <td>172.0</td>\n",
       "      <td>Yes</td>\n",
       "      <td>NaN</td>\n",
       "      <td>NaN</td>\n",
       "      <td>NaN</td>\n",
       "      <td>NaN</td>\n",
       "      <td>NaN</td>\n",
       "      <td>NaN</td>\n",
       "      <td>NaN</td>\n",
       "      <td>both</td>\n",
       "    </tr>\n",
       "    <tr>\n",
       "      <th>2</th>\n",
       "      <td>ZAVKHOT</td>\n",
       "      <td>2015.0</td>\n",
       "      <td>Type 2 diabetes mellitus (HCC)</td>\n",
       "      <td>E11.9</td>\n",
       "      <td>49.0</td>\n",
       "      <td>NaN</td>\n",
       "      <td>NaN</td>\n",
       "      <td>NaN</td>\n",
       "      <td>NaN</td>\n",
       "      <td>NaN</td>\n",
       "      <td>...</td>\n",
       "      <td>NaN</td>\n",
       "      <td>NaN</td>\n",
       "      <td>NaN</td>\n",
       "      <td>NaN</td>\n",
       "      <td>NaN</td>\n",
       "      <td>NaN</td>\n",
       "      <td>NaN</td>\n",
       "      <td>NaN</td>\n",
       "      <td>NaN</td>\n",
       "      <td>left_only</td>\n",
       "    </tr>\n",
       "    <tr>\n",
       "      <th>3</th>\n",
       "      <td>ZDADNTZ</td>\n",
       "      <td>2017.0</td>\n",
       "      <td>Type 2 diabetes mellitus without complication,...</td>\n",
       "      <td>E11.9</td>\n",
       "      <td>58.0</td>\n",
       "      <td>NaN</td>\n",
       "      <td>3926.4</td>\n",
       "      <td>NaN</td>\n",
       "      <td>67.0</td>\n",
       "      <td>0.0</td>\n",
       "      <td>...</td>\n",
       "      <td>204.0</td>\n",
       "      <td>Yes</td>\n",
       "      <td>NaN</td>\n",
       "      <td>NaN</td>\n",
       "      <td>NaN</td>\n",
       "      <td>NaN</td>\n",
       "      <td>NaN</td>\n",
       "      <td>NaN</td>\n",
       "      <td>NaN</td>\n",
       "      <td>both</td>\n",
       "    </tr>\n",
       "    <tr>\n",
       "      <th>4</th>\n",
       "      <td>ZDAGOHAG</td>\n",
       "      <td>2015.0</td>\n",
       "      <td>Controlled diabetes mellitus type II without c...</td>\n",
       "      <td>E11.9</td>\n",
       "      <td>62.0</td>\n",
       "      <td>NaN</td>\n",
       "      <td>NaN</td>\n",
       "      <td>NaN</td>\n",
       "      <td>NaN</td>\n",
       "      <td>0.0</td>\n",
       "      <td>...</td>\n",
       "      <td>204.0</td>\n",
       "      <td>NaN</td>\n",
       "      <td>NaN</td>\n",
       "      <td>NaN</td>\n",
       "      <td>NaN</td>\n",
       "      <td>NaN</td>\n",
       "      <td>NaN</td>\n",
       "      <td>NaN</td>\n",
       "      <td>NaN</td>\n",
       "      <td>both</td>\n",
       "    </tr>\n",
       "  </tbody>\n",
       "</table>\n",
       "<p>5 rows × 30 columns</p>\n",
       "</div>"
      ],
      "text/plain": [
       "  Deidentified_Pat_ID  NotedYear  \\\n",
       "0            MNOAZATN     2018.0   \n",
       "1             ZAKVZZZ     2017.0   \n",
       "2             ZAVKHOT     2015.0   \n",
       "3             ZDADNTZ     2017.0   \n",
       "4            ZDAGOHAG     2015.0   \n",
       "\n",
       "                                             dx_name CURRENT_ICD10_LIST  \\\n",
       "0  Type 2 diabetes mellitus without complication,...              E11.9   \n",
       "1  Type 2 diabetes mellitus without complication,...              E11.9   \n",
       "2                     Type 2 diabetes mellitus (HCC)              E11.9   \n",
       "3  Type 2 diabetes mellitus without complication,...              E11.9   \n",
       "4  Controlled diabetes mellitus type II without c...              E11.9   \n",
       "\n",
       "   Age of T2D onset  PregnantAtDX?  Weight  Height   BMI  gender  ...  \\\n",
       "0              57.0            NaN     NaN     NaN   NaN     0.0  ...   \n",
       "1              81.0            NaN     NaN     NaN   NaN     0.0  ...   \n",
       "2              49.0            NaN     NaN     NaN   NaN     NaN  ...   \n",
       "3              58.0            NaN  3926.4     NaN  67.0     0.0  ...   \n",
       "4              62.0            NaN     NaN     NaN   NaN     0.0  ...   \n",
       "\n",
       "   gulcose  Fasting?  GLUCOSE 1 HR  GLUCOSE 2 HR  GLUCOSE 3 HR  \\\n",
       "0    126.0       Yes           NaN           NaN           NaN   \n",
       "1    172.0       Yes           NaN           NaN           NaN   \n",
       "2      NaN       NaN           NaN           NaN           NaN   \n",
       "3    204.0       Yes           NaN           NaN           NaN   \n",
       "4    204.0       NaN           NaN           NaN           NaN   \n",
       "\n",
       "   GLUCOSE FASTING  HEMOLYSIS INDEX  ICTERIC INDEX  LIPEMIC INDEX     _merge  \n",
       "0              NaN              NaN            NaN            NaN       both  \n",
       "1              NaN              NaN            NaN            NaN       both  \n",
       "2              NaN              NaN            NaN            NaN  left_only  \n",
       "3              NaN              NaN            NaN            NaN       both  \n",
       "4              NaN              NaN            NaN            NaN       both  \n",
       "\n",
       "[5 rows x 30 columns]"
      ]
     },
     "execution_count": 32,
     "metadata": {},
     "output_type": "execute_result"
    }
   ],
   "source": [
    "raw_match = pd.merge(t2ddx_pd, feature_pd, how='outer',on='Deidentified_Pat_ID', indicator=True)\n",
    "raw_match.head()"
   ]
  },
  {
   "cell_type": "code",
   "execution_count": 33,
   "metadata": {},
   "outputs": [
    {
     "data": {
      "text/plain": [
       "(3968, 30)"
      ]
     },
     "execution_count": 33,
     "metadata": {},
     "output_type": "execute_result"
    }
   ],
   "source": [
    "raw_match.shape"
   ]
  },
  {
   "cell_type": "code",
   "execution_count": 34,
   "metadata": {},
   "outputs": [
    {
     "data": {
      "text/plain": [
       "(58, 30)"
      ]
     },
     "execution_count": 34,
     "metadata": {},
     "output_type": "execute_result"
    }
   ],
   "source": [
    "raw_match[raw_match['_merge']=='left_only'].shape"
   ]
  },
  {
   "cell_type": "markdown",
   "metadata": {},
   "source": [
    "# both exist records "
   ]
  },
  {
   "cell_type": "code",
   "execution_count": 35,
   "metadata": {},
   "outputs": [
    {
     "data": {
      "text/plain": [
       "(130, 30)"
      ]
     },
     "execution_count": 35,
     "metadata": {},
     "output_type": "execute_result"
    }
   ],
   "source": [
    "both_exist = raw_match[raw_match['_merge']=='both']\n",
    "both_exist.shape"
   ]
  },
  {
   "cell_type": "code",
   "execution_count": 36,
   "metadata": {},
   "outputs": [
    {
     "data": {
      "text/plain": [
       "(128, 30)"
      ]
     },
     "execution_count": 36,
     "metadata": {},
     "output_type": "execute_result"
    }
   ],
   "source": [
    "both_exist_notna = both_exist[both_exist['a1c'].notna()]\n",
    "both_exist_notna.shape"
   ]
  },
  {
   "cell_type": "code",
   "execution_count": 37,
   "metadata": {},
   "outputs": [
    {
     "data": {
      "text/plain": [
       "array(['Controlled diabetes mellitus type II without complication (HCC)',\n",
       "       'Controlled type 2 diabetes mellitus without complication (HCC)',\n",
       "       'Controlled type 2 diabetes mellitus without complication, with long-term current use of insulin (HCC)',\n",
       "       'Controlled type 2 diabetes mellitus without complication, without long-term current use of insulin (HCC)',\n",
       "       'DM (diabetes mellitus) (HCC)',\n",
       "       'DM II (diabetes mellitus, type II), controlled (HCC)',\n",
       "       'DM type 2, goal HbA1c 7%-8% (HCC)', 'Diabetes mellitus (HCC)',\n",
       "       'Diabetes mellitus type 2 in nonobese (HCC)',\n",
       "       'Diabetes mellitus type 2 without retinopathy (HCC)',\n",
       "       'Diabetes mellitus type 2, insulin dependent (HCC)',\n",
       "       'Diabetes mellitus, type 2 (HCC)',\n",
       "       'Diabetes mellitus, type II (HCC)',\n",
       "       'Diabetes type 2, controlled (HCC)',\n",
       "       'New onset type 2 diabetes mellitus (HCC)',\n",
       "       'Type 2 diabetes mellitus (HCC)',\n",
       "       'Type 2 diabetes mellitus with hemoglobin A1c goal of less than 7.5% (HCC)',\n",
       "       'Type 2 diabetes mellitus with hemoglobin A1c goal of less than 8.0% (HCC)',\n",
       "       'Type 2 diabetes mellitus without complication (HCC)',\n",
       "       'Type 2 diabetes mellitus without complication, with long-term current use of insulin (HCC)',\n",
       "       'Type 2 diabetes mellitus without complication, without long-term current use of insulin (HCC)',\n",
       "       'Type 2 diabetes mellitus without ophthalmic manifestations (HCC)',\n",
       "       'Type 2 diabetes mellitus, controlled (HCC)'], dtype=object)"
      ]
     },
     "execution_count": 37,
     "metadata": {},
     "output_type": "execute_result"
    }
   ],
   "source": [
    "pd.Series(both_exist_notna[\"dx_name\"].tolist()).sort_values().unique()"
   ]
  },
  {
   "cell_type": "code",
   "execution_count": 38,
   "metadata": {},
   "outputs": [
    {
     "data": {
      "text/plain": [
       "1"
      ]
     },
     "execution_count": 38,
     "metadata": {},
     "output_type": "execute_result"
    }
   ],
   "source": [
    "len(both_exist_notna[both_exist_notna['dx_name']=='DM (diabetes mellitus) (HCC)'])"
   ]
  },
  {
   "cell_type": "markdown",
   "metadata": {},
   "source": []
  },
  {
   "cell_type": "code",
   "execution_count": 39,
   "metadata": {},
   "outputs": [
    {
     "data": {
      "image/png": "[encoded data removed]",
      "text/plain": [
       "<Figure size 576x504 with 1 Axes>"
      ]
     },
     "metadata": {},
     "output_type": "display_data"
    }
   ],
   "source": [
    "sns.set_style(\"white\")\n",
    "sns.set_color_codes(palette='deep')\n",
    "f, ax = plt.subplots(figsize=(8, 7))\n",
    "#Check the new distribution \n",
    "sns.distplot(both_exist_notna['a1c'], color=\"b\");\n",
    "ax.xaxis.grid(False)\n",
    "ax.set(ylabel=\"Frequency\")\n",
    "ax.set(xlabel=\"a1c\")\n",
    "ax.set(title=\"a1c distribution\")\n",
    "sns.despine(trim=True, left=True)\n",
    "plt.show()"
   ]
  },
  {
   "cell_type": "code",
   "execution_count": 40,
   "metadata": {},
   "outputs": [
    {
     "ename": "NameError",
     "evalue": "name 'both_exit_notna' is not defined",
     "output_type": "error",
     "traceback": [
      "\u001b[0;31m---------------------------------------------------------------------------\u001b[0m",
      "\u001b[0;31mNameError\u001b[0m                                 Traceback (most recent call last)",
      "\u001b[0;32m<ipython-input-40-11a27933e5d2>\u001b[0m in \u001b[0;36m<module>\u001b[0;34m\u001b[0m\n\u001b[0;32m----> 1\u001b[0;31m \u001b[0mboth_exit_notna\u001b[0m\u001b[0;34m.\u001b[0m\u001b[0mpivot_table\u001b[0m\u001b[0;34m(\u001b[0m\u001b[0mindex\u001b[0m\u001b[0;34m=\u001b[0m\u001b[0;34m[\u001b[0m\u001b[0;34m'a1c'\u001b[0m\u001b[0;34m]\u001b[0m\u001b[0;34m,\u001b[0m \u001b[0maggfunc\u001b[0m\u001b[0;34m=\u001b[0m\u001b[0;34m'size'\u001b[0m\u001b[0;34m)\u001b[0m\u001b[0;34m\u001b[0m\u001b[0;34m\u001b[0m\u001b[0m\n\u001b[0m",
      "\u001b[0;31mNameError\u001b[0m: name 'both_exit_notna' is not defined"
     ]
    }
   ],
   "source": [
    "both_exit_notna.pivot_table(index=['a1c'], aggfunc='size')"
   ]
  },
  {
   "cell_type": "markdown",
   "metadata": {},
   "source": [
    "# # so in both table exist 130 records, 2 records a1c is nan, 2 records is a1c <5.7, 126 records a1c>5.7"
   ]
  },
  {
   "cell_type": "markdown",
   "metadata": {},
   "source": [
    "# result base on a1c test, "
   ]
  },
  {
   "cell_type": "code",
   "execution_count": null,
   "metadata": {},
   "outputs": [],
   "source": []
  },
  {
   "cell_type": "code",
   "execution_count": null,
   "metadata": {},
   "outputs": [],
   "source": [
    "a1c_de = feature_pd[feature_pd['a1c']>5.7]\n",
    "a1c_de.shape"
   ]
  },
  {
   "cell_type": "code",
   "execution_count": null,
   "metadata": {},
   "outputs": [],
   "source": [
    "match_dt = pd.merge(t2ddx_pd, a1c_de, how='inner', on='Deidentified_Pat_ID')\n",
    "match_dt.shape"
   ]
  },
  {
   "cell_type": "code",
   "execution_count": null,
   "metadata": {},
   "outputs": [],
   "source": [
    "res_match = pd.merge(t2ddx_pd, match_dt[['Deidentified_Pat_ID']], how='outer',on='Deidentified_Pat_ID', indicator=True)\n",
    "res_match.head()"
   ]
  },
  {
   "cell_type": "code",
   "execution_count": null,
   "metadata": {},
   "outputs": [],
   "source": [
    "res_match.pivot_table(index=['_merge'], aggfunc='size')"
   ]
  },
  {
   "cell_type": "markdown",
   "metadata": {},
   "source": [
    "# check the sample number in "
   ]
  },
  {
   "cell_type": "code",
   "execution_count": null,
   "metadata": {},
   "outputs": [],
   "source": [
    "raw_match.shape"
   ]
  },
  {
   "cell_type": "code",
   "execution_count": null,
   "metadata": {},
   "outputs": [],
   "source": []
  },
  {
   "cell_type": "code",
   "execution_count": null,
   "metadata": {},
   "outputs": [],
   "source": []
  }
 ],
 "metadata": {
  "kernelspec": {
   "display_name": "Python 3",
   "language": "python",
   "name": "python3"
  },
  "language_info": {
   "codemirror_mode": {
    "name": "ipython",
    "version": 3
   },
   "file_extension": ".py",
   "mimetype": "text/x-python",
   "name": "python",
   "nbconvert_exporter": "python",
   "pygments_lexer": "ipython3",
   "version": "3.6.9"
  }
 },
 "nbformat": 4,
 "nbformat_minor": 2
}
