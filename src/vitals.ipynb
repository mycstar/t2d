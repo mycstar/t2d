{
 "cells": [
  {
   "cell_type": "code",
   "execution_count": 722,
   "metadata": {},
   "outputs": [],
   "source": [
    "# Essentials\n",
    "import numpy as np\n",
    "import pandas as pd\n",
    "import datetime\n",
    "import random\n",
    "import configparser\n",
    "\n",
    "# Plots\n",
    "import seaborn as sns\n",
    "import matplotlib.pyplot as plt\n",
    "\n",
    "# Models\n",
    "from sklearn.ensemble import RandomForestRegressor, GradientBoostingRegressor, AdaBoostRegressor, BaggingRegressor\n",
    "from sklearn.kernel_ridge import KernelRidge\n",
    "from sklearn.linear_model import Ridge, RidgeCV\n",
    "from sklearn.linear_model import ElasticNet, ElasticNetCV\n",
    "from sklearn.svm import SVR\n",
    "from mlxtend.regressor import StackingCVRegressor\n",
    "import lightgbm as lgb\n",
    "from lightgbm import LGBMRegressor\n",
    "from xgboost import XGBRegressor\n",
    "\n",
    "# Stats\n",
    "from scipy.stats import skew, norm\n",
    "from scipy.special import boxcox1p\n",
    "from scipy.stats import boxcox_normmax\n",
    "\n",
    "# Misc\n",
    "from sklearn.model_selection import GridSearchCV\n",
    "from sklearn.model_selection import KFold, cross_val_score\n",
    "from sklearn.metrics import mean_squared_error\n",
    "from sklearn.preprocessing import OneHotEncoder\n",
    "from sklearn.preprocessing import LabelEncoder\n",
    "from sklearn.pipeline import make_pipeline\n",
    "from sklearn.preprocessing import scale\n",
    "from sklearn.preprocessing import StandardScaler\n",
    "from sklearn.preprocessing import RobustScaler\n",
    "from sklearn.decomposition import PCA\n",
    "from pandas.plotting import scatter_matrix\n",
    "\n",
    "\n",
    "pd.set_option('display.max_columns', None)\n",
    "\n",
    "# Ignore useless warnings\n",
    "import warnings\n",
    "warnings.filterwarnings(action=\"ignore\")\n",
    "pd.options.display.max_seq_items = 8000\n",
    "pd.options.display.max_rows = 8000"
   ]
  },
  {
   "cell_type": "code",
   "execution_count": 723,
   "metadata": {},
   "outputs": [],
   "source": [
    "config = configparser.ConfigParser()\n",
    "config.sections()\n",
    "config.read('config.ini')\n",
    "\n",
    "bp_file =config['DEFAULT']['Vitals']\n",
    "bp_file_p =config['DEFAULT']['Vitals_p']"
   ]
  },
  {
   "cell_type": "code",
   "execution_count": 724,
   "metadata": {},
   "outputs": [],
   "source": [
    "data_pd = pd.read_csv(bp_file, sep='|')\n",
    "#data_pd['WeightYear'] = data_pd['WeightYear'].astype('category')\n",
    "#data_pd['HeightYear'] = data_pd['HeightYear'].astype('category')\n",
    "#data_pd['BMIYear'] = data_pd['BMIYear'].astype('category')"
   ]
  },
  {
   "cell_type": "code",
   "execution_count": 725,
   "metadata": {},
   "outputs": [
    {
     "data": {
      "text/plain": [
       "(149216, 6157)"
      ]
     },
     "execution_count": 725,
     "metadata": {},
     "output_type": "execute_result"
    }
   ],
   "source": [
    "len(data_pd), len(pd.Series(data_pd[\"Deidentified_Pat_ID\"].tolist()).sort_values().unique())"
   ]
  },
  {
   "cell_type": "code",
   "execution_count": 726,
   "metadata": {},
   "outputs": [
    {
     "data": {
      "text/html": [
       "<div>\n",
       "<style scoped>\n",
       "    .dataframe tbody tr th:only-of-type {\n",
       "        vertical-align: middle;\n",
       "    }\n",
       "\n",
       "    .dataframe tbody tr th {\n",
       "        vertical-align: top;\n",
       "    }\n",
       "\n",
       "    .dataframe thead th {\n",
       "        text-align: right;\n",
       "    }\n",
       "</style>\n",
       "<table border=\"1\" class=\"dataframe\">\n",
       "  <thead>\n",
       "    <tr style=\"text-align: right;\">\n",
       "      <th></th>\n",
       "      <th>Deidentified_Pat_ID</th>\n",
       "      <th>Weight</th>\n",
       "      <th>WeightYear</th>\n",
       "      <th>Height</th>\n",
       "      <th>HeightYear</th>\n",
       "      <th>BMI</th>\n",
       "      <th>BMIYear</th>\n",
       "    </tr>\n",
       "  </thead>\n",
       "  <tbody>\n",
       "    <tr>\n",
       "      <th>0</th>\n",
       "      <td>MNGVDHTH</td>\n",
       "      <td>2700.8</td>\n",
       "      <td>2019.0</td>\n",
       "      <td>28.54</td>\n",
       "      <td>2019.0</td>\n",
       "      <td>64.50</td>\n",
       "      <td>2019.0</td>\n",
       "    </tr>\n",
       "    <tr>\n",
       "      <th>1</th>\n",
       "      <td>MNGVDHTH</td>\n",
       "      <td>2688.0</td>\n",
       "      <td>2019.0</td>\n",
       "      <td>NaN</td>\n",
       "      <td>NaN</td>\n",
       "      <td>NaN</td>\n",
       "      <td>NaN</td>\n",
       "    </tr>\n",
       "    <tr>\n",
       "      <th>2</th>\n",
       "      <td>MNOZVONA</td>\n",
       "      <td>3609.6</td>\n",
       "      <td>2018.0</td>\n",
       "      <td>NaN</td>\n",
       "      <td>NaN</td>\n",
       "      <td>NaN</td>\n",
       "      <td>NaN</td>\n",
       "    </tr>\n",
       "    <tr>\n",
       "      <th>3</th>\n",
       "      <td>MNOZVONA</td>\n",
       "      <td>3798.4</td>\n",
       "      <td>2018.0</td>\n",
       "      <td>31.98</td>\n",
       "      <td>2018.0</td>\n",
       "      <td>72.25</td>\n",
       "      <td>2018.0</td>\n",
       "    </tr>\n",
       "    <tr>\n",
       "      <th>4</th>\n",
       "      <td>MNOGADHT</td>\n",
       "      <td>3532.8</td>\n",
       "      <td>2019.0</td>\n",
       "      <td>NaN</td>\n",
       "      <td>NaN</td>\n",
       "      <td>NaN</td>\n",
       "      <td>NaN</td>\n",
       "    </tr>\n",
       "  </tbody>\n",
       "</table>\n",
       "</div>"
      ],
      "text/plain": [
       "  Deidentified_Pat_ID  Weight  WeightYear  Height  HeightYear    BMI  BMIYear\n",
       "0            MNGVDHTH  2700.8      2019.0   28.54      2019.0  64.50   2019.0\n",
       "1            MNGVDHTH  2688.0      2019.0     NaN         NaN    NaN      NaN\n",
       "2            MNOZVONA  3609.6      2018.0     NaN         NaN    NaN      NaN\n",
       "3            MNOZVONA  3798.4      2018.0   31.98      2018.0  72.25   2018.0\n",
       "4            MNOGADHT  3532.8      2019.0     NaN         NaN    NaN      NaN"
      ]
     },
     "execution_count": 726,
     "metadata": {},
     "output_type": "execute_result"
    }
   ],
   "source": [
    "data_pd.head()"
   ]
  },
  {
   "cell_type": "code",
   "execution_count": 727,
   "metadata": {},
   "outputs": [
    {
     "data": {
      "text/html": [
       "<div>\n",
       "<style scoped>\n",
       "    .dataframe tbody tr th:only-of-type {\n",
       "        vertical-align: middle;\n",
       "    }\n",
       "\n",
       "    .dataframe tbody tr th {\n",
       "        vertical-align: top;\n",
       "    }\n",
       "\n",
       "    .dataframe thead th {\n",
       "        text-align: right;\n",
       "    }\n",
       "</style>\n",
       "<table border=\"1\" class=\"dataframe\">\n",
       "  <thead>\n",
       "    <tr style=\"text-align: right;\">\n",
       "      <th></th>\n",
       "      <th>Weight</th>\n",
       "      <th>WeightYear</th>\n",
       "      <th>Height</th>\n",
       "      <th>HeightYear</th>\n",
       "      <th>BMI</th>\n",
       "      <th>BMIYear</th>\n",
       "    </tr>\n",
       "  </thead>\n",
       "  <tbody>\n",
       "    <tr>\n",
       "      <th>count</th>\n",
       "      <td>148064.000000</td>\n",
       "      <td>148524.000000</td>\n",
       "      <td>61206.000000</td>\n",
       "      <td>61240.000000</td>\n",
       "      <td>62755.000000</td>\n",
       "      <td>62945.000000</td>\n",
       "    </tr>\n",
       "    <tr>\n",
       "      <th>mean</th>\n",
       "      <td>3154.165605</td>\n",
       "      <td>2016.603391</td>\n",
       "      <td>31.221951</td>\n",
       "      <td>2016.367342</td>\n",
       "      <td>66.904205</td>\n",
       "      <td>2016.355723</td>\n",
       "    </tr>\n",
       "    <tr>\n",
       "      <th>std</th>\n",
       "      <td>798.711721</td>\n",
       "      <td>1.486311</td>\n",
       "      <td>39.531164</td>\n",
       "      <td>1.485234</td>\n",
       "      <td>3.812227</td>\n",
       "      <td>1.484317</td>\n",
       "    </tr>\n",
       "    <tr>\n",
       "      <th>min</th>\n",
       "      <td>185.600000</td>\n",
       "      <td>2013.000000</td>\n",
       "      <td>2.480000</td>\n",
       "      <td>2014.000000</td>\n",
       "      <td>5.250000</td>\n",
       "      <td>2014.000000</td>\n",
       "    </tr>\n",
       "    <tr>\n",
       "      <th>25%</th>\n",
       "      <td>2592.000000</td>\n",
       "      <td>2015.000000</td>\n",
       "      <td>25.870000</td>\n",
       "      <td>2015.000000</td>\n",
       "      <td>64.000000</td>\n",
       "      <td>2015.000000</td>\n",
       "    </tr>\n",
       "    <tr>\n",
       "      <th>50%</th>\n",
       "      <td>3059.210000</td>\n",
       "      <td>2017.000000</td>\n",
       "      <td>29.750000</td>\n",
       "      <td>2016.000000</td>\n",
       "      <td>66.500000</td>\n",
       "      <td>2016.000000</td>\n",
       "    </tr>\n",
       "    <tr>\n",
       "      <th>75%</th>\n",
       "      <td>3600.000000</td>\n",
       "      <td>2018.000000</td>\n",
       "      <td>34.570000</td>\n",
       "      <td>2018.000000</td>\n",
       "      <td>69.500000</td>\n",
       "      <td>2018.000000</td>\n",
       "    </tr>\n",
       "    <tr>\n",
       "      <th>max</th>\n",
       "      <td>23580.800000</td>\n",
       "      <td>2019.000000</td>\n",
       "      <td>5378.200000</td>\n",
       "      <td>2019.000000</td>\n",
       "      <td>97.700000</td>\n",
       "      <td>2019.000000</td>\n",
       "    </tr>\n",
       "  </tbody>\n",
       "</table>\n",
       "</div>"
      ],
      "text/plain": [
       "              Weight     WeightYear        Height    HeightYear           BMI  \\\n",
       "count  148064.000000  148524.000000  61206.000000  61240.000000  62755.000000   \n",
       "mean     3154.165605    2016.603391     31.221951   2016.367342     66.904205   \n",
       "std       798.711721       1.486311     39.531164      1.485234      3.812227   \n",
       "min       185.600000    2013.000000      2.480000   2014.000000      5.250000   \n",
       "25%      2592.000000    2015.000000     25.870000   2015.000000     64.000000   \n",
       "50%      3059.210000    2017.000000     29.750000   2016.000000     66.500000   \n",
       "75%      3600.000000    2018.000000     34.570000   2018.000000     69.500000   \n",
       "max     23580.800000    2019.000000   5378.200000   2019.000000     97.700000   \n",
       "\n",
       "            BMIYear  \n",
       "count  62945.000000  \n",
       "mean    2016.355723  \n",
       "std        1.484317  \n",
       "min     2014.000000  \n",
       "25%     2015.000000  \n",
       "50%     2016.000000  \n",
       "75%     2018.000000  \n",
       "max     2019.000000  "
      ]
     },
     "execution_count": 727,
     "metadata": {},
     "output_type": "execute_result"
    }
   ],
   "source": [
    "data_pd.describe()"
   ]
  },
  {
   "cell_type": "code",
   "execution_count": 728,
   "metadata": {},
   "outputs": [
    {
     "data": {
      "text/plain": [
       "0.007720351704911001"
      ]
     },
     "execution_count": 728,
     "metadata": {},
     "output_type": "execute_result"
    }
   ],
   "source": [
    "weight_null = data_pd['Weight'].isna().mean()\n",
    "weight_null"
   ]
  },
  {
   "cell_type": "code",
   "execution_count": 729,
   "metadata": {},
   "outputs": [
    {
     "data": {
      "text/plain": [
       "0.007720351704911001"
      ]
     },
     "execution_count": 729,
     "metadata": {},
     "output_type": "execute_result"
    }
   ],
   "source": [
    "len(data_pd[data_pd['Weight'].isna()])/len(data_pd)"
   ]
  },
  {
   "cell_type": "code",
   "execution_count": 730,
   "metadata": {},
   "outputs": [
    {
     "data": {
      "text/plain": [
       "148064"
      ]
     },
     "execution_count": 730,
     "metadata": {},
     "output_type": "execute_result"
    }
   ],
   "source": [
    "len(data_pd[data_pd['Weight'].notna()])"
   ]
  },
  {
   "cell_type": "code",
   "execution_count": 731,
   "metadata": {},
   "outputs": [
    {
     "data": {
      "text/plain": [
       "0.9953624276217028"
      ]
     },
     "execution_count": 731,
     "metadata": {},
     "output_type": "execute_result"
    }
   ],
   "source": [
    "len(data_pd[data_pd['WeightYear'].notna()])/len(data_pd)"
   ]
  },
  {
   "cell_type": "code",
   "execution_count": 732,
   "metadata": {},
   "outputs": [
    {
     "data": {
      "text/plain": [
       "0.4101838944885267"
      ]
     },
     "execution_count": 732,
     "metadata": {},
     "output_type": "execute_result"
    }
   ],
   "source": [
    "len(data_pd[data_pd['Height'].notna()])/len(data_pd)"
   ]
  },
  {
   "cell_type": "code",
   "execution_count": 733,
   "metadata": {},
   "outputs": [
    {
     "data": {
      "text/plain": [
       "0.5794351812138109"
      ]
     },
     "execution_count": 733,
     "metadata": {},
     "output_type": "execute_result"
    }
   ],
   "source": [
    "len(data_pd[data_pd['BMI'].isna()])/len(data_pd)"
   ]
  },
  {
   "cell_type": "code",
   "execution_count": null,
   "metadata": {},
   "outputs": [],
   "source": []
  },
  {
   "cell_type": "code",
   "execution_count": 734,
   "metadata": {},
   "outputs": [
    {
     "data": {
      "text/plain": [
       "0.992279648295089"
      ]
     },
     "execution_count": 734,
     "metadata": {},
     "output_type": "execute_result"
    }
   ],
   "source": [
    "len(data_pd[data_pd['Weight'].notna()])/len(data_pd)"
   ]
  },
  {
   "cell_type": "code",
   "execution_count": 735,
   "metadata": {},
   "outputs": [
    {
     "data": {
      "text/plain": [
       "array([2013., 2014., 2015., 2016., 2017., 2018., 2019.,   nan])"
      ]
     },
     "execution_count": 735,
     "metadata": {},
     "output_type": "execute_result"
    }
   ],
   "source": [
    "pd.Series(data_pd[\"WeightYear\"].tolist()).sort_values().unique()"
   ]
  },
  {
   "cell_type": "code",
   "execution_count": 736,
   "metadata": {},
   "outputs": [
    {
     "data": {
      "text/plain": [
       "<matplotlib.axes._subplots.AxesSubplot at 0x7f3adc654160>"
      ]
     },
     "execution_count": 736,
     "metadata": {},
     "output_type": "execute_result"
    },
    {
     "data": {
      "image/png": "[encoded data removed]",
      "text/plain": [
       "<Figure size 432x288 with 1 Axes>"
      ]
     },
     "metadata": {},
     "output_type": "display_data"
    }
   ],
   "source": [
    "data_pd.boxplot(column=['Weight'])"
   ]
  },
  {
   "cell_type": "code",
   "execution_count": null,
   "metadata": {},
   "outputs": [],
   "source": []
  },
  {
   "cell_type": "code",
   "execution_count": 737,
   "metadata": {},
   "outputs": [
    {
     "data": {
      "text/plain": [
       "<matplotlib.axes._subplots.AxesSubplot at 0x7f3adc701278>"
      ]
     },
     "execution_count": 737,
     "metadata": {},
     "output_type": "execute_result"
    },
    {
     "data": {
      "image/png": "[encoded data removed]",
      "text/plain": [
       "<Figure size 432x288 with 1 Axes>"
      ]
     },
     "metadata": {},
     "output_type": "display_data"
    }
   ],
   "source": [
    "data_pd.boxplot(column=['Height'])"
   ]
  },
  {
   "cell_type": "code",
   "execution_count": 738,
   "metadata": {},
   "outputs": [
    {
     "data": {
      "text/plain": [
       "<matplotlib.axes._subplots.AxesSubplot at 0x7f3adc726f60>"
      ]
     },
     "execution_count": 738,
     "metadata": {},
     "output_type": "execute_result"
    },
    {
     "data": {
      "image/png": "[encoded data removed]",
      "text/plain": [
       "<Figure size 432x288 with 1 Axes>"
      ]
     },
     "metadata": {},
     "output_type": "display_data"
    }
   ],
   "source": [
    "data_pd.boxplot(column=['BMI'])"
   ]
  },
  {
   "cell_type": "code",
   "execution_count": 739,
   "metadata": {},
   "outputs": [
    {
     "data": {
      "text/plain": [
       "array([[<matplotlib.axes._subplots.AxesSubplot object at 0x7f3adc6d9828>,\n",
       "        <matplotlib.axes._subplots.AxesSubplot object at 0x7f3adc6f33c8>],\n",
       "       [<matplotlib.axes._subplots.AxesSubplot object at 0x7f3adc697160>,\n",
       "        <matplotlib.axes._subplots.AxesSubplot object at 0x7f3adc6b5a90>],\n",
       "       [<matplotlib.axes._subplots.AxesSubplot object at 0x7f3adc61a4a8>,\n",
       "        <matplotlib.axes._subplots.AxesSubplot object at 0x7f3adc63fbe0>]],\n",
       "      dtype=object)"
      ]
     },
     "execution_count": 739,
     "metadata": {},
     "output_type": "execute_result"
    },
    {
     "data": {
      "image/png": "[encoded data removed]",
      "text/plain": [
       "<Figure size 576x576 with 6 Axes>"
      ]
     },
     "metadata": {},
     "output_type": "display_data"
    }
   ],
   "source": [
    "data_pd.hist(xlabelsize=8,ylabelsize=8,figsize=(8,8))"
   ]
  },
  {
   "cell_type": "code",
   "execution_count": null,
   "metadata": {},
   "outputs": [],
   "source": []
  },
  {
   "cell_type": "code",
   "execution_count": 740,
   "metadata": {},
   "outputs": [
    {
     "data": {
      "text/plain": [
       "<matplotlib.axes._subplots.AxesSubplot at 0x7f3add0f9198>"
      ]
     },
     "execution_count": 740,
     "metadata": {},
     "output_type": "execute_result"
    },
    {
     "data": {
      "image/png": "[encoded data removed]",
      "text/plain": [
       "<Figure size 432x288 with 1 Axes>"
      ]
     },
     "metadata": {},
     "output_type": "display_data"
    }
   ],
   "source": [
    "data_pd.plot.scatter(y='Height', x='HeightYear')"
   ]
  },
  {
   "cell_type": "code",
   "execution_count": 741,
   "metadata": {},
   "outputs": [
    {
     "data": {
      "text/plain": [
       "<matplotlib.axes._subplots.AxesSubplot at 0x7f3adce4c898>"
      ]
     },
     "execution_count": 741,
     "metadata": {},
     "output_type": "execute_result"
    },
    {
     "data": {
      "image/png": "[encoded data removed]",
      "text/plain": [
       "<Figure size 432x288 with 1 Axes>"
      ]
     },
     "metadata": {},
     "output_type": "display_data"
    }
   ],
   "source": [
    "data_pd.plot.scatter(y='BMI', x='BMIYear')"
   ]
  },
  {
   "cell_type": "code",
   "execution_count": 742,
   "metadata": {},
   "outputs": [
    {
     "data": {
      "text/plain": [
       "<matplotlib.axes._subplots.AxesSubplot at 0x7f3adce60240>"
      ]
     },
     "execution_count": 742,
     "metadata": {},
     "output_type": "execute_result"
    },
    {
     "data": {
      "image/png": "[encoded data removed]",
      "text/plain": [
       "<Figure size 432x288 with 1 Axes>"
      ]
     },
     "metadata": {},
     "output_type": "display_data"
    }
   ],
   "source": [
    "data_pd.plot.scatter(y='Weight', x='WeightYear')"
   ]
  },
  {
   "cell_type": "code",
   "execution_count": 743,
   "metadata": {},
   "outputs": [
    {
     "data": {
      "text/plain": [
       "array([[<matplotlib.axes._subplots.AxesSubplot object at 0x7f3add167668>,\n",
       "        <matplotlib.axes._subplots.AxesSubplot object at 0x7f3adcb614e0>],\n",
       "       [<matplotlib.axes._subplots.AxesSubplot object at 0x7f3ad9060dd8>,\n",
       "        <matplotlib.axes._subplots.AxesSubplot object at 0x7f3adc641668>]],\n",
       "      dtype=object)"
      ]
     },
     "execution_count": 743,
     "metadata": {},
     "output_type": "execute_result"
    },
    {
     "data": {
      "image/png": "[encoded data removed]",
      "text/plain": [
       "<Figure size 432x432 with 4 Axes>"
      ]
     },
     "metadata": {},
     "output_type": "display_data"
    }
   ],
   "source": [
    "scatter_matrix(data_pd[['Weight','WeightYear']], alpha=0.2, figsize=(6, 6), diagonal='kde')"
   ]
  },
  {
   "cell_type": "code",
   "execution_count": 744,
   "metadata": {},
   "outputs": [
    {
     "data": {
      "text/plain": [
       "<matplotlib.axes._subplots.AxesSubplot at 0x7f3adc9d37b8>"
      ]
     },
     "execution_count": 744,
     "metadata": {},
     "output_type": "execute_result"
    },
    {
     "data": {
      "image/png": "[encoded data removed]",
      "text/plain": [
       "<Figure size 432x288 with 1 Axes>"
      ]
     },
     "metadata": {},
     "output_type": "display_data"
    }
   ],
   "source": [
    "data_pd['BMIYear'].value_counts().plot(kind='bar', title=\"BMIYear distribution\")"
   ]
  },
  {
   "cell_type": "code",
   "execution_count": null,
   "metadata": {},
   "outputs": [],
   "source": []
  },
  {
   "cell_type": "code",
   "execution_count": 745,
   "metadata": {},
   "outputs": [],
   "source": [
    "#ts = data_pd.cumsum()\n",
    "#ts.plot()"
   ]
  },
  {
   "cell_type": "code",
   "execution_count": null,
   "metadata": {},
   "outputs": [],
   "source": []
  },
  {
   "cell_type": "code",
   "execution_count": 746,
   "metadata": {},
   "outputs": [
    {
     "data": {
      "image/png": "[encoded data removed]",
      "text/plain": [
       "<Figure size 576x504 with 1 Axes>"
      ]
     },
     "metadata": {},
     "output_type": "display_data"
    }
   ],
   "source": [
    "weight_pd = data_pd[data_pd['Weight'].notna()]\n",
    "weight_pd1 = data_pd[(data_pd['Weight'].notna())&(data_pd['Weight']<10000)]\n",
    "sns.set_style(\"white\")\n",
    "sns.set_color_codes(palette='deep')\n",
    "f, ax = plt.subplots(figsize=(8, 7))\n",
    "#Check the new distribution \n",
    "sns.distplot(weight_pd1['Weight'], color=\"b\");\n",
    "ax.xaxis.grid(False)\n",
    "ax.set(ylabel=\"Frequency\")\n",
    "ax.set(xlabel=\"Weight\")\n",
    "ax.set(title=\"Weight distribution\")\n",
    "sns.despine(trim=True, left=True)\n",
    "plt.show()"
   ]
  },
  {
   "cell_type": "code",
   "execution_count": 747,
   "metadata": {},
   "outputs": [
    {
     "data": {
      "text/plain": [
       "<matplotlib.axes._subplots.AxesSubplot at 0x7f3adc5664a8>"
      ]
     },
     "execution_count": 747,
     "metadata": {},
     "output_type": "execute_result"
    },
    {
     "data": {
      "image/png": "[encoded data removed]",
      "text/plain": [
       "<Figure size 432x288 with 1 Axes>"
      ]
     },
     "metadata": {},
     "output_type": "display_data"
    }
   ],
   "source": [
    "sns.distplot(weight_pd[\"Weight\"], bins=16, color=\"b\")"
   ]
  },
  {
   "cell_type": "code",
   "execution_count": 748,
   "metadata": {},
   "outputs": [
    {
     "data": {
      "text/plain": [
       "<seaborn.axisgrid.JointGrid at 0x7f3adc726748>"
      ]
     },
     "execution_count": 748,
     "metadata": {},
     "output_type": "execute_result"
    },
    {
     "data": {
      "image/png": "[encoded data removed]",
      "text/plain": [
       "<Figure size 432x432 with 3 Axes>"
      ]
     },
     "metadata": {},
     "output_type": "display_data"
    }
   ],
   "source": [
    "sns.jointplot(y = \"Weight\", x = \"WeightYear\", data = weight_pd1, color=\"b\")"
   ]
  },
  {
   "cell_type": "code",
   "execution_count": 749,
   "metadata": {},
   "outputs": [
    {
     "data": {
      "image/png": "[encoded data removed]",
      "text/plain": [
       "<Figure size 576x504 with 1 Axes>"
      ]
     },
     "metadata": {},
     "output_type": "display_data"
    }
   ],
   "source": [
    "weight_pd = data_pd[data_pd['BMI'].notna()]\n",
    "sns.set_style(\"white\")\n",
    "sns.set_color_codes(palette='deep')\n",
    "f, ax = plt.subplots(figsize=(8, 7))\n",
    "#Check the new distribution \n",
    "sns.distplot(weight_pd['BMI'], color=\"b\");\n",
    "ax.xaxis.grid(False)\n",
    "ax.set(ylabel=\"Frequency\")\n",
    "ax.set(xlabel=\"BMI\")\n",
    "ax.set(title=\"BMI distribution\")\n",
    "sns.despine(trim=True, left=True)\n",
    "plt.show()"
   ]
  },
  {
   "cell_type": "code",
   "execution_count": null,
   "metadata": {},
   "outputs": [],
   "source": []
  },
  {
   "cell_type": "code",
   "execution_count": 750,
   "metadata": {},
   "outputs": [
    {
     "data": {
      "image/png": "[encoded data removed]",
      "text/plain": [
       "<Figure size 576x504 with 1 Axes>"
      ]
     },
     "metadata": {},
     "output_type": "display_data"
    }
   ],
   "source": [
    "weight_pd = data_pd[(data_pd['Height'].notna())&(data_pd['Height']<1000)]\n",
    "sns.set_style(\"white\")\n",
    "sns.set_color_codes(palette='deep')\n",
    "f, ax = plt.subplots(figsize=(8, 7))\n",
    "#Check the new distribution \n",
    "sns.distplot(weight_pd['Height'], color=\"b\");\n",
    "ax.xaxis.grid(False)\n",
    "ax.set(ylabel=\"Frequency\")\n",
    "ax.set(xlabel=\"Height\")\n",
    "ax.set(title=\"Height distribution\")\n",
    "sns.despine(trim=True, left=True)\n",
    "plt.show()"
   ]
  },
  {
   "cell_type": "code",
   "execution_count": 751,
   "metadata": {},
   "outputs": [
    {
     "data": {
      "text/html": [
       "<div>\n",
       "<style scoped>\n",
       "    .dataframe tbody tr th:only-of-type {\n",
       "        vertical-align: middle;\n",
       "    }\n",
       "\n",
       "    .dataframe tbody tr th {\n",
       "        vertical-align: top;\n",
       "    }\n",
       "\n",
       "    .dataframe thead th {\n",
       "        text-align: right;\n",
       "    }\n",
       "</style>\n",
       "<table border=\"1\" class=\"dataframe\">\n",
       "  <thead>\n",
       "    <tr style=\"text-align: right;\">\n",
       "      <th></th>\n",
       "      <th>Deidentified_Pat_ID</th>\n",
       "      <th>Weight</th>\n",
       "      <th>WeightYear</th>\n",
       "      <th>Height</th>\n",
       "      <th>HeightYear</th>\n",
       "      <th>BMI</th>\n",
       "      <th>BMIYear</th>\n",
       "    </tr>\n",
       "  </thead>\n",
       "  <tbody>\n",
       "    <tr>\n",
       "      <th>0</th>\n",
       "      <td>MNGVDHTH</td>\n",
       "      <td>2700.8</td>\n",
       "      <td>2019.0</td>\n",
       "      <td>28.54</td>\n",
       "      <td>2019.0</td>\n",
       "      <td>64.50</td>\n",
       "      <td>2019.0</td>\n",
       "    </tr>\n",
       "    <tr>\n",
       "      <th>1</th>\n",
       "      <td>MNGVDHTH</td>\n",
       "      <td>2688.0</td>\n",
       "      <td>2019.0</td>\n",
       "      <td>NaN</td>\n",
       "      <td>NaN</td>\n",
       "      <td>NaN</td>\n",
       "      <td>NaN</td>\n",
       "    </tr>\n",
       "    <tr>\n",
       "      <th>2</th>\n",
       "      <td>MNOZVONA</td>\n",
       "      <td>3609.6</td>\n",
       "      <td>2018.0</td>\n",
       "      <td>NaN</td>\n",
       "      <td>NaN</td>\n",
       "      <td>NaN</td>\n",
       "      <td>NaN</td>\n",
       "    </tr>\n",
       "    <tr>\n",
       "      <th>3</th>\n",
       "      <td>MNOZVONA</td>\n",
       "      <td>3798.4</td>\n",
       "      <td>2018.0</td>\n",
       "      <td>31.98</td>\n",
       "      <td>2018.0</td>\n",
       "      <td>72.25</td>\n",
       "      <td>2018.0</td>\n",
       "    </tr>\n",
       "    <tr>\n",
       "      <th>4</th>\n",
       "      <td>MNOGADHT</td>\n",
       "      <td>3532.8</td>\n",
       "      <td>2019.0</td>\n",
       "      <td>NaN</td>\n",
       "      <td>NaN</td>\n",
       "      <td>NaN</td>\n",
       "      <td>NaN</td>\n",
       "    </tr>\n",
       "  </tbody>\n",
       "</table>\n",
       "</div>"
      ],
      "text/plain": [
       "  Deidentified_Pat_ID  Weight  WeightYear  Height  HeightYear    BMI  BMIYear\n",
       "0            MNGVDHTH  2700.8      2019.0   28.54      2019.0  64.50   2019.0\n",
       "1            MNGVDHTH  2688.0      2019.0     NaN         NaN    NaN      NaN\n",
       "2            MNOZVONA  3609.6      2018.0     NaN         NaN    NaN      NaN\n",
       "3            MNOZVONA  3798.4      2018.0   31.98      2018.0  72.25   2018.0\n",
       "4            MNOGADHT  3532.8      2019.0     NaN         NaN    NaN      NaN"
      ]
     },
     "execution_count": 751,
     "metadata": {},
     "output_type": "execute_result"
    }
   ],
   "source": [
    "data_pd.head()"
   ]
  },
  {
   "cell_type": "code",
   "execution_count": 752,
   "metadata": {},
   "outputs": [
    {
     "name": "stdout",
     "output_type": "stream",
     "text": [
      "Percent of missing data\n"
     ]
    },
    {
     "data": {
      "text/plain": [
       "[('Height', 58.98),\n",
       " ('HeightYear', 58.96),\n",
       " ('BMI', 57.94),\n",
       " ('BMIYear', 57.82),\n",
       " ('Weight', 0.77),\n",
       " ('WeightYear', 0.46),\n",
       " ('Deidentified_Pat_ID', 0.0)]"
      ]
     },
     "execution_count": 752,
     "metadata": {},
     "output_type": "execute_result"
    }
   ],
   "source": [
    "# determine the threshold for missing values\n",
    "def percent_missing(df):\n",
    "    data = pd.DataFrame(df)\n",
    "    df_cols = list(pd.DataFrame(data))\n",
    "    dict_x = {}\n",
    "    for i in range(0, len(df_cols)):\n",
    "        dict_x.update({df_cols[i]: round(data[df_cols[i]].isnull().mean()*100,2)})\n",
    "    \n",
    "    return dict_x\n",
    "\n",
    "missing = percent_missing(data_pd)\n",
    "df_miss = sorted(missing.items(), key=lambda x: x[1], reverse=True)\n",
    "print('Percent of missing data')\n",
    "df_miss"
   ]
  },
  {
   "cell_type": "code",
   "execution_count": 753,
   "metadata": {},
   "outputs": [
    {
     "data": {
      "text/plain": [
       "(0.5898161055114733, 0.5794351812138109, 0.007720351704911001)"
      ]
     },
     "execution_count": 753,
     "metadata": {},
     "output_type": "execute_result"
    }
   ],
   "source": [
    "len(data_pd[data_pd['Height'].isna()])/len(data_pd),len(data_pd[data_pd['BMI'].isna()])/len(data_pd),len(data_pd[data_pd['Weight'].isna()])/len(data_pd)"
   ]
  },
  {
   "cell_type": "code",
   "execution_count": 754,
   "metadata": {},
   "outputs": [
    {
     "data": {
      "text/plain": [
       "(149216, 7)"
      ]
     },
     "execution_count": 754,
     "metadata": {},
     "output_type": "execute_result"
    }
   ],
   "source": [
    "data_pd.shape"
   ]
  },
  {
   "cell_type": "code",
   "execution_count": null,
   "metadata": {},
   "outputs": [],
   "source": []
  },
  {
   "cell_type": "code",
   "execution_count": 755,
   "metadata": {},
   "outputs": [
    {
     "data": {
      "text/html": [
       "<div>\n",
       "<style scoped>\n",
       "    .dataframe tbody tr th:only-of-type {\n",
       "        vertical-align: middle;\n",
       "    }\n",
       "\n",
       "    .dataframe tbody tr th {\n",
       "        vertical-align: top;\n",
       "    }\n",
       "\n",
       "    .dataframe thead th {\n",
       "        text-align: right;\n",
       "    }\n",
       "</style>\n",
       "<table border=\"1\" class=\"dataframe\">\n",
       "  <thead>\n",
       "    <tr style=\"text-align: right;\">\n",
       "      <th></th>\n",
       "      <th>Weight</th>\n",
       "      <th>WeightYear</th>\n",
       "      <th>Height</th>\n",
       "      <th>HeightYear</th>\n",
       "      <th>BMI</th>\n",
       "      <th>BMIYear</th>\n",
       "    </tr>\n",
       "  </thead>\n",
       "  <tbody>\n",
       "    <tr>\n",
       "      <th>count</th>\n",
       "      <td>148064.000000</td>\n",
       "      <td>148524.000000</td>\n",
       "      <td>61206.000000</td>\n",
       "      <td>61240.000000</td>\n",
       "      <td>62755.000000</td>\n",
       "      <td>62945.000000</td>\n",
       "    </tr>\n",
       "    <tr>\n",
       "      <th>mean</th>\n",
       "      <td>3154.165605</td>\n",
       "      <td>2016.603391</td>\n",
       "      <td>31.221951</td>\n",
       "      <td>2016.367342</td>\n",
       "      <td>66.904205</td>\n",
       "      <td>2016.355723</td>\n",
       "    </tr>\n",
       "    <tr>\n",
       "      <th>std</th>\n",
       "      <td>798.711721</td>\n",
       "      <td>1.486311</td>\n",
       "      <td>39.531164</td>\n",
       "      <td>1.485234</td>\n",
       "      <td>3.812227</td>\n",
       "      <td>1.484317</td>\n",
       "    </tr>\n",
       "    <tr>\n",
       "      <th>min</th>\n",
       "      <td>185.600000</td>\n",
       "      <td>2013.000000</td>\n",
       "      <td>2.480000</td>\n",
       "      <td>2014.000000</td>\n",
       "      <td>5.250000</td>\n",
       "      <td>2014.000000</td>\n",
       "    </tr>\n",
       "    <tr>\n",
       "      <th>25%</th>\n",
       "      <td>2592.000000</td>\n",
       "      <td>2015.000000</td>\n",
       "      <td>25.870000</td>\n",
       "      <td>2015.000000</td>\n",
       "      <td>64.000000</td>\n",
       "      <td>2015.000000</td>\n",
       "    </tr>\n",
       "    <tr>\n",
       "      <th>50%</th>\n",
       "      <td>3059.210000</td>\n",
       "      <td>2017.000000</td>\n",
       "      <td>29.750000</td>\n",
       "      <td>2016.000000</td>\n",
       "      <td>66.500000</td>\n",
       "      <td>2016.000000</td>\n",
       "    </tr>\n",
       "    <tr>\n",
       "      <th>75%</th>\n",
       "      <td>3600.000000</td>\n",
       "      <td>2018.000000</td>\n",
       "      <td>34.570000</td>\n",
       "      <td>2018.000000</td>\n",
       "      <td>69.500000</td>\n",
       "      <td>2018.000000</td>\n",
       "    </tr>\n",
       "    <tr>\n",
       "      <th>max</th>\n",
       "      <td>23580.800000</td>\n",
       "      <td>2019.000000</td>\n",
       "      <td>5378.200000</td>\n",
       "      <td>2019.000000</td>\n",
       "      <td>97.700000</td>\n",
       "      <td>2019.000000</td>\n",
       "    </tr>\n",
       "  </tbody>\n",
       "</table>\n",
       "</div>"
      ],
      "text/plain": [
       "              Weight     WeightYear        Height    HeightYear           BMI  \\\n",
       "count  148064.000000  148524.000000  61206.000000  61240.000000  62755.000000   \n",
       "mean     3154.165605    2016.603391     31.221951   2016.367342     66.904205   \n",
       "std       798.711721       1.486311     39.531164      1.485234      3.812227   \n",
       "min       185.600000    2013.000000      2.480000   2014.000000      5.250000   \n",
       "25%      2592.000000    2015.000000     25.870000   2015.000000     64.000000   \n",
       "50%      3059.210000    2017.000000     29.750000   2016.000000     66.500000   \n",
       "75%      3600.000000    2018.000000     34.570000   2018.000000     69.500000   \n",
       "max     23580.800000    2019.000000   5378.200000   2019.000000     97.700000   \n",
       "\n",
       "            BMIYear  \n",
       "count  62945.000000  \n",
       "mean    2016.355723  \n",
       "std        1.484317  \n",
       "min     2014.000000  \n",
       "25%     2015.000000  \n",
       "50%     2016.000000  \n",
       "75%     2018.000000  \n",
       "max     2019.000000  "
      ]
     },
     "execution_count": 755,
     "metadata": {},
     "output_type": "execute_result"
    }
   ],
   "source": [
    "data_pd.describe()"
   ]
  },
  {
   "cell_type": "code",
   "execution_count": 756,
   "metadata": {},
   "outputs": [
    {
     "data": {
      "text/plain": [
       "(149216, 3)"
      ]
     },
     "execution_count": 756,
     "metadata": {},
     "output_type": "execute_result"
    }
   ],
   "source": [
    "weight_pd = data_pd[['Deidentified_Pat_ID','Weight','WeightYear']]\n",
    "weight_pd.shape"
   ]
  },
  {
   "cell_type": "code",
   "execution_count": 757,
   "metadata": {},
   "outputs": [
    {
     "data": {
      "text/plain": [
       "(148064, 3)"
      ]
     },
     "execution_count": 757,
     "metadata": {},
     "output_type": "execute_result"
    }
   ],
   "source": [
    "weight_pd = weight_pd[(weight_pd['Weight'].notna())&(data_pd['WeightYear'].notna())]\n",
    "weight_pd.shape"
   ]
  },
  {
   "cell_type": "code",
   "execution_count": 758,
   "metadata": {},
   "outputs": [
    {
     "data": {
      "text/html": [
       "<div>\n",
       "<style scoped>\n",
       "    .dataframe tbody tr th:only-of-type {\n",
       "        vertical-align: middle;\n",
       "    }\n",
       "\n",
       "    .dataframe tbody tr th {\n",
       "        vertical-align: top;\n",
       "    }\n",
       "\n",
       "    .dataframe thead th {\n",
       "        text-align: right;\n",
       "    }\n",
       "</style>\n",
       "<table border=\"1\" class=\"dataframe\">\n",
       "  <thead>\n",
       "    <tr style=\"text-align: right;\">\n",
       "      <th></th>\n",
       "      <th>Deidentified_Pat_ID</th>\n",
       "      <th>Weight</th>\n",
       "      <th>WeightYear</th>\n",
       "    </tr>\n",
       "  </thead>\n",
       "  <tbody>\n",
       "    <tr>\n",
       "      <th>147204</th>\n",
       "      <td>MGVNDNAK</td>\n",
       "      <td>2848.0</td>\n",
       "      <td>2019.0</td>\n",
       "    </tr>\n",
       "    <tr>\n",
       "      <th>147205</th>\n",
       "      <td>MGVNDNAK</td>\n",
       "      <td>2896.0</td>\n",
       "      <td>2019.0</td>\n",
       "    </tr>\n",
       "  </tbody>\n",
       "</table>\n",
       "</div>"
      ],
      "text/plain": [
       "       Deidentified_Pat_ID  Weight  WeightYear\n",
       "147204            MGVNDNAK  2848.0      2019.0\n",
       "147205            MGVNDNAK  2896.0      2019.0"
      ]
     },
     "execution_count": 758,
     "metadata": {},
     "output_type": "execute_result"
    }
   ],
   "source": [
    "check_weight_pd = weight_pd[weight_pd['Deidentified_Pat_ID']=='MGVNDNAK']\n",
    "check_weight_pd"
   ]
  },
  {
   "cell_type": "code",
   "execution_count": 759,
   "metadata": {},
   "outputs": [],
   "source": [
    "from collections import Counter\n",
    " \n",
    "def detect_outliers(df,n,features):\n",
    " \n",
    "    outlier_indices = []\n",
    " \n",
    "    # iterate over features(columns)\n",
    "    for col in features:\n",
    "        # 1st quartile (25%)\n",
    "        Q1 = np.percentile(df[col], 25)\n",
    "        print('Q1',Q1)\n",
    "        # 3rd quartile (75%)\n",
    "        Q3 = np.percentile(df[col],75)\n",
    "        print('Q3',Q3)\n",
    "        # Interquartile range (IQR)\n",
    "        IQR = Q3 - Q1\n",
    "        print('IQR',IQR)\n",
    " \n",
    "        # outlier step\n",
    "        outlier_step = 1.5 * IQR\n",
    "        print('outlier_step',outlier_step)\n",
    "        \n",
    "        print('Q1 - outlier_step',Q1 - outlier_step)\n",
    "        print('Q3 + outlier_step',Q3 + outlier_step)\n",
    "        # Determine a list of indices of outliers for feature col\n",
    "        outlier_list_col = df[(df[col] < Q1 - outlier_step) | (df[col] > Q3 + outlier_step )].index\n",
    " \n",
    "        # append the found outlier indices for col to the list of outlier indices \n",
    "        outlier_indices.extend(outlier_list_col)\n",
    " \n",
    "    # select observations containing more than 2 outliers\n",
    "    outlier_indices = Counter(outlier_indices)\n",
    "    print('outliers:',len(outlier_indices))\n",
    "    multiple_outliers = list( k for k, v in outlier_indices.items() if v > n )\n",
    " \n",
    "    return multiple_outliers"
   ]
  },
  {
   "cell_type": "code",
   "execution_count": 760,
   "metadata": {},
   "outputs": [
    {
     "name": "stdout",
     "output_type": "stream",
     "text": [
      "Q1 2592.0\n",
      "Q3 3600.0\n",
      "IQR 1008.0\n",
      "outlier_step 1512.0\n",
      "Q1 - outlier_step 1080.0\n",
      "Q3 + outlier_step 5112.0\n",
      "outliers: 2664\n"
     ]
    },
    {
     "data": {
      "text/plain": [
       "2664"
      ]
     },
     "execution_count": 760,
     "metadata": {},
     "output_type": "execute_result"
    }
   ],
   "source": [
    "Outliers_to_drop = detect_outliers(weight_pd,0,[\"Weight\"])\n",
    "len(Outliers_to_drop)"
   ]
  },
  {
   "cell_type": "code",
   "execution_count": 761,
   "metadata": {},
   "outputs": [
    {
     "data": {
      "text/plain": [
       "2652"
      ]
     },
     "execution_count": 761,
     "metadata": {},
     "output_type": "execute_result"
    }
   ],
   "source": [
    "len(weight_pd[weight_pd['Weight']>5112])"
   ]
  },
  {
   "cell_type": "code",
   "execution_count": 762,
   "metadata": {},
   "outputs": [
    {
     "data": {
      "image/png": "[encoded data removed]",
      "text/plain": [
       "<Figure size 432x288 with 1 Axes>"
      ]
     },
     "metadata": {},
     "output_type": "display_data"
    }
   ],
   "source": [
    "sns.distplot(weight_pd['Weight'], color=\"b\");"
   ]
  },
  {
   "cell_type": "code",
   "execution_count": 763,
   "metadata": {},
   "outputs": [
    {
     "data": {
      "text/plain": [
       "145400"
      ]
     },
     "execution_count": 763,
     "metadata": {},
     "output_type": "execute_result"
    }
   ],
   "source": [
    "# Drop outliers\n",
    "weight_pd_clean = weight_pd.drop(Outliers_to_drop, axis = 0).reset_index(drop=True)\n",
    "len(weight_pd_clean)"
   ]
  },
  {
   "cell_type": "code",
   "execution_count": 764,
   "metadata": {},
   "outputs": [
    {
     "data": {
      "image/png": "[encoded data removed]",
      "text/plain": [
       "<Figure size 432x288 with 1 Axes>"
      ]
     },
     "metadata": {},
     "output_type": "display_data"
    }
   ],
   "source": [
    "sns.distplot(weight_pd_clean['Weight'], color=\"b\");"
   ]
  },
  {
   "cell_type": "code",
   "execution_count": 765,
   "metadata": {},
   "outputs": [
    {
     "name": "stdout",
     "output_type": "stream",
     "text": [
      "\n",
      " mu = 8.02 and sigma = 0.23\n",
      "\n"
     ]
    },
    {
     "data": {
      "image/png": "[encoded data removed]",
      "text/plain": [
       "<Figure size 576x504 with 1 Axes>"
      ]
     },
     "metadata": {},
     "output_type": "display_data"
    }
   ],
   "source": [
    "weight_pd_clean[\"Weight_log\"] = np.log1p(weight_pd_clean[\"Weight\"])\n",
    "#nor_BMI_mean_bp = BMI_mean_bp\n",
    "sns.set_style(\"white\")\n",
    "sns.set_color_codes(palette='deep')\n",
    "f, ax = plt.subplots(figsize=(8, 7))\n",
    "#Check the new distribution \n",
    "sns.distplot(weight_pd_clean['Weight_log'] , fit=norm, color=\"b\");\n",
    "\n",
    "# Get the fitted parameters used by the function\n",
    "(mu, sigma) = norm.fit(weight_pd_clean['Weight_log'])\n",
    "print( '\\n mu = {:.2f} and sigma = {:.2f}\\n'.format(mu, sigma))\n",
    "\n",
    "#Now plot the distribution\n",
    "plt.legend(['Normal dist. ($\\mu=$ {:.2f} and $\\sigma=$ {:.2f} )'.format(mu, sigma)],\n",
    "            loc='best')\n",
    "ax.xaxis.grid(False)\n",
    "ax.set(ylabel=\"Frequency\")\n",
    "ax.set(xlabel=\"Weight_log\")\n",
    "ax.set(title=\"Weight_log distribution\")\n",
    "sns.despine(trim=True, left=True)\n",
    "\n",
    "plt.show()"
   ]
  },
  {
   "cell_type": "code",
   "execution_count": 766,
   "metadata": {},
   "outputs": [
    {
     "data": {
      "text/html": [
       "<div>\n",
       "<style scoped>\n",
       "    .dataframe tbody tr th:only-of-type {\n",
       "        vertical-align: middle;\n",
       "    }\n",
       "\n",
       "    .dataframe tbody tr th {\n",
       "        vertical-align: top;\n",
       "    }\n",
       "\n",
       "    .dataframe thead th {\n",
       "        text-align: right;\n",
       "    }\n",
       "</style>\n",
       "<table border=\"1\" class=\"dataframe\">\n",
       "  <thead>\n",
       "    <tr style=\"text-align: right;\">\n",
       "      <th></th>\n",
       "      <th>Deidentified_Pat_ID</th>\n",
       "      <th>WeightYear</th>\n",
       "      <th>Weight</th>\n",
       "    </tr>\n",
       "  </thead>\n",
       "  <tbody>\n",
       "    <tr>\n",
       "      <th>0</th>\n",
       "      <td>MGVKKNZN</td>\n",
       "      <td>2018.0</td>\n",
       "      <td>2320.0</td>\n",
       "    </tr>\n",
       "    <tr>\n",
       "      <th>1</th>\n",
       "      <td>MGVNDNAK</td>\n",
       "      <td>2019.0</td>\n",
       "      <td>2872.0</td>\n",
       "    </tr>\n",
       "    <tr>\n",
       "      <th>2</th>\n",
       "      <td>MNAAOKVG</td>\n",
       "      <td>2016.0</td>\n",
       "      <td>2617.6</td>\n",
       "    </tr>\n",
       "    <tr>\n",
       "      <th>3</th>\n",
       "      <td>MNAAOKVG</td>\n",
       "      <td>2017.0</td>\n",
       "      <td>2691.2</td>\n",
       "    </tr>\n",
       "    <tr>\n",
       "      <th>4</th>\n",
       "      <td>MNAAOKVG</td>\n",
       "      <td>2019.0</td>\n",
       "      <td>2619.2</td>\n",
       "    </tr>\n",
       "  </tbody>\n",
       "</table>\n",
       "</div>"
      ],
      "text/plain": [
       "  Deidentified_Pat_ID  WeightYear  Weight\n",
       "0            MGVKKNZN      2018.0  2320.0\n",
       "1            MGVNDNAK      2019.0  2872.0\n",
       "2            MNAAOKVG      2016.0  2617.6\n",
       "3            MNAAOKVG      2017.0  2691.2\n",
       "4            MNAAOKVG      2019.0  2619.2"
      ]
     },
     "execution_count": 766,
     "metadata": {},
     "output_type": "execute_result"
    }
   ],
   "source": [
    "weight_mean_bp = weight_pd_clean.groupby(['Deidentified_Pat_ID','WeightYear'])[['Weight']].mean()\n",
    "weight_mean_bp.reset_index(level=1, inplace=True)\n",
    "weight_mean_bp.reset_index(level=0, inplace=True)\n",
    "weight_mean_bp.head()"
   ]
  },
  {
   "cell_type": "code",
   "execution_count": 767,
   "metadata": {},
   "outputs": [
    {
     "data": {
      "text/plain": [
       "(30675, 3)"
      ]
     },
     "execution_count": 767,
     "metadata": {},
     "output_type": "execute_result"
    }
   ],
   "source": [
    "weight_mean_bp.shape"
   ]
  },
  {
   "cell_type": "code",
   "execution_count": 768,
   "metadata": {},
   "outputs": [
    {
     "data": {
      "image/png": "[encoded data removed]",
      "text/plain": [
       "<Figure size 432x288 with 1 Axes>"
      ]
     },
     "metadata": {},
     "output_type": "display_data"
    }
   ],
   "source": [
    "sns.distplot(weight_mean_bp['Weight'], color=\"b\");"
   ]
  },
  {
   "cell_type": "code",
   "execution_count": 769,
   "metadata": {},
   "outputs": [
    {
     "data": {
      "text/plain": [
       "(149216, 3)"
      ]
     },
     "execution_count": 769,
     "metadata": {},
     "output_type": "execute_result"
    }
   ],
   "source": [
    "height_pd = data_pd[['Deidentified_Pat_ID','Height','HeightYear']]\n",
    "height_pd.shape"
   ]
  },
  {
   "cell_type": "code",
   "execution_count": null,
   "metadata": {},
   "outputs": [],
   "source": []
  },
  {
   "cell_type": "code",
   "execution_count": 770,
   "metadata": {},
   "outputs": [
    {
     "data": {
      "text/plain": [
       "(61206, 3)"
      ]
     },
     "execution_count": 770,
     "metadata": {},
     "output_type": "execute_result"
    }
   ],
   "source": [
    "height_pd = height_pd[(height_pd['Height'].notna())&(data_pd['HeightYear'].notna())]\n",
    "height_pd.shape"
   ]
  },
  {
   "cell_type": "code",
   "execution_count": 771,
   "metadata": {},
   "outputs": [
    {
     "name": "stdout",
     "output_type": "stream",
     "text": [
      "Q1 25.87\n",
      "Q3 34.57\n",
      "IQR 8.7\n",
      "outlier_step 13.049999999999999\n",
      "Q1 - outlier_step 12.820000000000002\n",
      "Q3 + outlier_step 47.62\n",
      "outliers: 1356\n"
     ]
    },
    {
     "data": {
      "text/plain": [
       "1356"
      ]
     },
     "execution_count": 771,
     "metadata": {},
     "output_type": "execute_result"
    }
   ],
   "source": [
    "Outliers_to_drop = detect_outliers(height_pd,0,[\"Height\"])\n",
    "len(Outliers_to_drop)"
   ]
  },
  {
   "cell_type": "code",
   "execution_count": 772,
   "metadata": {},
   "outputs": [
    {
     "data": {
      "text/plain": [
       "59850"
      ]
     },
     "execution_count": 772,
     "metadata": {},
     "output_type": "execute_result"
    }
   ],
   "source": [
    "# Drop outliers\n",
    "height_pd_clean = height_pd.drop(Outliers_to_drop, axis = 0).reset_index(drop=True)\n",
    "len(height_pd_clean)"
   ]
  },
  {
   "cell_type": "code",
   "execution_count": 773,
   "metadata": {},
   "outputs": [
    {
     "data": {
      "image/png": "[encoded data removed]",
      "text/plain": [
       "<Figure size 432x288 with 1 Axes>"
      ]
     },
     "metadata": {},
     "output_type": "display_data"
    }
   ],
   "source": [
    "sns.distplot(height_pd_clean['Height'], color=\"b\");"
   ]
  },
  {
   "cell_type": "code",
   "execution_count": 774,
   "metadata": {},
   "outputs": [
    {
     "data": {
      "text/plain": [
       "array([2014., 2015., 2016., 2017., 2018., 2019.])"
      ]
     },
     "execution_count": 774,
     "metadata": {},
     "output_type": "execute_result"
    }
   ],
   "source": [
    "pd.Series(height_pd[\"HeightYear\"].tolist()).sort_values().unique()"
   ]
  },
  {
   "cell_type": "code",
   "execution_count": 775,
   "metadata": {},
   "outputs": [
    {
     "data": {
      "text/html": [
       "<div>\n",
       "<style scoped>\n",
       "    .dataframe tbody tr th:only-of-type {\n",
       "        vertical-align: middle;\n",
       "    }\n",
       "\n",
       "    .dataframe tbody tr th {\n",
       "        vertical-align: top;\n",
       "    }\n",
       "\n",
       "    .dataframe thead th {\n",
       "        text-align: right;\n",
       "    }\n",
       "</style>\n",
       "<table border=\"1\" class=\"dataframe\">\n",
       "  <thead>\n",
       "    <tr style=\"text-align: right;\">\n",
       "      <th></th>\n",
       "      <th>Deidentified_Pat_ID</th>\n",
       "      <th>HeightYear</th>\n",
       "      <th>Height</th>\n",
       "    </tr>\n",
       "  </thead>\n",
       "  <tbody>\n",
       "    <tr>\n",
       "      <th>0</th>\n",
       "      <td>MGVKKNZN</td>\n",
       "      <td>2018.0</td>\n",
       "      <td>23.41</td>\n",
       "    </tr>\n",
       "    <tr>\n",
       "      <th>1</th>\n",
       "      <td>MGVNDNAK</td>\n",
       "      <td>2019.0</td>\n",
       "      <td>23.69</td>\n",
       "    </tr>\n",
       "    <tr>\n",
       "      <th>2</th>\n",
       "      <td>MNAAOKVG</td>\n",
       "      <td>2017.0</td>\n",
       "      <td>24.13</td>\n",
       "    </tr>\n",
       "    <tr>\n",
       "      <th>3</th>\n",
       "      <td>MNADDANN</td>\n",
       "      <td>2016.0</td>\n",
       "      <td>27.83</td>\n",
       "    </tr>\n",
       "    <tr>\n",
       "      <th>4</th>\n",
       "      <td>MNADDANN</td>\n",
       "      <td>2017.0</td>\n",
       "      <td>28.90</td>\n",
       "    </tr>\n",
       "  </tbody>\n",
       "</table>\n",
       "</div>"
      ],
      "text/plain": [
       "  Deidentified_Pat_ID  HeightYear  Height\n",
       "0            MGVKKNZN      2018.0   23.41\n",
       "1            MGVNDNAK      2019.0   23.69\n",
       "2            MNAAOKVG      2017.0   24.13\n",
       "3            MNADDANN      2016.0   27.83\n",
       "4            MNADDANN      2017.0   28.90"
      ]
     },
     "execution_count": 775,
     "metadata": {},
     "output_type": "execute_result"
    }
   ],
   "source": [
    "height_mean_bp = height_pd.groupby(['Deidentified_Pat_ID','HeightYear'])[['Height']].mean()\n",
    "height_mean_bp.reset_index(level=1, inplace=True)\n",
    "height_mean_bp.reset_index(level=0, inplace=True)\n",
    "height_mean_bp.head()"
   ]
  },
  {
   "cell_type": "code",
   "execution_count": 776,
   "metadata": {},
   "outputs": [
    {
     "data": {
      "text/plain": [
       "(25410, 3)"
      ]
     },
     "execution_count": 776,
     "metadata": {},
     "output_type": "execute_result"
    }
   ],
   "source": [
    "height_mean_bp.shape"
   ]
  },
  {
   "cell_type": "code",
   "execution_count": 777,
   "metadata": {},
   "outputs": [
    {
     "data": {
      "text/plain": [
       "(61206, 3)"
      ]
     },
     "execution_count": 777,
     "metadata": {},
     "output_type": "execute_result"
    }
   ],
   "source": [
    "BMI_pd = data_pd[['Deidentified_Pat_ID','BMI','BMIYear']]\n",
    "height_pd.shape"
   ]
  },
  {
   "cell_type": "code",
   "execution_count": 778,
   "metadata": {},
   "outputs": [
    {
     "data": {
      "text/plain": [
       "(62755, 3)"
      ]
     },
     "execution_count": 778,
     "metadata": {},
     "output_type": "execute_result"
    }
   ],
   "source": [
    "BMI_pd = BMI_pd[(BMI_pd['BMI'].notna())&(data_pd['BMIYear'].notna())]\n",
    "BMI_pd.shape"
   ]
  },
  {
   "cell_type": "code",
   "execution_count": 779,
   "metadata": {},
   "outputs": [
    {
     "name": "stdout",
     "output_type": "stream",
     "text": [
      "Q1 64.0\n",
      "Q3 69.5\n",
      "IQR 5.5\n",
      "outlier_step 8.25\n",
      "Q1 - outlier_step 55.75\n",
      "Q3 + outlier_step 77.75\n",
      "outliers: 205\n"
     ]
    },
    {
     "data": {
      "text/plain": [
       "205"
      ]
     },
     "execution_count": 779,
     "metadata": {},
     "output_type": "execute_result"
    }
   ],
   "source": [
    "Outliers_to_drop = detect_outliers(BMI_pd,0,[\"BMI\"])\n",
    "len(Outliers_to_drop)"
   ]
  },
  {
   "cell_type": "code",
   "execution_count": 780,
   "metadata": {},
   "outputs": [
    {
     "data": {
      "text/plain": [
       "62550"
      ]
     },
     "execution_count": 780,
     "metadata": {},
     "output_type": "execute_result"
    }
   ],
   "source": [
    "# Drop outliers\n",
    "BMI_pd_clean = BMI_pd.drop(Outliers_to_drop, axis = 0).reset_index(drop=True)\n",
    "len(BMI_pd_clean)"
   ]
  },
  {
   "cell_type": "code",
   "execution_count": 781,
   "metadata": {},
   "outputs": [
    {
     "data": {
      "image/png": "[encoded data removed]",
      "text/plain": [
       "<Figure size 432x288 with 1 Axes>"
      ]
     },
     "metadata": {},
     "output_type": "display_data"
    }
   ],
   "source": [
    "sns.distplot(BMI_pd_clean['BMI'], color=\"b\");"
   ]
  },
  {
   "cell_type": "code",
   "execution_count": 782,
   "metadata": {},
   "outputs": [
    {
     "data": {
      "text/html": [
       "<div>\n",
       "<style scoped>\n",
       "    .dataframe tbody tr th:only-of-type {\n",
       "        vertical-align: middle;\n",
       "    }\n",
       "\n",
       "    .dataframe tbody tr th {\n",
       "        vertical-align: top;\n",
       "    }\n",
       "\n",
       "    .dataframe thead th {\n",
       "        text-align: right;\n",
       "    }\n",
       "</style>\n",
       "<table border=\"1\" class=\"dataframe\">\n",
       "  <thead>\n",
       "    <tr style=\"text-align: right;\">\n",
       "      <th></th>\n",
       "      <th></th>\n",
       "      <th>BMI</th>\n",
       "    </tr>\n",
       "    <tr>\n",
       "      <th>Deidentified_Pat_ID</th>\n",
       "      <th>BMIYear</th>\n",
       "      <th></th>\n",
       "    </tr>\n",
       "  </thead>\n",
       "  <tbody>\n",
       "    <tr>\n",
       "      <th>MGVKKNZN</th>\n",
       "      <th>2018.0</th>\n",
       "      <td>66.0</td>\n",
       "    </tr>\n",
       "    <tr>\n",
       "      <th>MGVNDNAK</th>\n",
       "      <th>2019.0</th>\n",
       "      <td>73.0</td>\n",
       "    </tr>\n",
       "    <tr>\n",
       "      <th>MNAAOKVG</th>\n",
       "      <th>2017.0</th>\n",
       "      <td>70.0</td>\n",
       "    </tr>\n",
       "    <tr>\n",
       "      <th rowspan=\"2\" valign=\"top\">MNADDANN</th>\n",
       "      <th>2016.0</th>\n",
       "      <td>68.0</td>\n",
       "    </tr>\n",
       "    <tr>\n",
       "      <th>2017.0</th>\n",
       "      <td>68.0</td>\n",
       "    </tr>\n",
       "  </tbody>\n",
       "</table>\n",
       "</div>"
      ],
      "text/plain": [
       "                              BMI\n",
       "Deidentified_Pat_ID BMIYear      \n",
       "MGVKKNZN            2018.0   66.0\n",
       "MGVNDNAK            2019.0   73.0\n",
       "MNAAOKVG            2017.0   70.0\n",
       "MNADDANN            2016.0   68.0\n",
       "                    2017.0   68.0"
      ]
     },
     "execution_count": 782,
     "metadata": {},
     "output_type": "execute_result"
    }
   ],
   "source": [
    "BMI_mean_bp = BMI_pd.groupby(['Deidentified_Pat_ID','BMIYear'])[['BMI']].mean()\n",
    "BMI_mean_bp.head()"
   ]
  },
  {
   "cell_type": "code",
   "execution_count": 783,
   "metadata": {},
   "outputs": [
    {
     "data": {
      "text/plain": [
       "(25638, 1)"
      ]
     },
     "execution_count": 783,
     "metadata": {},
     "output_type": "execute_result"
    }
   ],
   "source": [
    "BMI_mean_bp.shape"
   ]
  },
  {
   "cell_type": "code",
   "execution_count": null,
   "metadata": {},
   "outputs": [],
   "source": []
  },
  {
   "cell_type": "code",
   "execution_count": 784,
   "metadata": {},
   "outputs": [
    {
     "data": {
      "text/plain": [
       "array([[<matplotlib.axes._subplots.AxesSubplot object at 0x7f3adbe44ba8>]],\n",
       "      dtype=object)"
      ]
     },
     "execution_count": 784,
     "metadata": {},
     "output_type": "execute_result"
    },
    {
     "data": {
      "image/png": "[encoded data removed]",
      "text/plain": [
       "<Figure size 576x576 with 1 Axes>"
      ]
     },
     "metadata": {},
     "output_type": "display_data"
    }
   ],
   "source": [
    "BMI_mean_bp.hist(xlabelsize=8,ylabelsize=8,figsize=(8,8))"
   ]
  },
  {
   "cell_type": "code",
   "execution_count": null,
   "metadata": {},
   "outputs": [],
   "source": []
  },
  {
   "cell_type": "code",
   "execution_count": 785,
   "metadata": {},
   "outputs": [
    {
     "data": {
      "text/plain": [
       "<bound method NDFrame.head of       Deidentified_Pat_ID  BMIYear        BMI\n",
       "0                MGVKKNZN   2018.0  66.000000\n",
       "1                MGVNDNAK   2019.0  73.000000\n",
       "2                MNAAOKVG   2017.0  70.000000\n",
       "3                MNADDANN   2016.0  68.000000\n",
       "4                MNADDANN   2017.0  68.000000\n",
       "...                   ...      ...        ...\n",
       "25633             ZZZZZTV   2015.0  62.756000\n",
       "25634             ZZZZZTV   2016.0  63.250000\n",
       "25635             ZZZZZTV   2017.0  63.178571\n",
       "25636             ZZZZZTV   2018.0  62.930250\n",
       "25637             ZZZZZTV   2019.0  62.665750\n",
       "\n",
       "[25638 rows x 3 columns]>"
      ]
     },
     "execution_count": 785,
     "metadata": {},
     "output_type": "execute_result"
    }
   ],
   "source": [
    "BMI_mean_bp.reset_index(level=1, inplace=True)\n",
    "BMI_mean_bp.reset_index(level=0, inplace=True)\n",
    "BMI_mean_bp.head"
   ]
  },
  {
   "cell_type": "code",
   "execution_count": 786,
   "metadata": {},
   "outputs": [
    {
     "data": {
      "text/plain": [
       "1.0"
      ]
     },
     "execution_count": 786,
     "metadata": {},
     "output_type": "execute_result"
    }
   ],
   "source": [
    "len(BMI_mean_bp[BMI_mean_bp['BMIYear'].notna()])/len(BMI_mean_bp)"
   ]
  },
  {
   "cell_type": "code",
   "execution_count": 787,
   "metadata": {},
   "outputs": [
    {
     "data": {
      "text/plain": [
       "<bound method NDFrame.head of       Deidentified_Pat_ID  BMIYear        BMI\n",
       "0                MGVKKNZN   2018.0  66.000000\n",
       "1                MGVNDNAK   2019.0  73.000000\n",
       "2                MNAAOKVG   2017.0  70.000000\n",
       "3                MNADDANN   2016.0  68.000000\n",
       "4                MNADDANN   2017.0  68.000000\n",
       "...                   ...      ...        ...\n",
       "25633             ZZZZZTV   2015.0  62.756000\n",
       "25634             ZZZZZTV   2016.0  63.250000\n",
       "25635             ZZZZZTV   2017.0  63.178571\n",
       "25636             ZZZZZTV   2018.0  62.930250\n",
       "25637             ZZZZZTV   2019.0  62.665750\n",
       "\n",
       "[25638 rows x 3 columns]>"
      ]
     },
     "execution_count": 787,
     "metadata": {},
     "output_type": "execute_result"
    }
   ],
   "source": [
    "BMI_mean_bp.columns = ['Deidentified_Pat_ID','BMIYear','BMI']\n",
    "BMI_mean_bp.head"
   ]
  },
  {
   "cell_type": "code",
   "execution_count": 788,
   "metadata": {},
   "outputs": [
    {
     "data": {
      "text/plain": [
       "Deidentified_Pat_ID     object\n",
       "BMIYear                float64\n",
       "BMI                    float64\n",
       "dtype: object"
      ]
     },
     "execution_count": 788,
     "metadata": {},
     "output_type": "execute_result"
    }
   ],
   "source": [
    "BMI_mean_bp.dtypes"
   ]
  },
  {
   "cell_type": "code",
   "execution_count": 789,
   "metadata": {},
   "outputs": [
    {
     "name": "stdout",
     "output_type": "stream",
     "text": [
      "\n",
      " mu = 66.98 and sigma = 3.75\n",
      "\n"
     ]
    },
    {
     "data": {
      "image/png": "[encoded data removed]",
      "text/plain": [
       "<Figure size 576x504 with 1 Axes>"
      ]
     },
     "metadata": {},
     "output_type": "display_data"
    }
   ],
   "source": [
    "nor_BMI_mean_bp = BMI_mean_bp[BMI_mean_bp['BMI']>50]\n",
    "#nor_BMI_mean_bp = BMI_mean_bp\n",
    "sns.set_style(\"white\")\n",
    "sns.set_color_codes(palette='deep')\n",
    "f, ax = plt.subplots(figsize=(8, 7))\n",
    "#Check the new distribution \n",
    "sns.distplot(nor_BMI_mean_bp['BMI'] , fit=norm, color=\"b\");\n",
    "\n",
    "# Get the fitted parameters used by the function\n",
    "(mu, sigma) = norm.fit(nor_BMI_mean_bp['BMI'])\n",
    "print( '\\n mu = {:.2f} and sigma = {:.2f}\\n'.format(mu, sigma))\n",
    "\n",
    "#Now plot the distribution\n",
    "plt.legend(['Normal dist. ($\\mu=$ {:.2f} and $\\sigma=$ {:.2f} )'.format(mu, sigma)],\n",
    "            loc='best')\n",
    "ax.xaxis.grid(False)\n",
    "ax.set(ylabel=\"Frequency\")\n",
    "ax.set(xlabel=\"BMI\")\n",
    "ax.set(title=\"BMI distribution\")\n",
    "sns.despine(trim=True, left=True)\n",
    "\n",
    "plt.show()"
   ]
  },
  {
   "cell_type": "code",
   "execution_count": 790,
   "metadata": {},
   "outputs": [
    {
     "name": "stdout",
     "output_type": "stream",
     "text": [
      "\n",
      " mu = 4.20 and sigma = 0.06\n",
      "\n"
     ]
    },
    {
     "data": {
      "image/png": "[encoded data removed]",
      "text/plain": [
       "<Figure size 576x504 with 1 Axes>"
      ]
     },
     "metadata": {},
     "output_type": "display_data"
    }
   ],
   "source": [
    "#nor_BMI_mean_bp = BMI_mean_bp[BMI_mean_bp['BMI']>55]\n",
    "nor_BMI_mean_bp = BMI_mean_bp\n",
    "nor_BMI_mean_bp[\"BMI_log\"] = np.log(nor_BMI_mean_bp[\"BMI\"])\n",
    "sns.set_style(\"white\")\n",
    "sns.set_color_codes(palette='deep')\n",
    "f, ax = plt.subplots(figsize=(8, 7))\n",
    "#Check the new distribution \n",
    "sns.distplot(nor_BMI_mean_bp['BMI_log'] , fit=norm, color=\"b\");\n",
    "\n",
    "# Get the fitted parameters used by the function\n",
    "(mu, sigma) = norm.fit(nor_BMI_mean_bp['BMI_log'])\n",
    "print( '\\n mu = {:.2f} and sigma = {:.2f}\\n'.format(mu, sigma))\n",
    "\n",
    "#Now plot the distribution\n",
    "plt.legend(['Normal dist. ($\\mu=$ {:.2f} and $\\sigma=$ {:.2f} )'.format(mu, sigma)],\n",
    "            loc='best')\n",
    "ax.xaxis.grid(False)\n",
    "ax.set(ylabel=\"Frequency\")\n",
    "ax.set(xlabel=\"BMI_log\")\n",
    "ax.set(title=\"BMI_log distribution\")\n",
    "sns.despine(trim=True, left=True)\n",
    "\n",
    "plt.show()"
   ]
  },
  {
   "cell_type": "code",
   "execution_count": 791,
   "metadata": {},
   "outputs": [
    {
     "data": {
      "text/plain": [
       "<matplotlib.axes._subplots.AxesSubplot at 0x7f3adbe16ef0>"
      ]
     },
     "execution_count": 791,
     "metadata": {},
     "output_type": "execute_result"
    },
    {
     "data": {
      "image/png": "[encoded data removed]",
      "text/plain": [
       "<Figure size 432x288 with 1 Axes>"
      ]
     },
     "metadata": {},
     "output_type": "display_data"
    }
   ],
   "source": [
    "BMI_mean_bp.plot.scatter(y='BMI', x='BMIYear')"
   ]
  },
  {
   "cell_type": "code",
   "execution_count": 792,
   "metadata": {},
   "outputs": [
    {
     "name": "stdout",
     "output_type": "stream",
     "text": [
      "--------------------------------\n"
     ]
    },
    {
     "data": {
      "text/plain": [
       "(3910, 1)"
      ]
     },
     "execution_count": 792,
     "metadata": {},
     "output_type": "execute_result"
    }
   ],
   "source": [
    "genome_header = '/mnt/volume1/T2D/header.txt'\n",
    "def read_header(ps_folder):\n",
    "    data_arr = []\n",
    "\n",
    "    with open(ps_folder, 'r') as f:\n",
    "\n",
    "        lines = f.readlines()\n",
    "\n",
    "        for line in lines:\n",
    "\n",
    "            if line != '\\n':\n",
    "                items = line.split(sep='\\t')\n",
    "                data_arr.extend(items)\n",
    "            else:\n",
    "                break\n",
    "\n",
    "    print(\"--------------------------------\")\n",
    "\n",
    "    return data_arr\n",
    "\n",
    "#genome_header_pd = pd.read_csv(genome_header, sep='\\t', header=None)\n",
    "head_list = read_header(genome_header)\n",
    "head_pd = pd.DataFrame(head_list)\n",
    "head_pd.columns = ['Deidentified_Pat_ID']\n",
    "head_pd.shape"
   ]
  },
  {
   "cell_type": "code",
   "execution_count": 793,
   "metadata": {},
   "outputs": [
    {
     "data": {
      "text/plain": [
       "array([2014., 2015., 2016., 2017., 2018., 2019.])"
      ]
     },
     "execution_count": 793,
     "metadata": {},
     "output_type": "execute_result"
    }
   ],
   "source": [
    "pd.Series(BMI_mean_bp[\"BMIYear\"].tolist()).sort_values().unique()"
   ]
  },
  {
   "cell_type": "code",
   "execution_count": 794,
   "metadata": {},
   "outputs": [
    {
     "data": {
      "text/plain": [
       "4960"
      ]
     },
     "execution_count": 794,
     "metadata": {},
     "output_type": "execute_result"
    }
   ],
   "source": [
    "target_BMI = BMI_mean_bp[BMI_mean_bp['BMIYear']==2018.]\n",
    "len(target_BMI)"
   ]
  },
  {
   "cell_type": "code",
   "execution_count": 795,
   "metadata": {},
   "outputs": [
    {
     "data": {
      "text/plain": [
       "3910"
      ]
     },
     "execution_count": 795,
     "metadata": {},
     "output_type": "execute_result"
    }
   ],
   "source": [
    "res = pd.merge(target_BMI, head_pd, how='right',on=['Deidentified_Pat_ID'])\n",
    "#res = res[[ 'Deidentified_Pat_ID', 'triglyceride','ldl', 'hdl','a1c']]\n",
    "len(res)"
   ]
  },
  {
   "cell_type": "code",
   "execution_count": 796,
   "metadata": {},
   "outputs": [
    {
     "data": {
      "text/html": [
       "<div>\n",
       "<style scoped>\n",
       "    .dataframe tbody tr th:only-of-type {\n",
       "        vertical-align: middle;\n",
       "    }\n",
       "\n",
       "    .dataframe tbody tr th {\n",
       "        vertical-align: top;\n",
       "    }\n",
       "\n",
       "    .dataframe thead th {\n",
       "        text-align: right;\n",
       "    }\n",
       "</style>\n",
       "<table border=\"1\" class=\"dataframe\">\n",
       "  <thead>\n",
       "    <tr style=\"text-align: right;\">\n",
       "      <th></th>\n",
       "      <th>BMIYear</th>\n",
       "      <th>BMI</th>\n",
       "      <th>BMI_log</th>\n",
       "    </tr>\n",
       "  </thead>\n",
       "  <tbody>\n",
       "    <tr>\n",
       "      <th>count</th>\n",
       "      <td>3183.0</td>\n",
       "      <td>3183.000000</td>\n",
       "      <td>3183.000000</td>\n",
       "    </tr>\n",
       "    <tr>\n",
       "      <th>mean</th>\n",
       "      <td>2018.0</td>\n",
       "      <td>66.967604</td>\n",
       "      <td>4.202624</td>\n",
       "    </tr>\n",
       "    <tr>\n",
       "      <th>std</th>\n",
       "      <td>0.0</td>\n",
       "      <td>3.781115</td>\n",
       "      <td>0.056243</td>\n",
       "    </tr>\n",
       "    <tr>\n",
       "      <th>min</th>\n",
       "      <td>2018.0</td>\n",
       "      <td>48.000000</td>\n",
       "      <td>3.871201</td>\n",
       "    </tr>\n",
       "    <tr>\n",
       "      <th>25%</th>\n",
       "      <td>2018.0</td>\n",
       "      <td>64.000000</td>\n",
       "      <td>4.158883</td>\n",
       "    </tr>\n",
       "    <tr>\n",
       "      <th>50%</th>\n",
       "      <td>2018.0</td>\n",
       "      <td>66.709750</td>\n",
       "      <td>4.200351</td>\n",
       "    </tr>\n",
       "    <tr>\n",
       "      <th>75%</th>\n",
       "      <td>2018.0</td>\n",
       "      <td>69.661583</td>\n",
       "      <td>4.243649</td>\n",
       "    </tr>\n",
       "    <tr>\n",
       "      <th>max</th>\n",
       "      <td>2018.0</td>\n",
       "      <td>80.000000</td>\n",
       "      <td>4.382027</td>\n",
       "    </tr>\n",
       "  </tbody>\n",
       "</table>\n",
       "</div>"
      ],
      "text/plain": [
       "       BMIYear          BMI      BMI_log\n",
       "count   3183.0  3183.000000  3183.000000\n",
       "mean    2018.0    66.967604     4.202624\n",
       "std        0.0     3.781115     0.056243\n",
       "min     2018.0    48.000000     3.871201\n",
       "25%     2018.0    64.000000     4.158883\n",
       "50%     2018.0    66.709750     4.200351\n",
       "75%     2018.0    69.661583     4.243649\n",
       "max     2018.0    80.000000     4.382027"
      ]
     },
     "execution_count": 796,
     "metadata": {},
     "output_type": "execute_result"
    }
   ],
   "source": [
    "res.describe()"
   ]
  },
  {
   "cell_type": "code",
   "execution_count": 797,
   "metadata": {},
   "outputs": [
    {
     "data": {
      "text/plain": [
       "3183"
      ]
     },
     "execution_count": 797,
     "metadata": {},
     "output_type": "execute_result"
    }
   ],
   "source": [
    "res = pd.merge(target_BMI, head_pd, how='inner',on=['Deidentified_Pat_ID'])\n",
    "#res = res[[ 'Deidentified_Pat_ID', 'triglyceride','ldl', 'hdl','a1c']]\n",
    "len(res)"
   ]
  },
  {
   "cell_type": "code",
   "execution_count": 798,
   "metadata": {},
   "outputs": [
    {
     "name": "stdout",
     "output_type": "stream",
     "text": [
      "Percent of missing data\n"
     ]
    },
    {
     "data": {
      "text/plain": [
       "[('Deidentified_Pat_ID', 0.0),\n",
       " ('BMIYear', 0.0),\n",
       " ('BMI', 0.0),\n",
       " ('BMI_log', 0.0)]"
      ]
     },
     "execution_count": 798,
     "metadata": {},
     "output_type": "execute_result"
    }
   ],
   "source": [
    "missing = percent_missing(res)\n",
    "df_miss = sorted(missing.items(), key=lambda x: x[1], reverse=True)\n",
    "print('Percent of missing data')\n",
    "df_miss"
   ]
  },
  {
   "cell_type": "code",
   "execution_count": 799,
   "metadata": {},
   "outputs": [
    {
     "data": {
      "text/html": [
       "<div>\n",
       "<style scoped>\n",
       "    .dataframe tbody tr th:only-of-type {\n",
       "        vertical-align: middle;\n",
       "    }\n",
       "\n",
       "    .dataframe tbody tr th {\n",
       "        vertical-align: top;\n",
       "    }\n",
       "\n",
       "    .dataframe thead th {\n",
       "        text-align: right;\n",
       "    }\n",
       "</style>\n",
       "<table border=\"1\" class=\"dataframe\">\n",
       "  <thead>\n",
       "    <tr style=\"text-align: right;\">\n",
       "      <th></th>\n",
       "      <th>BMIYear</th>\n",
       "      <th>BMI</th>\n",
       "      <th>BMI_log</th>\n",
       "    </tr>\n",
       "  </thead>\n",
       "  <tbody>\n",
       "    <tr>\n",
       "      <th>count</th>\n",
       "      <td>3183.0</td>\n",
       "      <td>3183.000000</td>\n",
       "      <td>3183.000000</td>\n",
       "    </tr>\n",
       "    <tr>\n",
       "      <th>mean</th>\n",
       "      <td>2018.0</td>\n",
       "      <td>66.967604</td>\n",
       "      <td>4.202624</td>\n",
       "    </tr>\n",
       "    <tr>\n",
       "      <th>std</th>\n",
       "      <td>0.0</td>\n",
       "      <td>3.781115</td>\n",
       "      <td>0.056243</td>\n",
       "    </tr>\n",
       "    <tr>\n",
       "      <th>min</th>\n",
       "      <td>2018.0</td>\n",
       "      <td>48.000000</td>\n",
       "      <td>3.871201</td>\n",
       "    </tr>\n",
       "    <tr>\n",
       "      <th>25%</th>\n",
       "      <td>2018.0</td>\n",
       "      <td>64.000000</td>\n",
       "      <td>4.158883</td>\n",
       "    </tr>\n",
       "    <tr>\n",
       "      <th>50%</th>\n",
       "      <td>2018.0</td>\n",
       "      <td>66.709750</td>\n",
       "      <td>4.200351</td>\n",
       "    </tr>\n",
       "    <tr>\n",
       "      <th>75%</th>\n",
       "      <td>2018.0</td>\n",
       "      <td>69.661583</td>\n",
       "      <td>4.243649</td>\n",
       "    </tr>\n",
       "    <tr>\n",
       "      <th>max</th>\n",
       "      <td>2018.0</td>\n",
       "      <td>80.000000</td>\n",
       "      <td>4.382027</td>\n",
       "    </tr>\n",
       "  </tbody>\n",
       "</table>\n",
       "</div>"
      ],
      "text/plain": [
       "       BMIYear          BMI      BMI_log\n",
       "count   3183.0  3183.000000  3183.000000\n",
       "mean    2018.0    66.967604     4.202624\n",
       "std        0.0     3.781115     0.056243\n",
       "min     2018.0    48.000000     3.871201\n",
       "25%     2018.0    64.000000     4.158883\n",
       "50%     2018.0    66.709750     4.200351\n",
       "75%     2018.0    69.661583     4.243649\n",
       "max     2018.0    80.000000     4.382027"
      ]
     },
     "execution_count": 799,
     "metadata": {},
     "output_type": "execute_result"
    }
   ],
   "source": [
    "res.describe()"
   ]
  },
  {
   "cell_type": "code",
   "execution_count": 800,
   "metadata": {},
   "outputs": [
    {
     "data": {
      "text/plain": [
       "array([[<matplotlib.axes._subplots.AxesSubplot object at 0x7f3add35f828>,\n",
       "        <matplotlib.axes._subplots.AxesSubplot object at 0x7f3add3a5390>],\n",
       "       [<matplotlib.axes._subplots.AxesSubplot object at 0x7f3adbb78048>,\n",
       "        <matplotlib.axes._subplots.AxesSubplot object at 0x7f3adbb209b0>]],\n",
       "      dtype=object)"
      ]
     },
     "execution_count": 800,
     "metadata": {},
     "output_type": "execute_result"
    },
    {
     "data": {
      "image/png": "[encoded data removed]",
      "text/plain": [
       "<Figure size 576x576 with 4 Axes>"
      ]
     },
     "metadata": {},
     "output_type": "display_data"
    }
   ],
   "source": [
    "res.hist(xlabelsize=8,ylabelsize=8,figsize=(8,8))"
   ]
  },
  {
   "cell_type": "code",
   "execution_count": 801,
   "metadata": {},
   "outputs": [
    {
     "data": {
      "image/png": "[encoded data removed]",
      "text/plain": [
       "<Figure size 576x504 with 1 Axes>"
      ]
     },
     "metadata": {},
     "output_type": "display_data"
    }
   ],
   "source": [
    "\n",
    "sns.set_style(\"white\")\n",
    "sns.set_color_codes(palette='deep')\n",
    "f, ax = plt.subplots(figsize=(8, 7))\n",
    "#Check the new distribution \n",
    "sns.distplot(res['BMI'], color=\"b\");\n",
    "ax.xaxis.grid(False)\n",
    "ax.set(ylabel=\"Frequency\")\n",
    "ax.set(xlabel=\"BMI\")\n",
    "ax.set(title=\"BMI distribution\")\n",
    "sns.despine(trim=True, left=True)\n",
    "plt.show()"
   ]
  },
  {
   "cell_type": "code",
   "execution_count": 802,
   "metadata": {},
   "outputs": [
    {
     "data": {
      "image/png": "[encoded data removed]",
      "text/plain": [
       "<Figure size 576x504 with 1 Axes>"
      ]
     },
     "metadata": {},
     "output_type": "display_data"
    }
   ],
   "source": [
    "sns.set_style(\"white\")\n",
    "sns.set_color_codes(palette='deep')\n",
    "f, ax = plt.subplots(figsize=(8, 7))\n",
    "#Check the new distribution \n",
    "sns.kdeplot(res['BMI'], color=\"b\");\n",
    "ax.xaxis.grid(False)\n",
    "ax.set(ylabel=\"Frequency\")\n",
    "ax.set(xlabel=\"BMI\")\n",
    "ax.set(title=\"BMI distribution\")\n",
    "sns.despine(trim=True, left=True)\n",
    "plt.show()"
   ]
  },
  {
   "cell_type": "code",
   "execution_count": 803,
   "metadata": {},
   "outputs": [
    {
     "data": {
      "text/html": [
       "<div>\n",
       "<style scoped>\n",
       "    .dataframe tbody tr th:only-of-type {\n",
       "        vertical-align: middle;\n",
       "    }\n",
       "\n",
       "    .dataframe tbody tr th {\n",
       "        vertical-align: top;\n",
       "    }\n",
       "\n",
       "    .dataframe thead th {\n",
       "        text-align: right;\n",
       "    }\n",
       "</style>\n",
       "<table border=\"1\" class=\"dataframe\">\n",
       "  <thead>\n",
       "    <tr style=\"text-align: right;\">\n",
       "      <th></th>\n",
       "      <th>Deidentified_Pat_ID</th>\n",
       "      <th>Year</th>\n",
       "      <th>BMI</th>\n",
       "      <th>BMI_log</th>\n",
       "    </tr>\n",
       "  </thead>\n",
       "  <tbody>\n",
       "    <tr>\n",
       "      <th>0</th>\n",
       "      <td>MGVKKNZN</td>\n",
       "      <td>2018.0</td>\n",
       "      <td>66.0</td>\n",
       "      <td>4.189655</td>\n",
       "    </tr>\n",
       "    <tr>\n",
       "      <th>1</th>\n",
       "      <td>MGVNDNAK</td>\n",
       "      <td>2019.0</td>\n",
       "      <td>73.0</td>\n",
       "      <td>4.290459</td>\n",
       "    </tr>\n",
       "    <tr>\n",
       "      <th>2</th>\n",
       "      <td>MNAAOKVG</td>\n",
       "      <td>2017.0</td>\n",
       "      <td>70.0</td>\n",
       "      <td>4.248495</td>\n",
       "    </tr>\n",
       "    <tr>\n",
       "      <th>3</th>\n",
       "      <td>MNADDANN</td>\n",
       "      <td>2016.0</td>\n",
       "      <td>68.0</td>\n",
       "      <td>4.219508</td>\n",
       "    </tr>\n",
       "    <tr>\n",
       "      <th>4</th>\n",
       "      <td>MNADDANN</td>\n",
       "      <td>2017.0</td>\n",
       "      <td>68.0</td>\n",
       "      <td>4.219508</td>\n",
       "    </tr>\n",
       "  </tbody>\n",
       "</table>\n",
       "</div>"
      ],
      "text/plain": [
       "  Deidentified_Pat_ID    Year   BMI   BMI_log\n",
       "0            MGVKKNZN  2018.0  66.0  4.189655\n",
       "1            MGVNDNAK  2019.0  73.0  4.290459\n",
       "2            MNAAOKVG  2017.0  70.0  4.248495\n",
       "3            MNADDANN  2016.0  68.0  4.219508\n",
       "4            MNADDANN  2017.0  68.0  4.219508"
      ]
     },
     "execution_count": 803,
     "metadata": {},
     "output_type": "execute_result"
    }
   ],
   "source": [
    "target_BMI = BMI_mean_bp\n",
    "target_BMI.columns = ['Deidentified_Pat_ID','Year','BMI','BMI_log']\n",
    "target_BMI.head()\n"
   ]
  },
  {
   "cell_type": "code",
   "execution_count": 804,
   "metadata": {},
   "outputs": [
    {
     "data": {
      "text/html": [
       "<div>\n",
       "<style scoped>\n",
       "    .dataframe tbody tr th:only-of-type {\n",
       "        vertical-align: middle;\n",
       "    }\n",
       "\n",
       "    .dataframe tbody tr th {\n",
       "        vertical-align: top;\n",
       "    }\n",
       "\n",
       "    .dataframe thead th {\n",
       "        text-align: right;\n",
       "    }\n",
       "</style>\n",
       "<table border=\"1\" class=\"dataframe\">\n",
       "  <thead>\n",
       "    <tr style=\"text-align: right;\">\n",
       "      <th></th>\n",
       "      <th>Deidentified_Pat_ID</th>\n",
       "      <th>WeightYear</th>\n",
       "      <th>Weight</th>\n",
       "    </tr>\n",
       "  </thead>\n",
       "  <tbody>\n",
       "    <tr>\n",
       "      <th>0</th>\n",
       "      <td>MGVKKNZN</td>\n",
       "      <td>2018.0</td>\n",
       "      <td>2320.0</td>\n",
       "    </tr>\n",
       "    <tr>\n",
       "      <th>1</th>\n",
       "      <td>MGVNDNAK</td>\n",
       "      <td>2019.0</td>\n",
       "      <td>2872.0</td>\n",
       "    </tr>\n",
       "    <tr>\n",
       "      <th>2</th>\n",
       "      <td>MNAAOKVG</td>\n",
       "      <td>2016.0</td>\n",
       "      <td>2617.6</td>\n",
       "    </tr>\n",
       "    <tr>\n",
       "      <th>3</th>\n",
       "      <td>MNAAOKVG</td>\n",
       "      <td>2017.0</td>\n",
       "      <td>2691.2</td>\n",
       "    </tr>\n",
       "    <tr>\n",
       "      <th>4</th>\n",
       "      <td>MNAAOKVG</td>\n",
       "      <td>2019.0</td>\n",
       "      <td>2619.2</td>\n",
       "    </tr>\n",
       "  </tbody>\n",
       "</table>\n",
       "</div>"
      ],
      "text/plain": [
       "  Deidentified_Pat_ID  WeightYear  Weight\n",
       "0            MGVKKNZN      2018.0  2320.0\n",
       "1            MGVNDNAK      2019.0  2872.0\n",
       "2            MNAAOKVG      2016.0  2617.6\n",
       "3            MNAAOKVG      2017.0  2691.2\n",
       "4            MNAAOKVG      2019.0  2619.2"
      ]
     },
     "execution_count": 804,
     "metadata": {},
     "output_type": "execute_result"
    }
   ],
   "source": [
    "target_Weight = weight_mean_bp\n",
    "target_Weight.head()"
   ]
  },
  {
   "cell_type": "code",
   "execution_count": 805,
   "metadata": {},
   "outputs": [
    {
     "data": {
      "text/html": [
       "<div>\n",
       "<style scoped>\n",
       "    .dataframe tbody tr th:only-of-type {\n",
       "        vertical-align: middle;\n",
       "    }\n",
       "\n",
       "    .dataframe tbody tr th {\n",
       "        vertical-align: top;\n",
       "    }\n",
       "\n",
       "    .dataframe thead th {\n",
       "        text-align: right;\n",
       "    }\n",
       "</style>\n",
       "<table border=\"1\" class=\"dataframe\">\n",
       "  <thead>\n",
       "    <tr style=\"text-align: right;\">\n",
       "      <th></th>\n",
       "      <th>Deidentified_Pat_ID</th>\n",
       "      <th>Year</th>\n",
       "      <th>Weight</th>\n",
       "    </tr>\n",
       "  </thead>\n",
       "  <tbody>\n",
       "    <tr>\n",
       "      <th>0</th>\n",
       "      <td>MGVKKNZN</td>\n",
       "      <td>2018.0</td>\n",
       "      <td>2320.0</td>\n",
       "    </tr>\n",
       "    <tr>\n",
       "      <th>1</th>\n",
       "      <td>MGVNDNAK</td>\n",
       "      <td>2019.0</td>\n",
       "      <td>2872.0</td>\n",
       "    </tr>\n",
       "    <tr>\n",
       "      <th>2</th>\n",
       "      <td>MNAAOKVG</td>\n",
       "      <td>2016.0</td>\n",
       "      <td>2617.6</td>\n",
       "    </tr>\n",
       "    <tr>\n",
       "      <th>3</th>\n",
       "      <td>MNAAOKVG</td>\n",
       "      <td>2017.0</td>\n",
       "      <td>2691.2</td>\n",
       "    </tr>\n",
       "    <tr>\n",
       "      <th>4</th>\n",
       "      <td>MNAAOKVG</td>\n",
       "      <td>2019.0</td>\n",
       "      <td>2619.2</td>\n",
       "    </tr>\n",
       "  </tbody>\n",
       "</table>\n",
       "</div>"
      ],
      "text/plain": [
       "  Deidentified_Pat_ID    Year  Weight\n",
       "0            MGVKKNZN  2018.0  2320.0\n",
       "1            MGVNDNAK  2019.0  2872.0\n",
       "2            MNAAOKVG  2016.0  2617.6\n",
       "3            MNAAOKVG  2017.0  2691.2\n",
       "4            MNAAOKVG  2019.0  2619.2"
      ]
     },
     "execution_count": 805,
     "metadata": {},
     "output_type": "execute_result"
    }
   ],
   "source": [
    "target_Weight = weight_mean_bp\n",
    "target_Weight.columns = ['Deidentified_Pat_ID','Year','Weight']\n",
    "target_Weight.head()\n"
   ]
  },
  {
   "cell_type": "code",
   "execution_count": 806,
   "metadata": {},
   "outputs": [
    {
     "data": {
      "text/html": [
       "<div>\n",
       "<style scoped>\n",
       "    .dataframe tbody tr th:only-of-type {\n",
       "        vertical-align: middle;\n",
       "    }\n",
       "\n",
       "    .dataframe tbody tr th {\n",
       "        vertical-align: top;\n",
       "    }\n",
       "\n",
       "    .dataframe thead th {\n",
       "        text-align: right;\n",
       "    }\n",
       "</style>\n",
       "<table border=\"1\" class=\"dataframe\">\n",
       "  <thead>\n",
       "    <tr style=\"text-align: right;\">\n",
       "      <th></th>\n",
       "      <th>Deidentified_Pat_ID</th>\n",
       "      <th>Year</th>\n",
       "      <th>Height</th>\n",
       "    </tr>\n",
       "  </thead>\n",
       "  <tbody>\n",
       "    <tr>\n",
       "      <th>0</th>\n",
       "      <td>MGVKKNZN</td>\n",
       "      <td>2018.0</td>\n",
       "      <td>23.41</td>\n",
       "    </tr>\n",
       "    <tr>\n",
       "      <th>1</th>\n",
       "      <td>MGVNDNAK</td>\n",
       "      <td>2019.0</td>\n",
       "      <td>23.69</td>\n",
       "    </tr>\n",
       "    <tr>\n",
       "      <th>2</th>\n",
       "      <td>MNAAOKVG</td>\n",
       "      <td>2017.0</td>\n",
       "      <td>24.13</td>\n",
       "    </tr>\n",
       "    <tr>\n",
       "      <th>3</th>\n",
       "      <td>MNADDANN</td>\n",
       "      <td>2016.0</td>\n",
       "      <td>27.83</td>\n",
       "    </tr>\n",
       "    <tr>\n",
       "      <th>4</th>\n",
       "      <td>MNADDANN</td>\n",
       "      <td>2017.0</td>\n",
       "      <td>28.90</td>\n",
       "    </tr>\n",
       "  </tbody>\n",
       "</table>\n",
       "</div>"
      ],
      "text/plain": [
       "  Deidentified_Pat_ID    Year  Height\n",
       "0            MGVKKNZN  2018.0   23.41\n",
       "1            MGVNDNAK  2019.0   23.69\n",
       "2            MNAAOKVG  2017.0   24.13\n",
       "3            MNADDANN  2016.0   27.83\n",
       "4            MNADDANN  2017.0   28.90"
      ]
     },
     "execution_count": 806,
     "metadata": {},
     "output_type": "execute_result"
    }
   ],
   "source": [
    "target_Height = height_mean_bp\n",
    "target_Height.columns = ['Deidentified_Pat_ID','Year','Height']\n",
    "target_Height.head()"
   ]
  },
  {
   "cell_type": "code",
   "execution_count": 807,
   "metadata": {},
   "outputs": [
    {
     "data": {
      "text/html": [
       "<div>\n",
       "<style scoped>\n",
       "    .dataframe tbody tr th:only-of-type {\n",
       "        vertical-align: middle;\n",
       "    }\n",
       "\n",
       "    .dataframe tbody tr th {\n",
       "        vertical-align: top;\n",
       "    }\n",
       "\n",
       "    .dataframe thead th {\n",
       "        text-align: right;\n",
       "    }\n",
       "</style>\n",
       "<table border=\"1\" class=\"dataframe\">\n",
       "  <thead>\n",
       "    <tr style=\"text-align: right;\">\n",
       "      <th></th>\n",
       "      <th>Deidentified_Pat_ID</th>\n",
       "      <th>Year</th>\n",
       "      <th>Height</th>\n",
       "    </tr>\n",
       "  </thead>\n",
       "  <tbody>\n",
       "    <tr>\n",
       "      <th>0</th>\n",
       "      <td>MGVKKNZN</td>\n",
       "      <td>2018.0</td>\n",
       "      <td>23.41</td>\n",
       "    </tr>\n",
       "    <tr>\n",
       "      <th>1</th>\n",
       "      <td>MGVNDNAK</td>\n",
       "      <td>2019.0</td>\n",
       "      <td>23.69</td>\n",
       "    </tr>\n",
       "    <tr>\n",
       "      <th>2</th>\n",
       "      <td>MNAAOKVG</td>\n",
       "      <td>2017.0</td>\n",
       "      <td>24.13</td>\n",
       "    </tr>\n",
       "    <tr>\n",
       "      <th>3</th>\n",
       "      <td>MNADDANN</td>\n",
       "      <td>2016.0</td>\n",
       "      <td>27.83</td>\n",
       "    </tr>\n",
       "    <tr>\n",
       "      <th>4</th>\n",
       "      <td>MNADDANN</td>\n",
       "      <td>2017.0</td>\n",
       "      <td>28.90</td>\n",
       "    </tr>\n",
       "  </tbody>\n",
       "</table>\n",
       "</div>"
      ],
      "text/plain": [
       "  Deidentified_Pat_ID    Year  Height\n",
       "0            MGVKKNZN  2018.0   23.41\n",
       "1            MGVNDNAK  2019.0   23.69\n",
       "2            MNAAOKVG  2017.0   24.13\n",
       "3            MNADDANN  2016.0   27.83\n",
       "4            MNADDANN  2017.0   28.90"
      ]
     },
     "execution_count": 807,
     "metadata": {},
     "output_type": "execute_result"
    }
   ],
   "source": [
    "target_Height.head()"
   ]
  },
  {
   "cell_type": "code",
   "execution_count": 808,
   "metadata": {},
   "outputs": [
    {
     "data": {
      "text/plain": [
       "16442"
      ]
     },
     "execution_count": 808,
     "metadata": {},
     "output_type": "execute_result"
    }
   ],
   "source": [
    "res_all = pd.merge(target_BMI, head_pd, how='right',on=['Deidentified_Pat_ID'])\n",
    "#res = res[[ 'Deidentified_Pat_ID', 'triglyceride','ldl', 'hdl','a1c']]\n",
    "len(res_all)"
   ]
  },
  {
   "cell_type": "code",
   "execution_count": 809,
   "metadata": {},
   "outputs": [
    {
     "data": {
      "text/html": [
       "<div>\n",
       "<style scoped>\n",
       "    .dataframe tbody tr th:only-of-type {\n",
       "        vertical-align: middle;\n",
       "    }\n",
       "\n",
       "    .dataframe tbody tr th {\n",
       "        vertical-align: top;\n",
       "    }\n",
       "\n",
       "    .dataframe thead th {\n",
       "        text-align: right;\n",
       "    }\n",
       "</style>\n",
       "<table border=\"1\" class=\"dataframe\">\n",
       "  <thead>\n",
       "    <tr style=\"text-align: right;\">\n",
       "      <th></th>\n",
       "      <th>Deidentified_Pat_ID</th>\n",
       "      <th>Year</th>\n",
       "      <th>BMI</th>\n",
       "      <th>BMI_log</th>\n",
       "    </tr>\n",
       "  </thead>\n",
       "  <tbody>\n",
       "    <tr>\n",
       "      <th>0</th>\n",
       "      <td>MGVKKNZN</td>\n",
       "      <td>2018.0</td>\n",
       "      <td>66.000000</td>\n",
       "      <td>4.189655</td>\n",
       "    </tr>\n",
       "    <tr>\n",
       "      <th>1</th>\n",
       "      <td>MNADOVKN</td>\n",
       "      <td>2016.0</td>\n",
       "      <td>72.000000</td>\n",
       "      <td>4.276666</td>\n",
       "    </tr>\n",
       "    <tr>\n",
       "      <th>2</th>\n",
       "      <td>MNADOVKN</td>\n",
       "      <td>2017.0</td>\n",
       "      <td>70.706667</td>\n",
       "      <td>4.258540</td>\n",
       "    </tr>\n",
       "    <tr>\n",
       "      <th>3</th>\n",
       "      <td>MNADOVKN</td>\n",
       "      <td>2018.0</td>\n",
       "      <td>71.530000</td>\n",
       "      <td>4.270117</td>\n",
       "    </tr>\n",
       "    <tr>\n",
       "      <th>4</th>\n",
       "      <td>MNAODHZZ</td>\n",
       "      <td>2016.0</td>\n",
       "      <td>74.000000</td>\n",
       "      <td>4.304065</td>\n",
       "    </tr>\n",
       "  </tbody>\n",
       "</table>\n",
       "</div>"
      ],
      "text/plain": [
       "  Deidentified_Pat_ID    Year        BMI   BMI_log\n",
       "0            MGVKKNZN  2018.0  66.000000  4.189655\n",
       "1            MNADOVKN  2016.0  72.000000  4.276666\n",
       "2            MNADOVKN  2017.0  70.706667  4.258540\n",
       "3            MNADOVKN  2018.0  71.530000  4.270117\n",
       "4            MNAODHZZ  2016.0  74.000000  4.304065"
      ]
     },
     "execution_count": 809,
     "metadata": {},
     "output_type": "execute_result"
    }
   ],
   "source": [
    "res_all.head()"
   ]
  },
  {
   "cell_type": "code",
   "execution_count": 810,
   "metadata": {},
   "outputs": [
    {
     "data": {
      "text/plain": [
       "(1.0, 0.9954993309816325, 0.9954993309816325)"
      ]
     },
     "execution_count": 810,
     "metadata": {},
     "output_type": "execute_result"
    }
   ],
   "source": [
    "len(res_all[res_all['Deidentified_Pat_ID'].notna()])/len(res_all),len(res_all[res_all['Year'].notna()])/len(res_all),len(res_all[res_all['BMI'].notna()])/len(res_all)"
   ]
  },
  {
   "cell_type": "code",
   "execution_count": 811,
   "metadata": {},
   "outputs": [
    {
     "name": "stdout",
     "output_type": "stream",
     "text": [
      "Percent of missing data\n"
     ]
    },
    {
     "data": {
      "text/plain": [
       "[('Year', 0.45),\n",
       " ('BMI', 0.45),\n",
       " ('BMI_log', 0.45),\n",
       " ('Deidentified_Pat_ID', 0.0)]"
      ]
     },
     "execution_count": 811,
     "metadata": {},
     "output_type": "execute_result"
    }
   ],
   "source": [
    "missing = percent_missing(res_all)\n",
    "df_miss = sorted(missing.items(), key=lambda x: x[1], reverse=True)\n",
    "print('Percent of missing data')\n",
    "df_miss"
   ]
  },
  {
   "cell_type": "code",
   "execution_count": 812,
   "metadata": {},
   "outputs": [
    {
     "data": {
      "text/plain": [
       "3910"
      ]
     },
     "execution_count": 812,
     "metadata": {},
     "output_type": "execute_result"
    }
   ],
   "source": [
    "len(pd.Series(res_all[\"Deidentified_Pat_ID\"].tolist()).sort_values().unique())"
   ]
  },
  {
   "cell_type": "code",
   "execution_count": 813,
   "metadata": {},
   "outputs": [
    {
     "data": {
      "text/html": [
       "<div>\n",
       "<style scoped>\n",
       "    .dataframe tbody tr th:only-of-type {\n",
       "        vertical-align: middle;\n",
       "    }\n",
       "\n",
       "    .dataframe tbody tr th {\n",
       "        vertical-align: top;\n",
       "    }\n",
       "\n",
       "    .dataframe thead th {\n",
       "        text-align: right;\n",
       "    }\n",
       "</style>\n",
       "<table border=\"1\" class=\"dataframe\">\n",
       "  <thead>\n",
       "    <tr style=\"text-align: right;\">\n",
       "      <th></th>\n",
       "      <th>Deidentified_Pat_ID</th>\n",
       "      <th>Year</th>\n",
       "      <th>Weight</th>\n",
       "    </tr>\n",
       "  </thead>\n",
       "  <tbody>\n",
       "    <tr>\n",
       "      <th>0</th>\n",
       "      <td>MGVKKNZN</td>\n",
       "      <td>2018.0</td>\n",
       "      <td>2320.0</td>\n",
       "    </tr>\n",
       "    <tr>\n",
       "      <th>1</th>\n",
       "      <td>MGVNDNAK</td>\n",
       "      <td>2019.0</td>\n",
       "      <td>2872.0</td>\n",
       "    </tr>\n",
       "    <tr>\n",
       "      <th>2</th>\n",
       "      <td>MNAAOKVG</td>\n",
       "      <td>2016.0</td>\n",
       "      <td>2617.6</td>\n",
       "    </tr>\n",
       "    <tr>\n",
       "      <th>3</th>\n",
       "      <td>MNAAOKVG</td>\n",
       "      <td>2017.0</td>\n",
       "      <td>2691.2</td>\n",
       "    </tr>\n",
       "    <tr>\n",
       "      <th>4</th>\n",
       "      <td>MNAAOKVG</td>\n",
       "      <td>2019.0</td>\n",
       "      <td>2619.2</td>\n",
       "    </tr>\n",
       "  </tbody>\n",
       "</table>\n",
       "</div>"
      ],
      "text/plain": [
       "  Deidentified_Pat_ID    Year  Weight\n",
       "0            MGVKKNZN  2018.0  2320.0\n",
       "1            MGVNDNAK  2019.0  2872.0\n",
       "2            MNAAOKVG  2016.0  2617.6\n",
       "3            MNAAOKVG  2017.0  2691.2\n",
       "4            MNAAOKVG  2019.0  2619.2"
      ]
     },
     "execution_count": 813,
     "metadata": {},
     "output_type": "execute_result"
    }
   ],
   "source": [
    "target_Weight.head()"
   ]
  },
  {
   "cell_type": "code",
   "execution_count": null,
   "metadata": {},
   "outputs": [],
   "source": []
  },
  {
   "cell_type": "code",
   "execution_count": 814,
   "metadata": {},
   "outputs": [
    {
     "data": {
      "text/plain": [
       "16442"
      ]
     },
     "execution_count": 814,
     "metadata": {},
     "output_type": "execute_result"
    }
   ],
   "source": [
    "res_all1 = pd.merge(target_Weight, res_all, how='right',on=['Deidentified_Pat_ID','Year'])\n",
    "#res = res[[ 'Deidentified_Pat_ID', 'triglyceride','ldl', 'hdl','a1c']]\n",
    "len(res_all1)"
   ]
  },
  {
   "cell_type": "code",
   "execution_count": 815,
   "metadata": {},
   "outputs": [
    {
     "data": {
      "text/html": [
       "<div>\n",
       "<style scoped>\n",
       "    .dataframe tbody tr th:only-of-type {\n",
       "        vertical-align: middle;\n",
       "    }\n",
       "\n",
       "    .dataframe tbody tr th {\n",
       "        vertical-align: top;\n",
       "    }\n",
       "\n",
       "    .dataframe thead th {\n",
       "        text-align: right;\n",
       "    }\n",
       "</style>\n",
       "<table border=\"1\" class=\"dataframe\">\n",
       "  <thead>\n",
       "    <tr style=\"text-align: right;\">\n",
       "      <th></th>\n",
       "      <th>Deidentified_Pat_ID</th>\n",
       "      <th>Year</th>\n",
       "      <th>Weight</th>\n",
       "      <th>BMI</th>\n",
       "      <th>BMI_log</th>\n",
       "    </tr>\n",
       "  </thead>\n",
       "  <tbody>\n",
       "    <tr>\n",
       "      <th>0</th>\n",
       "      <td>MGVKKNZN</td>\n",
       "      <td>2018.0</td>\n",
       "      <td>2320.0</td>\n",
       "      <td>66.000000</td>\n",
       "      <td>4.189655</td>\n",
       "    </tr>\n",
       "    <tr>\n",
       "      <th>1</th>\n",
       "      <td>MNADOVKN</td>\n",
       "      <td>2016.0</td>\n",
       "      <td>3380.8</td>\n",
       "      <td>72.000000</td>\n",
       "      <td>4.276666</td>\n",
       "    </tr>\n",
       "    <tr>\n",
       "      <th>2</th>\n",
       "      <td>MNADOVKN</td>\n",
       "      <td>2017.0</td>\n",
       "      <td>3424.0</td>\n",
       "      <td>70.706667</td>\n",
       "      <td>4.258540</td>\n",
       "    </tr>\n",
       "    <tr>\n",
       "      <th>3</th>\n",
       "      <td>MNADOVKN</td>\n",
       "      <td>2018.0</td>\n",
       "      <td>3267.2</td>\n",
       "      <td>71.530000</td>\n",
       "      <td>4.270117</td>\n",
       "    </tr>\n",
       "    <tr>\n",
       "      <th>4</th>\n",
       "      <td>MNAOGDAK</td>\n",
       "      <td>2017.0</td>\n",
       "      <td>3664.8</td>\n",
       "      <td>71.000000</td>\n",
       "      <td>4.262680</td>\n",
       "    </tr>\n",
       "  </tbody>\n",
       "</table>\n",
       "</div>"
      ],
      "text/plain": [
       "  Deidentified_Pat_ID    Year  Weight        BMI   BMI_log\n",
       "0            MGVKKNZN  2018.0  2320.0  66.000000  4.189655\n",
       "1            MNADOVKN  2016.0  3380.8  72.000000  4.276666\n",
       "2            MNADOVKN  2017.0  3424.0  70.706667  4.258540\n",
       "3            MNADOVKN  2018.0  3267.2  71.530000  4.270117\n",
       "4            MNAOGDAK  2017.0  3664.8  71.000000  4.262680"
      ]
     },
     "execution_count": 815,
     "metadata": {},
     "output_type": "execute_result"
    }
   ],
   "source": [
    "res_all1.head()"
   ]
  },
  {
   "cell_type": "code",
   "execution_count": 816,
   "metadata": {},
   "outputs": [
    {
     "data": {
      "text/plain": [
       "(0.9847950371001095, 0.9954993309816325, 0.9954993309816325)"
      ]
     },
     "execution_count": 816,
     "metadata": {},
     "output_type": "execute_result"
    }
   ],
   "source": [
    "len(res_all1[res_all1['Weight'].notna()])/len(res_all1),len(res_all1[res_all1['Year'].notna()])/len(res_all1),len(res_all1[res_all1['BMI'].notna()])/len(res_all1)"
   ]
  },
  {
   "cell_type": "code",
   "execution_count": 817,
   "metadata": {},
   "outputs": [
    {
     "name": "stdout",
     "output_type": "stream",
     "text": [
      "Percent of missing data\n"
     ]
    },
    {
     "data": {
      "text/plain": [
       "[('Weight', 1.52),\n",
       " ('Year', 0.45),\n",
       " ('BMI', 0.45),\n",
       " ('BMI_log', 0.45),\n",
       " ('Deidentified_Pat_ID', 0.0)]"
      ]
     },
     "execution_count": 817,
     "metadata": {},
     "output_type": "execute_result"
    }
   ],
   "source": [
    "missing = percent_missing(res_all1)\n",
    "df_miss = sorted(missing.items(), key=lambda x: x[1], reverse=True)\n",
    "print('Percent of missing data')\n",
    "df_miss"
   ]
  },
  {
   "cell_type": "code",
   "execution_count": 818,
   "metadata": {},
   "outputs": [
    {
     "data": {
      "text/plain": [
       "16442"
      ]
     },
     "execution_count": 818,
     "metadata": {},
     "output_type": "execute_result"
    }
   ],
   "source": [
    "res_all2 = pd.merge(target_Height, res_all1, how='right',on=['Deidentified_Pat_ID','Year'])\n",
    "#res = res[[ 'Deidentified_Pat_ID', 'triglyceride','ldl', 'hdl','a1c']]\n",
    "len(res_all2)"
   ]
  },
  {
   "cell_type": "code",
   "execution_count": 819,
   "metadata": {},
   "outputs": [
    {
     "data": {
      "text/html": [
       "<div>\n",
       "<style scoped>\n",
       "    .dataframe tbody tr th:only-of-type {\n",
       "        vertical-align: middle;\n",
       "    }\n",
       "\n",
       "    .dataframe tbody tr th {\n",
       "        vertical-align: top;\n",
       "    }\n",
       "\n",
       "    .dataframe thead th {\n",
       "        text-align: right;\n",
       "    }\n",
       "</style>\n",
       "<table border=\"1\" class=\"dataframe\">\n",
       "  <thead>\n",
       "    <tr style=\"text-align: right;\">\n",
       "      <th></th>\n",
       "      <th>Deidentified_Pat_ID</th>\n",
       "      <th>Year</th>\n",
       "      <th>Height</th>\n",
       "      <th>Weight</th>\n",
       "      <th>BMI</th>\n",
       "      <th>BMI_log</th>\n",
       "    </tr>\n",
       "  </thead>\n",
       "  <tbody>\n",
       "    <tr>\n",
       "      <th>0</th>\n",
       "      <td>MGVKKNZN</td>\n",
       "      <td>2018.0</td>\n",
       "      <td>23.410000</td>\n",
       "      <td>2320.0</td>\n",
       "      <td>66.000000</td>\n",
       "      <td>4.189655</td>\n",
       "    </tr>\n",
       "    <tr>\n",
       "      <th>1</th>\n",
       "      <td>MNADOVKN</td>\n",
       "      <td>2016.0</td>\n",
       "      <td>28.340000</td>\n",
       "      <td>3380.8</td>\n",
       "      <td>72.000000</td>\n",
       "      <td>4.276666</td>\n",
       "    </tr>\n",
       "    <tr>\n",
       "      <th>2</th>\n",
       "      <td>MNADOVKN</td>\n",
       "      <td>2017.0</td>\n",
       "      <td>30.106667</td>\n",
       "      <td>3424.0</td>\n",
       "      <td>70.706667</td>\n",
       "      <td>4.258540</td>\n",
       "    </tr>\n",
       "    <tr>\n",
       "      <th>3</th>\n",
       "      <td>MNADOVKN</td>\n",
       "      <td>2018.0</td>\n",
       "      <td>27.995000</td>\n",
       "      <td>3267.2</td>\n",
       "      <td>71.530000</td>\n",
       "      <td>4.270117</td>\n",
       "    </tr>\n",
       "    <tr>\n",
       "      <th>4</th>\n",
       "      <td>MNAODHZZ</td>\n",
       "      <td>2016.0</td>\n",
       "      <td>50.060000</td>\n",
       "      <td>NaN</td>\n",
       "      <td>74.000000</td>\n",
       "      <td>4.304065</td>\n",
       "    </tr>\n",
       "  </tbody>\n",
       "</table>\n",
       "</div>"
      ],
      "text/plain": [
       "  Deidentified_Pat_ID    Year     Height  Weight        BMI   BMI_log\n",
       "0            MGVKKNZN  2018.0  23.410000  2320.0  66.000000  4.189655\n",
       "1            MNADOVKN  2016.0  28.340000  3380.8  72.000000  4.276666\n",
       "2            MNADOVKN  2017.0  30.106667  3424.0  70.706667  4.258540\n",
       "3            MNADOVKN  2018.0  27.995000  3267.2  71.530000  4.270117\n",
       "4            MNAODHZZ  2016.0  50.060000     NaN  74.000000  4.304065"
      ]
     },
     "execution_count": 819,
     "metadata": {},
     "output_type": "execute_result"
    }
   ],
   "source": [
    "res_all2.head()"
   ]
  },
  {
   "cell_type": "code",
   "execution_count": 820,
   "metadata": {},
   "outputs": [
    {
     "data": {
      "text/plain": [
       "(0.9847950371001095, 0.9874102907188906, 0.9954993309816325)"
      ]
     },
     "execution_count": 820,
     "metadata": {},
     "output_type": "execute_result"
    }
   ],
   "source": [
    "len(res_all2[res_all2['Weight'].notna()])/len(res_all2),len(res_all2[res_all2['Height'].notna()])/len(res_all2),len(res_all2[res_all2['BMI'].notna()])/len(res_all2)"
   ]
  },
  {
   "cell_type": "code",
   "execution_count": 821,
   "metadata": {},
   "outputs": [
    {
     "name": "stdout",
     "output_type": "stream",
     "text": [
      "Percent of missing data\n"
     ]
    },
    {
     "data": {
      "text/plain": [
       "[('Weight', 1.52),\n",
       " ('Height', 1.26),\n",
       " ('Year', 0.45),\n",
       " ('BMI', 0.45),\n",
       " ('BMI_log', 0.45),\n",
       " ('Deidentified_Pat_ID', 0.0)]"
      ]
     },
     "execution_count": 821,
     "metadata": {},
     "output_type": "execute_result"
    }
   ],
   "source": [
    "missing = percent_missing(res_all2)\n",
    "df_miss = sorted(missing.items(), key=lambda x: x[1], reverse=True)\n",
    "print('Percent of missing data')\n",
    "df_miss"
   ]
  },
  {
   "cell_type": "code",
   "execution_count": null,
   "metadata": {},
   "outputs": [],
   "source": []
  },
  {
   "cell_type": "code",
   "execution_count": 822,
   "metadata": {},
   "outputs": [
    {
     "data": {
      "text/html": [
       "<div>\n",
       "<style scoped>\n",
       "    .dataframe tbody tr th:only-of-type {\n",
       "        vertical-align: middle;\n",
       "    }\n",
       "\n",
       "    .dataframe tbody tr th {\n",
       "        vertical-align: top;\n",
       "    }\n",
       "\n",
       "    .dataframe thead th {\n",
       "        text-align: right;\n",
       "    }\n",
       "</style>\n",
       "<table border=\"1\" class=\"dataframe\">\n",
       "  <thead>\n",
       "    <tr style=\"text-align: right;\">\n",
       "      <th></th>\n",
       "      <th>Year</th>\n",
       "      <th>Height</th>\n",
       "      <th>Weight</th>\n",
       "      <th>BMI</th>\n",
       "      <th>BMI_log</th>\n",
       "    </tr>\n",
       "  </thead>\n",
       "  <tbody>\n",
       "    <tr>\n",
       "      <th>count</th>\n",
       "      <td>16368.000000</td>\n",
       "      <td>16235.000000</td>\n",
       "      <td>16192.000000</td>\n",
       "      <td>16368.000000</td>\n",
       "      <td>16368.000000</td>\n",
       "    </tr>\n",
       "    <tr>\n",
       "      <th>mean</th>\n",
       "      <td>2016.480327</td>\n",
       "      <td>30.064586</td>\n",
       "      <td>3051.804943</td>\n",
       "      <td>66.994239</td>\n",
       "      <td>4.203008</td>\n",
       "    </tr>\n",
       "    <tr>\n",
       "      <th>std</th>\n",
       "      <td>1.574870</td>\n",
       "      <td>8.919710</td>\n",
       "      <td>697.554255</td>\n",
       "      <td>3.795246</td>\n",
       "      <td>0.056521</td>\n",
       "    </tr>\n",
       "    <tr>\n",
       "      <th>min</th>\n",
       "      <td>2014.000000</td>\n",
       "      <td>15.260000</td>\n",
       "      <td>1320.000000</td>\n",
       "      <td>39.500000</td>\n",
       "      <td>3.676301</td>\n",
       "    </tr>\n",
       "    <tr>\n",
       "      <th>25%</th>\n",
       "      <td>2015.000000</td>\n",
       "      <td>25.410000</td>\n",
       "      <td>2526.700313</td>\n",
       "      <td>64.016000</td>\n",
       "      <td>4.159133</td>\n",
       "    </tr>\n",
       "    <tr>\n",
       "      <th>50%</th>\n",
       "      <td>2017.000000</td>\n",
       "      <td>29.070000</td>\n",
       "      <td>2993.061667</td>\n",
       "      <td>66.733700</td>\n",
       "      <td>4.200710</td>\n",
       "    </tr>\n",
       "    <tr>\n",
       "      <th>75%</th>\n",
       "      <td>2018.000000</td>\n",
       "      <td>33.520000</td>\n",
       "      <td>3496.200000</td>\n",
       "      <td>69.842500</td>\n",
       "      <td>4.246243</td>\n",
       "    </tr>\n",
       "    <tr>\n",
       "      <th>max</th>\n",
       "      <td>2019.000000</td>\n",
       "      <td>802.385714</td>\n",
       "      <td>5107.190000</td>\n",
       "      <td>80.350000</td>\n",
       "      <td>4.386392</td>\n",
       "    </tr>\n",
       "  </tbody>\n",
       "</table>\n",
       "</div>"
      ],
      "text/plain": [
       "               Year        Height        Weight           BMI       BMI_log\n",
       "count  16368.000000  16235.000000  16192.000000  16368.000000  16368.000000\n",
       "mean    2016.480327     30.064586   3051.804943     66.994239      4.203008\n",
       "std        1.574870      8.919710    697.554255      3.795246      0.056521\n",
       "min     2014.000000     15.260000   1320.000000     39.500000      3.676301\n",
       "25%     2015.000000     25.410000   2526.700313     64.016000      4.159133\n",
       "50%     2017.000000     29.070000   2993.061667     66.733700      4.200710\n",
       "75%     2018.000000     33.520000   3496.200000     69.842500      4.246243\n",
       "max     2019.000000    802.385714   5107.190000     80.350000      4.386392"
      ]
     },
     "execution_count": 822,
     "metadata": {},
     "output_type": "execute_result"
    }
   ],
   "source": [
    "res_all2.describe()"
   ]
  },
  {
   "cell_type": "code",
   "execution_count": 823,
   "metadata": {},
   "outputs": [
    {
     "data": {
      "text/plain": [
       "Year       16368\n",
       "Height     16235\n",
       "Weight     16192\n",
       "BMI        16368\n",
       "BMI_log    16368\n",
       "dtype: int64"
      ]
     },
     "execution_count": 823,
     "metadata": {},
     "output_type": "execute_result"
    }
   ],
   "source": [
    "res_all2.count().tail()"
   ]
  },
  {
   "cell_type": "code",
   "execution_count": 824,
   "metadata": {},
   "outputs": [
    {
     "data": {
      "text/html": [
       "<div>\n",
       "<style scoped>\n",
       "    .dataframe tbody tr th:only-of-type {\n",
       "        vertical-align: middle;\n",
       "    }\n",
       "\n",
       "    .dataframe tbody tr th {\n",
       "        vertical-align: top;\n",
       "    }\n",
       "\n",
       "    .dataframe thead th {\n",
       "        text-align: right;\n",
       "    }\n",
       "</style>\n",
       "<table border=\"1\" class=\"dataframe\">\n",
       "  <thead>\n",
       "    <tr style=\"text-align: right;\">\n",
       "      <th></th>\n",
       "      <th>Deidentified_Pat_ID</th>\n",
       "      <th>Year</th>\n",
       "      <th>Height</th>\n",
       "      <th>Weight</th>\n",
       "      <th>BMI</th>\n",
       "      <th>BMI_log</th>\n",
       "    </tr>\n",
       "  </thead>\n",
       "  <tbody>\n",
       "    <tr>\n",
       "      <th>0</th>\n",
       "      <td>False</td>\n",
       "      <td>False</td>\n",
       "      <td>False</td>\n",
       "      <td>False</td>\n",
       "      <td>False</td>\n",
       "      <td>False</td>\n",
       "    </tr>\n",
       "    <tr>\n",
       "      <th>1</th>\n",
       "      <td>False</td>\n",
       "      <td>False</td>\n",
       "      <td>False</td>\n",
       "      <td>False</td>\n",
       "      <td>False</td>\n",
       "      <td>False</td>\n",
       "    </tr>\n",
       "    <tr>\n",
       "      <th>2</th>\n",
       "      <td>False</td>\n",
       "      <td>False</td>\n",
       "      <td>False</td>\n",
       "      <td>False</td>\n",
       "      <td>False</td>\n",
       "      <td>False</td>\n",
       "    </tr>\n",
       "    <tr>\n",
       "      <th>3</th>\n",
       "      <td>False</td>\n",
       "      <td>False</td>\n",
       "      <td>False</td>\n",
       "      <td>False</td>\n",
       "      <td>False</td>\n",
       "      <td>False</td>\n",
       "    </tr>\n",
       "    <tr>\n",
       "      <th>4</th>\n",
       "      <td>False</td>\n",
       "      <td>False</td>\n",
       "      <td>False</td>\n",
       "      <td>True</td>\n",
       "      <td>False</td>\n",
       "      <td>False</td>\n",
       "    </tr>\n",
       "  </tbody>\n",
       "</table>\n",
       "</div>"
      ],
      "text/plain": [
       "   Deidentified_Pat_ID   Year  Height  Weight    BMI  BMI_log\n",
       "0                False  False   False   False  False    False\n",
       "1                False  False   False   False  False    False\n",
       "2                False  False   False   False  False    False\n",
       "3                False  False   False   False  False    False\n",
       "4                False  False   False    True  False    False"
      ]
     },
     "execution_count": 824,
     "metadata": {},
     "output_type": "execute_result"
    }
   ],
   "source": [
    "res_all2_missing = res_all2.isna()\n",
    "res_all2_missing.head()"
   ]
  },
  {
   "cell_type": "code",
   "execution_count": 825,
   "metadata": {},
   "outputs": [
    {
     "data": {
      "text/plain": [
       "Deidentified_Pat_ID    bool\n",
       "Year                   bool\n",
       "Height                 bool\n",
       "Weight                 bool\n",
       "BMI                    bool\n",
       "BMI_log                bool\n",
       "dtype: object"
      ]
     },
     "execution_count": 825,
     "metadata": {},
     "output_type": "execute_result"
    }
   ],
   "source": [
    "res_all2_missing.dtypes"
   ]
  },
  {
   "cell_type": "code",
   "execution_count": 826,
   "metadata": {},
   "outputs": [
    {
     "data": {
      "text/plain": [
       "Deidentified_Pat_ID      0\n",
       "Year                    74\n",
       "Height                 207\n",
       "Weight                 250\n",
       "BMI                     74\n",
       "BMI_log                 74\n",
       "dtype: int64"
      ]
     },
     "execution_count": 826,
     "metadata": {},
     "output_type": "execute_result"
    }
   ],
   "source": [
    "res_all2_num_missing = res_all2_missing.sum()\n",
    "res_all2_num_missing"
   ]
  },
  {
   "cell_type": "code",
   "execution_count": 827,
   "metadata": {},
   "outputs": [
    {
     "data": {
      "text/plain": [
       "Deidentified_Pat_ID    0.000000\n",
       "Year                   0.004501\n",
       "Height                 0.012590\n",
       "Weight                 0.015205\n",
       "BMI                    0.004501\n",
       "BMI_log                0.004501\n",
       "dtype: float64"
      ]
     },
     "execution_count": 827,
     "metadata": {},
     "output_type": "execute_result"
    }
   ],
   "source": [
    "res_all2_num_missing / len(res_all2)"
   ]
  },
  {
   "cell_type": "code",
   "execution_count": null,
   "metadata": {},
   "outputs": [],
   "source": []
  },
  {
   "cell_type": "code",
   "execution_count": 828,
   "metadata": {},
   "outputs": [
    {
     "data": {
      "text/html": [
       "<div>\n",
       "<style scoped>\n",
       "    .dataframe tbody tr th:only-of-type {\n",
       "        vertical-align: middle;\n",
       "    }\n",
       "\n",
       "    .dataframe tbody tr th {\n",
       "        vertical-align: top;\n",
       "    }\n",
       "\n",
       "    .dataframe thead th {\n",
       "        text-align: right;\n",
       "    }\n",
       "</style>\n",
       "<table border=\"1\" class=\"dataframe\">\n",
       "  <thead>\n",
       "    <tr style=\"text-align: right;\">\n",
       "      <th></th>\n",
       "      <th>Deidentified_Pat_ID</th>\n",
       "      <th>Year</th>\n",
       "      <th>Height</th>\n",
       "      <th>Weight</th>\n",
       "      <th>BMI</th>\n",
       "      <th>BMI_log</th>\n",
       "    </tr>\n",
       "  </thead>\n",
       "  <tbody>\n",
       "    <tr>\n",
       "      <th>16368</th>\n",
       "      <td>MNHVZHOT</td>\n",
       "      <td>NaN</td>\n",
       "      <td>NaN</td>\n",
       "      <td>NaN</td>\n",
       "      <td>NaN</td>\n",
       "      <td>NaN</td>\n",
       "    </tr>\n",
       "    <tr>\n",
       "      <th>16369</th>\n",
       "      <td>MNOAZATN</td>\n",
       "      <td>NaN</td>\n",
       "      <td>NaN</td>\n",
       "      <td>NaN</td>\n",
       "      <td>NaN</td>\n",
       "      <td>NaN</td>\n",
       "    </tr>\n",
       "    <tr>\n",
       "      <th>16370</th>\n",
       "      <td>ZDDKHODA</td>\n",
       "      <td>NaN</td>\n",
       "      <td>NaN</td>\n",
       "      <td>NaN</td>\n",
       "      <td>NaN</td>\n",
       "      <td>NaN</td>\n",
       "    </tr>\n",
       "    <tr>\n",
       "      <th>16371</th>\n",
       "      <td>ZDDVOGAZ</td>\n",
       "      <td>NaN</td>\n",
       "      <td>NaN</td>\n",
       "      <td>NaN</td>\n",
       "      <td>NaN</td>\n",
       "      <td>NaN</td>\n",
       "    </tr>\n",
       "    <tr>\n",
       "      <th>16372</th>\n",
       "      <td>ZDDZDTTH</td>\n",
       "      <td>NaN</td>\n",
       "      <td>NaN</td>\n",
       "      <td>NaN</td>\n",
       "      <td>NaN</td>\n",
       "      <td>NaN</td>\n",
       "    </tr>\n",
       "  </tbody>\n",
       "</table>\n",
       "</div>"
      ],
      "text/plain": [
       "      Deidentified_Pat_ID  Year  Height  Weight  BMI  BMI_log\n",
       "16368            MNHVZHOT   NaN     NaN     NaN  NaN      NaN\n",
       "16369            MNOAZATN   NaN     NaN     NaN  NaN      NaN\n",
       "16370            ZDDKHODA   NaN     NaN     NaN  NaN      NaN\n",
       "16371            ZDDVOGAZ   NaN     NaN     NaN  NaN      NaN\n",
       "16372            ZDDZDTTH   NaN     NaN     NaN  NaN      NaN"
      ]
     },
     "execution_count": 828,
     "metadata": {},
     "output_type": "execute_result"
    }
   ],
   "source": [
    "res_all2[res_all2['Year'].isna()].head()"
   ]
  },
  {
   "cell_type": "code",
   "execution_count": null,
   "metadata": {},
   "outputs": [],
   "source": []
  },
  {
   "cell_type": "code",
   "execution_count": null,
   "metadata": {},
   "outputs": [],
   "source": []
  },
  {
   "cell_type": "code",
   "execution_count": 829,
   "metadata": {},
   "outputs": [
    {
     "data": {
      "text/plain": [
       "16368"
      ]
     },
     "execution_count": 829,
     "metadata": {},
     "output_type": "execute_result"
    }
   ],
   "source": [
    "res = pd.merge(target_BMI, head_pd, how='inner',on=['Deidentified_Pat_ID'])\n",
    "#res = res[[ 'Deidentified_Pat_ID', 'triglyceride','ldl', 'hdl','a1c']]\n",
    "len(res)"
   ]
  },
  {
   "cell_type": "code",
   "execution_count": null,
   "metadata": {},
   "outputs": [],
   "source": []
  },
  {
   "cell_type": "code",
   "execution_count": null,
   "metadata": {},
   "outputs": [],
   "source": []
  },
  {
   "cell_type": "code",
   "execution_count": null,
   "metadata": {},
   "outputs": [],
   "source": []
  },
  {
   "cell_type": "code",
   "execution_count": null,
   "metadata": {},
   "outputs": [],
   "source": []
  },
  {
   "cell_type": "code",
   "execution_count": null,
   "metadata": {},
   "outputs": [],
   "source": []
  },
  {
   "cell_type": "code",
   "execution_count": 830,
   "metadata": {},
   "outputs": [],
   "source": [
    "data_pd.sort_values(['Deidentified_Pat_ID', 'WeightYear'], inplace=True)"
   ]
  },
  {
   "cell_type": "code",
   "execution_count": null,
   "metadata": {},
   "outputs": [],
   "source": []
  },
  {
   "cell_type": "code",
   "execution_count": 831,
   "metadata": {},
   "outputs": [],
   "source": [
    "data_pd.drop_duplicates([\"Deidentified_Pat_ID\"], keep='last', inplace=True)\n",
    "data_pd.reset_index(drop=True,inplace=True)"
   ]
  },
  {
   "cell_type": "code",
   "execution_count": 832,
   "metadata": {},
   "outputs": [
    {
     "data": {
      "text/plain": [
       "(6157, 6157)"
      ]
     },
     "execution_count": 832,
     "metadata": {},
     "output_type": "execute_result"
    }
   ],
   "source": [
    "len(data_pd), len(pd.Series(data_pd[\"Deidentified_Pat_ID\"].tolist()).sort_values().unique())"
   ]
  },
  {
   "cell_type": "code",
   "execution_count": 833,
   "metadata": {},
   "outputs": [
    {
     "data": {
      "text/html": [
       "<div>\n",
       "<style scoped>\n",
       "    .dataframe tbody tr th:only-of-type {\n",
       "        vertical-align: middle;\n",
       "    }\n",
       "\n",
       "    .dataframe tbody tr th {\n",
       "        vertical-align: top;\n",
       "    }\n",
       "\n",
       "    .dataframe thead th {\n",
       "        text-align: right;\n",
       "    }\n",
       "</style>\n",
       "<table border=\"1\" class=\"dataframe\">\n",
       "  <thead>\n",
       "    <tr style=\"text-align: right;\">\n",
       "      <th></th>\n",
       "      <th>Weight</th>\n",
       "      <th>WeightYear</th>\n",
       "      <th>Height</th>\n",
       "      <th>HeightYear</th>\n",
       "      <th>BMI</th>\n",
       "      <th>BMIYear</th>\n",
       "    </tr>\n",
       "  </thead>\n",
       "  <tbody>\n",
       "    <tr>\n",
       "      <th>count</th>\n",
       "      <td>5637.000000</td>\n",
       "      <td>5654.000000</td>\n",
       "      <td>2415.000000</td>\n",
       "      <td>2415.000000</td>\n",
       "      <td>2911.000000</td>\n",
       "      <td>2935.000000</td>\n",
       "    </tr>\n",
       "    <tr>\n",
       "      <th>mean</th>\n",
       "      <td>3093.069172</td>\n",
       "      <td>2018.736823</td>\n",
       "      <td>29.680232</td>\n",
       "      <td>2018.660455</td>\n",
       "      <td>67.015456</td>\n",
       "      <td>2018.245997</td>\n",
       "    </tr>\n",
       "    <tr>\n",
       "      <th>std</th>\n",
       "      <td>754.294527</td>\n",
       "      <td>0.529744</td>\n",
       "      <td>6.230362</td>\n",
       "      <td>0.589037</td>\n",
       "      <td>3.742598</td>\n",
       "      <td>1.218522</td>\n",
       "    </tr>\n",
       "    <tr>\n",
       "      <th>min</th>\n",
       "      <td>1318.400000</td>\n",
       "      <td>2014.000000</td>\n",
       "      <td>14.620000</td>\n",
       "      <td>2014.000000</td>\n",
       "      <td>57.000000</td>\n",
       "      <td>2014.000000</td>\n",
       "    </tr>\n",
       "    <tr>\n",
       "      <th>25%</th>\n",
       "      <td>2547.200000</td>\n",
       "      <td>2019.000000</td>\n",
       "      <td>25.325000</td>\n",
       "      <td>2018.000000</td>\n",
       "      <td>64.016000</td>\n",
       "      <td>2018.000000</td>\n",
       "    </tr>\n",
       "    <tr>\n",
       "      <th>50%</th>\n",
       "      <td>3008.000000</td>\n",
       "      <td>2019.000000</td>\n",
       "      <td>28.780000</td>\n",
       "      <td>2019.000000</td>\n",
       "      <td>66.750000</td>\n",
       "      <td>2019.000000</td>\n",
       "    </tr>\n",
       "    <tr>\n",
       "      <th>75%</th>\n",
       "      <td>3539.200000</td>\n",
       "      <td>2019.000000</td>\n",
       "      <td>33.050000</td>\n",
       "      <td>2019.000000</td>\n",
       "      <td>69.665500</td>\n",
       "      <td>2019.000000</td>\n",
       "    </tr>\n",
       "    <tr>\n",
       "      <th>max</th>\n",
       "      <td>8048.000000</td>\n",
       "      <td>2019.000000</td>\n",
       "      <td>65.730000</td>\n",
       "      <td>2019.000000</td>\n",
       "      <td>79.500000</td>\n",
       "      <td>2019.000000</td>\n",
       "    </tr>\n",
       "  </tbody>\n",
       "</table>\n",
       "</div>"
      ],
      "text/plain": [
       "            Weight   WeightYear       Height   HeightYear          BMI  \\\n",
       "count  5637.000000  5654.000000  2415.000000  2415.000000  2911.000000   \n",
       "mean   3093.069172  2018.736823    29.680232  2018.660455    67.015456   \n",
       "std     754.294527     0.529744     6.230362     0.589037     3.742598   \n",
       "min    1318.400000  2014.000000    14.620000  2014.000000    57.000000   \n",
       "25%    2547.200000  2019.000000    25.325000  2018.000000    64.016000   \n",
       "50%    3008.000000  2019.000000    28.780000  2019.000000    66.750000   \n",
       "75%    3539.200000  2019.000000    33.050000  2019.000000    69.665500   \n",
       "max    8048.000000  2019.000000    65.730000  2019.000000    79.500000   \n",
       "\n",
       "           BMIYear  \n",
       "count  2935.000000  \n",
       "mean   2018.245997  \n",
       "std       1.218522  \n",
       "min    2014.000000  \n",
       "25%    2018.000000  \n",
       "50%    2019.000000  \n",
       "75%    2019.000000  \n",
       "max    2019.000000  "
      ]
     },
     "execution_count": 833,
     "metadata": {},
     "output_type": "execute_result"
    }
   ],
   "source": [
    "data_pd.describe()"
   ]
  },
  {
   "cell_type": "code",
   "execution_count": 834,
   "metadata": {},
   "outputs": [],
   "source": [
    "data_pd.to_csv(bp_file_p, index=False)"
   ]
  },
  {
   "cell_type": "code",
   "execution_count": 835,
   "metadata": {},
   "outputs": [
    {
     "data": {
      "image/png": "[encoded data removed]",
      "text/plain": [
       "<Figure size 576x504 with 1 Axes>"
      ]
     },
     "metadata": {},
     "output_type": "display_data"
    }
   ],
   "source": [
    "data_pd = data_pd[data_pd['BMI'].notna()]\n",
    "sns.set_style(\"white\")\n",
    "sns.set_color_codes(palette='deep')\n",
    "f, ax = plt.subplots(figsize=(8, 7))\n",
    "#Check the new distribution \n",
    "sns.distplot(data_pd['BMI'], color=\"b\");\n",
    "ax.xaxis.grid(False)\n",
    "ax.set(ylabel=\"Frequency\")\n",
    "ax.set(xlabel=\"BMI\")\n",
    "ax.set(title=\"BMI distribution\")\n",
    "sns.despine(trim=True, left=True)\n",
    "plt.show()"
   ]
  },
  {
   "cell_type": "code",
   "execution_count": 836,
   "metadata": {},
   "outputs": [
    {
     "name": "stdout",
     "output_type": "stream",
     "text": [
      "--------------------------------\n"
     ]
    },
    {
     "data": {
      "text/plain": [
       "(3910, 1)"
      ]
     },
     "execution_count": 836,
     "metadata": {},
     "output_type": "execute_result"
    }
   ],
   "source": [
    "genome_header = '/mnt/volume1/T2D/header.txt'\n",
    "def read_header(ps_folder):\n",
    "    data_arr = []\n",
    "\n",
    "    with open(ps_folder, 'r') as f:\n",
    "\n",
    "        lines = f.readlines()\n",
    "\n",
    "        for line in lines:\n",
    "\n",
    "            if line != '\\n':\n",
    "                items = line.split(sep='\\t')\n",
    "                data_arr.extend(items)\n",
    "            else:\n",
    "                break\n",
    "\n",
    "    print(\"--------------------------------\")\n",
    "\n",
    "    return data_arr\n",
    "\n",
    "#genome_header_pd = pd.read_csv(genome_header, sep='\\t', header=None)\n",
    "head_list = read_header(genome_header)\n",
    "head_pd = pd.DataFrame(head_list)\n",
    "head_pd.columns = ['Deidentified_Pat_ID']\n",
    "head_pd.shape\n"
   ]
  },
  {
   "cell_type": "code",
   "execution_count": null,
   "metadata": {},
   "outputs": [],
   "source": []
  },
  {
   "cell_type": "code",
   "execution_count": 837,
   "metadata": {},
   "outputs": [
    {
     "data": {
      "text/html": [
       "<div>\n",
       "<style scoped>\n",
       "    .dataframe tbody tr th:only-of-type {\n",
       "        vertical-align: middle;\n",
       "    }\n",
       "\n",
       "    .dataframe tbody tr th {\n",
       "        vertical-align: top;\n",
       "    }\n",
       "\n",
       "    .dataframe thead th {\n",
       "        text-align: right;\n",
       "    }\n",
       "</style>\n",
       "<table border=\"1\" class=\"dataframe\">\n",
       "  <thead>\n",
       "    <tr style=\"text-align: right;\">\n",
       "      <th></th>\n",
       "      <th>Deidentified_Pat_ID</th>\n",
       "      <th>Weight</th>\n",
       "      <th>WeightYear</th>\n",
       "      <th>Height</th>\n",
       "      <th>HeightYear</th>\n",
       "      <th>BMI</th>\n",
       "      <th>BMIYear</th>\n",
       "    </tr>\n",
       "  </thead>\n",
       "  <tbody>\n",
       "    <tr>\n",
       "      <th>0</th>\n",
       "      <td>MGVKKNZN</td>\n",
       "      <td>2320.0</td>\n",
       "      <td>2018.0</td>\n",
       "      <td>23.41</td>\n",
       "      <td>2018.0</td>\n",
       "      <td>66.000</td>\n",
       "      <td>2018.0</td>\n",
       "    </tr>\n",
       "    <tr>\n",
       "      <th>1</th>\n",
       "      <td>MNAOGDAK</td>\n",
       "      <td>3376.0</td>\n",
       "      <td>2019.0</td>\n",
       "      <td>29.44</td>\n",
       "      <td>2019.0</td>\n",
       "      <td>70.984</td>\n",
       "      <td>2019.0</td>\n",
       "    </tr>\n",
       "    <tr>\n",
       "      <th>2</th>\n",
       "      <td>MNAZGATG</td>\n",
       "      <td>3340.8</td>\n",
       "      <td>2017.0</td>\n",
       "      <td>29.13</td>\n",
       "      <td>2017.0</td>\n",
       "      <td>71.000</td>\n",
       "      <td>2017.0</td>\n",
       "    </tr>\n",
       "    <tr>\n",
       "      <th>3</th>\n",
       "      <td>MNGDNAOA</td>\n",
       "      <td>4268.8</td>\n",
       "      <td>2019.0</td>\n",
       "      <td>43.08</td>\n",
       "      <td>2019.0</td>\n",
       "      <td>66.000</td>\n",
       "      <td>2019.0</td>\n",
       "    </tr>\n",
       "    <tr>\n",
       "      <th>4</th>\n",
       "      <td>MNGGAADT</td>\n",
       "      <td>3539.2</td>\n",
       "      <td>2019.0</td>\n",
       "      <td>30.86</td>\n",
       "      <td>2019.0</td>\n",
       "      <td>71.000</td>\n",
       "      <td>2019.0</td>\n",
       "    </tr>\n",
       "  </tbody>\n",
       "</table>\n",
       "</div>"
      ],
      "text/plain": [
       "  Deidentified_Pat_ID  Weight  WeightYear  Height  HeightYear     BMI  BMIYear\n",
       "0            MGVKKNZN  2320.0      2018.0   23.41      2018.0  66.000   2018.0\n",
       "1            MNAOGDAK  3376.0      2019.0   29.44      2019.0  70.984   2019.0\n",
       "2            MNAZGATG  3340.8      2017.0   29.13      2017.0  71.000   2017.0\n",
       "3            MNGDNAOA  4268.8      2019.0   43.08      2019.0  66.000   2019.0\n",
       "4            MNGGAADT  3539.2      2019.0   30.86      2019.0  71.000   2019.0"
      ]
     },
     "execution_count": 837,
     "metadata": {},
     "output_type": "execute_result"
    }
   ],
   "source": [
    "res = pd.merge(data_pd,head_pd, how='right',on=['Deidentified_Pat_ID'])\n",
    "#res = res[[ 'Deidentified_Pat_ID', 'triglyceride','ldl', 'hdl','a1c']]\n",
    "res.head()"
   ]
  },
  {
   "cell_type": "code",
   "execution_count": null,
   "metadata": {},
   "outputs": [],
   "source": []
  }
 ],
 "metadata": {
  "kernelspec": {
   "display_name": "Python 3",
   "language": "python",
   "name": "python3"
  },
  "language_info": {
   "codemirror_mode": {
    "name": "ipython",
    "version": 3
   },
   "file_extension": ".py",
   "mimetype": "text/x-python",
   "name": "python",
   "nbconvert_exporter": "python",
   "pygments_lexer": "ipython3",
   "version": "3.6.9"
  }
 },
 "nbformat": 4,
 "nbformat_minor": 2
}
