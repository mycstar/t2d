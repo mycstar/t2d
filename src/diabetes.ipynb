{
 "cells": [
  {
   "cell_type": "code",
   "execution_count": 102,
   "metadata": {},
   "outputs": [],
   "source": [
    "# Essentials\n",
    "import numpy as np\n",
    "import pandas as pd\n",
    "import datetime\n",
    "import random\n",
    "\n",
    "# Plots\n",
    "import seaborn as sns\n",
    "import matplotlib.pyplot as plt\n",
    "\n",
    "# Models\n",
    "from sklearn.ensemble import RandomForestRegressor, GradientBoostingRegressor, AdaBoostRegressor, BaggingRegressor\n",
    "from sklearn.kernel_ridge import KernelRidge\n",
    "from sklearn.linear_model import Ridge, RidgeCV\n",
    "from sklearn.linear_model import ElasticNet, ElasticNetCV\n",
    "from sklearn.svm import SVR\n",
    "from mlxtend.regressor import StackingCVRegressor\n",
    "import lightgbm as lgb\n",
    "from lightgbm import LGBMRegressor\n",
    "from xgboost import XGBRegressor\n",
    "\n",
    "# Stats\n",
    "from scipy.stats import skew, norm\n",
    "from scipy.special import boxcox1p\n",
    "from scipy.stats import boxcox_normmax\n",
    "\n",
    "# Misc\n",
    "from sklearn.model_selection import GridSearchCV\n",
    "from sklearn.model_selection import KFold, cross_val_score\n",
    "from sklearn.metrics import mean_squared_error\n",
    "from sklearn.preprocessing import OneHotEncoder\n",
    "from sklearn.preprocessing import LabelEncoder\n",
    "from sklearn.pipeline import make_pipeline\n",
    "from sklearn.preprocessing import scale\n",
    "from sklearn.preprocessing import StandardScaler\n",
    "from sklearn.preprocessing import RobustScaler\n",
    "from sklearn.decomposition import PCA\n",
    "\n",
    "pd.set_option('display.max_columns', None)\n",
    "\n",
    "# Ignore useless warnings\n",
    "import warnings\n",
    "warnings.filterwarnings(action=\"ignore\")\n",
    "pd.options.display.max_seq_items = 8000\n",
    "pd.options.display.max_rows = 8000"
   ]
  },
  {
   "cell_type": "code",
   "execution_count": 103,
   "metadata": {},
   "outputs": [],
   "source": [
    "pre_p = '/mnt/volume1/T2D/EMR-data2/'\n",
    "Cholesterol_file_p = pre_p+'Cholesterol.csv'\n",
    "BP_file_p = pre_p+'BP.csv'\n",
    "glucose_p = pre_p+'Glucose.csv'\n",
    "FamilyHist_file_p = pre_p+'FamilyHist.csv'\n",
    "#OralGlucose_file_p = pre_p+'OralGlucose.csv'\n",
    "PatPopulation_file_p = pre_p+'PatPopulation.csv'\n",
    "Vitals_file_p = pre_p+'Vitals.csv'\n",
    "genome_header = '/mnt/volume1/T2D/header.txt'\n",
    "output = '/mnt/volume1/T2D/cleanData/feature_max.csv'"
   ]
  },
  {
   "cell_type": "code",
   "execution_count": null,
   "metadata": {},
   "outputs": [],
   "source": []
  },
  {
   "cell_type": "code",
   "execution_count": 104,
   "metadata": {},
   "outputs": [],
   "source": [
    "Cholesterol_pd = pd.read_csv(Cholesterol_file_p, sep=',')\n",
    "BP_pd = pd.read_csv(BP_file_p, sep=',')\n",
    "glucose_pd = pd.read_csv(glucose_p, sep=',')\n",
    "FamilyHist_pd = pd.read_csv(FamilyHist_file_p, sep=',')\n",
    "#OralGlucose_pd = pd.read_csv(OralGlucose_file_p, sep=',')\n",
    "PatPopulation_pd = pd.read_csv(PatPopulation_file_p, sep=',')\n",
    "Vitals_pd = pd.read_csv(Vitals_file_p, sep=',')\n",
    "\n"
   ]
  },
  {
   "cell_type": "code",
   "execution_count": 105,
   "metadata": {},
   "outputs": [],
   "source": [
    "def read_header(ps_folder):\n",
    "    data_arr = []\n",
    "\n",
    "    with open(ps_folder, 'r') as f:\n",
    "\n",
    "        lines = f.readlines()\n",
    "\n",
    "        for line in lines:\n",
    "\n",
    "            if line != '\\n':\n",
    "                items = line.split(sep='\\t')\n",
    "                data_arr.extend(items)\n",
    "            else:\n",
    "                break\n",
    "\n",
    "    print(\"--------------------------------\")\n",
    "\n",
    "    return data_arr"
   ]
  },
  {
   "cell_type": "code",
   "execution_count": 106,
   "metadata": {},
   "outputs": [
    {
     "name": "stdout",
     "output_type": "stream",
     "text": [
      "--------------------------------\n"
     ]
    }
   ],
   "source": [
    "#genome_header_pd = pd.read_csv(genome_header, sep='\\t', header=None)\n",
    "head_list = read_header(genome_header)\n",
    "head_pd = pd.DataFrame(head_list)\n",
    "head_pd.shape"
   ]
  },
  {
   "cell_type": "code",
   "execution_count": 158,
   "metadata": {},
   "outputs": [
    {
     "data": {
      "text/plain": [
       "(3910, 1)"
      ]
     },
     "execution_count": 158,
     "metadata": {},
     "output_type": "execute_result"
    }
   ],
   "source": [
    "head_pd.shape"
   ]
  },
  {
   "cell_type": "code",
   "execution_count": 107,
   "metadata": {},
   "outputs": [
    {
     "data": {
      "text/html": [
       "<div>\n",
       "<style scoped>\n",
       "    .dataframe tbody tr th:only-of-type {\n",
       "        vertical-align: middle;\n",
       "    }\n",
       "\n",
       "    .dataframe tbody tr th {\n",
       "        vertical-align: top;\n",
       "    }\n",
       "\n",
       "    .dataframe thead th {\n",
       "        text-align: right;\n",
       "    }\n",
       "</style>\n",
       "<table border=\"1\" class=\"dataframe\">\n",
       "  <thead>\n",
       "    <tr style=\"text-align: right;\">\n",
       "      <th></th>\n",
       "      <th>0</th>\n",
       "    </tr>\n",
       "  </thead>\n",
       "  <tbody>\n",
       "    <tr>\n",
       "      <th>0</th>\n",
       "      <td>MGVKKNZN</td>\n",
       "    </tr>\n",
       "    <tr>\n",
       "      <th>1</th>\n",
       "      <td>MNADOVKN</td>\n",
       "    </tr>\n",
       "    <tr>\n",
       "      <th>2</th>\n",
       "      <td>MNAODHZZ</td>\n",
       "    </tr>\n",
       "    <tr>\n",
       "      <th>3</th>\n",
       "      <td>MNAOGDAK</td>\n",
       "    </tr>\n",
       "    <tr>\n",
       "      <th>4</th>\n",
       "      <td>MNATONVG</td>\n",
       "    </tr>\n",
       "  </tbody>\n",
       "</table>\n",
       "</div>"
      ],
      "text/plain": [
       "          0\n",
       "0  MGVKKNZN\n",
       "1  MNADOVKN\n",
       "2  MNAODHZZ\n",
       "3  MNAOGDAK\n",
       "4  MNATONVG"
      ]
     },
     "execution_count": 107,
     "metadata": {},
     "output_type": "execute_result"
    }
   ],
   "source": [
    "head_pd.head()"
   ]
  },
  {
   "cell_type": "code",
   "execution_count": null,
   "metadata": {},
   "outputs": [],
   "source": []
  },
  {
   "cell_type": "code",
   "execution_count": 108,
   "metadata": {},
   "outputs": [
    {
     "data": {
      "text/plain": [
       "((5532, 5), (6157, 5), (5693, 3), (3222, 3), (6212, 5), (2911, 7))"
      ]
     },
     "execution_count": 108,
     "metadata": {},
     "output_type": "execute_result"
    }
   ],
   "source": [
    "Cholesterol_pd.shape,BP_pd.shape,glucose_pd.shape,FamilyHist_pd.shape,PatPopulation_pd.shape,Vitals_pd.shape"
   ]
  },
  {
   "cell_type": "code",
   "execution_count": 109,
   "metadata": {},
   "outputs": [
    {
     "data": {
      "text/plain": [
       "5532"
      ]
     },
     "execution_count": 109,
     "metadata": {},
     "output_type": "execute_result"
    }
   ],
   "source": [
    "len(pd.Series(Cholesterol_pd[\"Deidentified_Pat_ID\"].tolist()).sort_values().unique())"
   ]
  },
  {
   "cell_type": "code",
   "execution_count": 110,
   "metadata": {},
   "outputs": [
    {
     "data": {
      "text/plain": [
       "6157"
      ]
     },
     "execution_count": 110,
     "metadata": {},
     "output_type": "execute_result"
    }
   ],
   "source": [
    "len(pd.Series(BP_pd[\"Deidentified_Pat_ID\"].tolist()).sort_values().unique())"
   ]
  },
  {
   "cell_type": "code",
   "execution_count": 111,
   "metadata": {},
   "outputs": [
    {
     "data": {
      "text/plain": [
       "5693"
      ]
     },
     "execution_count": 111,
     "metadata": {},
     "output_type": "execute_result"
    }
   ],
   "source": [
    "len(pd.Series(glucose_pd[\"Deidentified_Pat_ID\"].tolist()).sort_values().unique())"
   ]
  },
  {
   "cell_type": "code",
   "execution_count": 112,
   "metadata": {},
   "outputs": [
    {
     "data": {
      "text/plain": [
       "5693"
      ]
     },
     "execution_count": 112,
     "metadata": {},
     "output_type": "execute_result"
    }
   ],
   "source": [
    "len(glucose_pd)"
   ]
  },
  {
   "cell_type": "code",
   "execution_count": 113,
   "metadata": {},
   "outputs": [
    {
     "data": {
      "text/plain": [
       "3222"
      ]
     },
     "execution_count": 113,
     "metadata": {},
     "output_type": "execute_result"
    }
   ],
   "source": [
    "len(pd.Series(FamilyHist_pd[\"Deidentified_Pat_ID\"].tolist()).sort_values().unique())"
   ]
  },
  {
   "cell_type": "code",
   "execution_count": 114,
   "metadata": {},
   "outputs": [],
   "source": [
    "#len(pd.Series(OralGlucose_pd[\"Deidentified_Pat_ID\"].tolist()).sort_values().unique())"
   ]
  },
  {
   "cell_type": "code",
   "execution_count": 115,
   "metadata": {},
   "outputs": [
    {
     "data": {
      "text/plain": [
       "6212"
      ]
     },
     "execution_count": 115,
     "metadata": {},
     "output_type": "execute_result"
    }
   ],
   "source": [
    "len(pd.Series(PatPopulation_pd[\"Deidentified_Pat_ID\"].tolist()).sort_values().unique())"
   ]
  },
  {
   "cell_type": "code",
   "execution_count": 116,
   "metadata": {},
   "outputs": [
    {
     "data": {
      "text/plain": [
       "2911"
      ]
     },
     "execution_count": 116,
     "metadata": {},
     "output_type": "execute_result"
    }
   ],
   "source": [
    "len(pd.Series(Vitals_pd[\"Deidentified_Pat_ID\"].tolist()).sort_values().unique())"
   ]
  },
  {
   "cell_type": "code",
   "execution_count": 117,
   "metadata": {},
   "outputs": [],
   "source": [
    "Vitals_pd = Vitals_pd[['Deidentified_Pat_ID','Weight','Height','BMI']]"
   ]
  },
  {
   "cell_type": "code",
   "execution_count": 118,
   "metadata": {},
   "outputs": [
    {
     "data": {
      "text/html": [
       "<div>\n",
       "<style scoped>\n",
       "    .dataframe tbody tr th:only-of-type {\n",
       "        vertical-align: middle;\n",
       "    }\n",
       "\n",
       "    .dataframe tbody tr th {\n",
       "        vertical-align: top;\n",
       "    }\n",
       "\n",
       "    .dataframe thead th {\n",
       "        text-align: right;\n",
       "    }\n",
       "</style>\n",
       "<table border=\"1\" class=\"dataframe\">\n",
       "  <thead>\n",
       "    <tr style=\"text-align: right;\">\n",
       "      <th></th>\n",
       "      <th>Deidentified_Pat_ID</th>\n",
       "      <th>Weight</th>\n",
       "      <th>Height</th>\n",
       "      <th>BMI</th>\n",
       "    </tr>\n",
       "  </thead>\n",
       "  <tbody>\n",
       "    <tr>\n",
       "      <th>0</th>\n",
       "      <td>MGVKKNZN</td>\n",
       "      <td>2320.0</td>\n",
       "      <td>23.41</td>\n",
       "      <td>66.000</td>\n",
       "    </tr>\n",
       "    <tr>\n",
       "      <th>1</th>\n",
       "      <td>MGVNDNAK</td>\n",
       "      <td>2896.0</td>\n",
       "      <td>23.89</td>\n",
       "      <td>73.000</td>\n",
       "    </tr>\n",
       "    <tr>\n",
       "      <th>2</th>\n",
       "      <td>MNANZAKG</td>\n",
       "      <td>3219.2</td>\n",
       "      <td>31.62</td>\n",
       "      <td>66.890</td>\n",
       "    </tr>\n",
       "    <tr>\n",
       "      <th>3</th>\n",
       "      <td>MNAOGDAK</td>\n",
       "      <td>3376.0</td>\n",
       "      <td>29.44</td>\n",
       "      <td>70.984</td>\n",
       "    </tr>\n",
       "    <tr>\n",
       "      <th>4</th>\n",
       "      <td>MNAZGATG</td>\n",
       "      <td>3340.8</td>\n",
       "      <td>29.13</td>\n",
       "      <td>71.000</td>\n",
       "    </tr>\n",
       "  </tbody>\n",
       "</table>\n",
       "</div>"
      ],
      "text/plain": [
       "  Deidentified_Pat_ID  Weight  Height     BMI\n",
       "0            MGVKKNZN  2320.0   23.41  66.000\n",
       "1            MGVNDNAK  2896.0   23.89  73.000\n",
       "2            MNANZAKG  3219.2   31.62  66.890\n",
       "3            MNAOGDAK  3376.0   29.44  70.984\n",
       "4            MNAZGATG  3340.8   29.13  71.000"
      ]
     },
     "execution_count": 118,
     "metadata": {},
     "output_type": "execute_result"
    }
   ],
   "source": [
    "Vitals_pd.head()"
   ]
  },
  {
   "cell_type": "code",
   "execution_count": 119,
   "metadata": {},
   "outputs": [
    {
     "data": {
      "text/plain": [
       "(6212, 8)"
      ]
     },
     "execution_count": 119,
     "metadata": {},
     "output_type": "execute_result"
    }
   ],
   "source": [
    "\n",
    "res = pd.merge(Vitals_pd,PatPopulation_pd, how='outer',on=['Deidentified_Pat_ID'])\n",
    "#res = res[[ 'Deidentified_Pat_ID', 'triglyceride','ldl', 'hdl','a1c']]\n",
    "res.shape"
   ]
  },
  {
   "cell_type": "code",
   "execution_count": 120,
   "metadata": {},
   "outputs": [
    {
     "data": {
      "text/html": [
       "<div>\n",
       "<style scoped>\n",
       "    .dataframe tbody tr th:only-of-type {\n",
       "        vertical-align: middle;\n",
       "    }\n",
       "\n",
       "    .dataframe tbody tr th {\n",
       "        vertical-align: top;\n",
       "    }\n",
       "\n",
       "    .dataframe thead th {\n",
       "        text-align: right;\n",
       "    }\n",
       "</style>\n",
       "<table border=\"1\" class=\"dataframe\">\n",
       "  <thead>\n",
       "    <tr style=\"text-align: right;\">\n",
       "      <th></th>\n",
       "      <th>Deidentified_Pat_ID</th>\n",
       "      <th>Family History</th>\n",
       "      <th>type</th>\n",
       "    </tr>\n",
       "  </thead>\n",
       "  <tbody>\n",
       "    <tr>\n",
       "      <th>0</th>\n",
       "      <td>MGVNDNAK</td>\n",
       "      <td>Diabetes</td>\n",
       "      <td>3</td>\n",
       "    </tr>\n",
       "    <tr>\n",
       "      <th>1</th>\n",
       "      <td>MNADDANN</td>\n",
       "      <td>Diabetes Type 1</td>\n",
       "      <td>1</td>\n",
       "    </tr>\n",
       "    <tr>\n",
       "      <th>2</th>\n",
       "      <td>MNADZOHA</td>\n",
       "      <td>Diabetes</td>\n",
       "      <td>3</td>\n",
       "    </tr>\n",
       "    <tr>\n",
       "      <th>3</th>\n",
       "      <td>MNANKNAN</td>\n",
       "      <td>Diabetes Type 2</td>\n",
       "      <td>2</td>\n",
       "    </tr>\n",
       "    <tr>\n",
       "      <th>4</th>\n",
       "      <td>MNATONVG</td>\n",
       "      <td>Diabetes</td>\n",
       "      <td>3</td>\n",
       "    </tr>\n",
       "  </tbody>\n",
       "</table>\n",
       "</div>"
      ],
      "text/plain": [
       "  Deidentified_Pat_ID   Family History  type\n",
       "0            MGVNDNAK         Diabetes     3\n",
       "1            MNADDANN  Diabetes Type 1     1\n",
       "2            MNADZOHA         Diabetes     3\n",
       "3            MNANKNAN  Diabetes Type 2     2\n",
       "4            MNATONVG         Diabetes     3"
      ]
     },
     "execution_count": 120,
     "metadata": {},
     "output_type": "execute_result"
    }
   ],
   "source": [
    "FamilyHist_pd.head()"
   ]
  },
  {
   "cell_type": "code",
   "execution_count": 121,
   "metadata": {},
   "outputs": [
    {
     "data": {
      "text/html": [
       "<div>\n",
       "<style scoped>\n",
       "    .dataframe tbody tr th:only-of-type {\n",
       "        vertical-align: middle;\n",
       "    }\n",
       "\n",
       "    .dataframe tbody tr th {\n",
       "        vertical-align: top;\n",
       "    }\n",
       "\n",
       "    .dataframe thead th {\n",
       "        text-align: right;\n",
       "    }\n",
       "</style>\n",
       "<table border=\"1\" class=\"dataframe\">\n",
       "  <thead>\n",
       "    <tr style=\"text-align: right;\">\n",
       "      <th></th>\n",
       "      <th>Deidentified_Pat_ID</th>\n",
       "      <th>Weight</th>\n",
       "      <th>Height</th>\n",
       "      <th>BMI</th>\n",
       "      <th>gender</th>\n",
       "      <th>age</th>\n",
       "      <th>ethnicity</th>\n",
       "      <th>race</th>\n",
       "      <th>family_diabetes_type</th>\n",
       "    </tr>\n",
       "  </thead>\n",
       "  <tbody>\n",
       "    <tr>\n",
       "      <th>0</th>\n",
       "      <td>MGVKKNZN</td>\n",
       "      <td>2320.0</td>\n",
       "      <td>23.41</td>\n",
       "      <td>66.000</td>\n",
       "      <td>0</td>\n",
       "      <td>60</td>\n",
       "      <td>3</td>\n",
       "      <td>7</td>\n",
       "      <td>NaN</td>\n",
       "    </tr>\n",
       "    <tr>\n",
       "      <th>1</th>\n",
       "      <td>MGVNDNAK</td>\n",
       "      <td>2896.0</td>\n",
       "      <td>23.89</td>\n",
       "      <td>73.000</td>\n",
       "      <td>0</td>\n",
       "      <td>51</td>\n",
       "      <td>3</td>\n",
       "      <td>7</td>\n",
       "      <td>3.0</td>\n",
       "    </tr>\n",
       "    <tr>\n",
       "      <th>2</th>\n",
       "      <td>MNANZAKG</td>\n",
       "      <td>3219.2</td>\n",
       "      <td>31.62</td>\n",
       "      <td>66.890</td>\n",
       "      <td>0</td>\n",
       "      <td>38</td>\n",
       "      <td>3</td>\n",
       "      <td>7</td>\n",
       "      <td>NaN</td>\n",
       "    </tr>\n",
       "    <tr>\n",
       "      <th>3</th>\n",
       "      <td>MNAOGDAK</td>\n",
       "      <td>3376.0</td>\n",
       "      <td>29.44</td>\n",
       "      <td>70.984</td>\n",
       "      <td>0</td>\n",
       "      <td>41</td>\n",
       "      <td>3</td>\n",
       "      <td>7</td>\n",
       "      <td>NaN</td>\n",
       "    </tr>\n",
       "    <tr>\n",
       "      <th>4</th>\n",
       "      <td>MNAZGATG</td>\n",
       "      <td>3340.8</td>\n",
       "      <td>29.13</td>\n",
       "      <td>71.000</td>\n",
       "      <td>0</td>\n",
       "      <td>67</td>\n",
       "      <td>3</td>\n",
       "      <td>7</td>\n",
       "      <td>NaN</td>\n",
       "    </tr>\n",
       "  </tbody>\n",
       "</table>\n",
       "</div>"
      ],
      "text/plain": [
       "  Deidentified_Pat_ID  Weight  Height     BMI  gender  age  ethnicity  race  \\\n",
       "0            MGVKKNZN  2320.0   23.41  66.000       0   60          3     7   \n",
       "1            MGVNDNAK  2896.0   23.89  73.000       0   51          3     7   \n",
       "2            MNANZAKG  3219.2   31.62  66.890       0   38          3     7   \n",
       "3            MNAOGDAK  3376.0   29.44  70.984       0   41          3     7   \n",
       "4            MNAZGATG  3340.8   29.13  71.000       0   67          3     7   \n",
       "\n",
       "   family_diabetes_type  \n",
       "0                   NaN  \n",
       "1                   3.0  \n",
       "2                   NaN  \n",
       "3                   NaN  \n",
       "4                   NaN  "
      ]
     },
     "execution_count": 121,
     "metadata": {},
     "output_type": "execute_result"
    }
   ],
   "source": [
    "FamilyHist_pd = FamilyHist_pd[['Deidentified_Pat_ID','type']]\n",
    "FamilyHist_pd.columns = ['Deidentified_Pat_ID','family_diabetes_type']\n",
    "res = pd.merge(res,FamilyHist_pd, how='outer',on=['Deidentified_Pat_ID'])\n",
    "#res = res[[ 'Deidentified_Pat_ID', 'triglyceride','ldl', 'hdl','a1c']]\n",
    "res.head()"
   ]
  },
  {
   "cell_type": "code",
   "execution_count": 122,
   "metadata": {},
   "outputs": [
    {
     "data": {
      "text/plain": [
       "(6212, 9)"
      ]
     },
     "execution_count": 122,
     "metadata": {},
     "output_type": "execute_result"
    }
   ],
   "source": [
    "res.shape"
   ]
  },
  {
   "cell_type": "code",
   "execution_count": 123,
   "metadata": {},
   "outputs": [
    {
     "data": {
      "text/html": [
       "<div>\n",
       "<style scoped>\n",
       "    .dataframe tbody tr th:only-of-type {\n",
       "        vertical-align: middle;\n",
       "    }\n",
       "\n",
       "    .dataframe tbody tr th {\n",
       "        vertical-align: top;\n",
       "    }\n",
       "\n",
       "    .dataframe thead th {\n",
       "        text-align: right;\n",
       "    }\n",
       "</style>\n",
       "<table border=\"1\" class=\"dataframe\">\n",
       "  <thead>\n",
       "    <tr style=\"text-align: right;\">\n",
       "      <th></th>\n",
       "      <th>Deidentified_Pat_ID</th>\n",
       "      <th>BP</th>\n",
       "      <th>RecordedYear</th>\n",
       "      <th>bp_high</th>\n",
       "      <th>bp_low</th>\n",
       "    </tr>\n",
       "  </thead>\n",
       "  <tbody>\n",
       "    <tr>\n",
       "      <th>0</th>\n",
       "      <td>MGVKKNZN</td>\n",
       "      <td>120/78</td>\n",
       "      <td>2018</td>\n",
       "      <td>120</td>\n",
       "      <td>78</td>\n",
       "    </tr>\n",
       "    <tr>\n",
       "      <th>1</th>\n",
       "      <td>MGVNDNAK</td>\n",
       "      <td>102/66</td>\n",
       "      <td>2019</td>\n",
       "      <td>102</td>\n",
       "      <td>66</td>\n",
       "    </tr>\n",
       "    <tr>\n",
       "      <th>2</th>\n",
       "      <td>MNAAOKVG</td>\n",
       "      <td>136/80</td>\n",
       "      <td>2017</td>\n",
       "      <td>136</td>\n",
       "      <td>80</td>\n",
       "    </tr>\n",
       "    <tr>\n",
       "      <th>3</th>\n",
       "      <td>MNADDANN</td>\n",
       "      <td>134/98</td>\n",
       "      <td>2017</td>\n",
       "      <td>134</td>\n",
       "      <td>98</td>\n",
       "    </tr>\n",
       "    <tr>\n",
       "      <th>4</th>\n",
       "      <td>MNADOVKN</td>\n",
       "      <td>139/95</td>\n",
       "      <td>2016</td>\n",
       "      <td>139</td>\n",
       "      <td>95</td>\n",
       "    </tr>\n",
       "  </tbody>\n",
       "</table>\n",
       "</div>"
      ],
      "text/plain": [
       "  Deidentified_Pat_ID      BP  RecordedYear  bp_high  bp_low\n",
       "0            MGVKKNZN  120/78          2018      120      78\n",
       "1            MGVNDNAK  102/66          2019      102      66\n",
       "2            MNAAOKVG  136/80          2017      136      80\n",
       "3            MNADDANN  134/98          2017      134      98\n",
       "4            MNADOVKN  139/95          2016      139      95"
      ]
     },
     "execution_count": 123,
     "metadata": {},
     "output_type": "execute_result"
    }
   ],
   "source": [
    "BP_pd.head()"
   ]
  },
  {
   "cell_type": "code",
   "execution_count": 124,
   "metadata": {},
   "outputs": [
    {
     "data": {
      "text/html": [
       "<div>\n",
       "<style scoped>\n",
       "    .dataframe tbody tr th:only-of-type {\n",
       "        vertical-align: middle;\n",
       "    }\n",
       "\n",
       "    .dataframe tbody tr th {\n",
       "        vertical-align: top;\n",
       "    }\n",
       "\n",
       "    .dataframe thead th {\n",
       "        text-align: right;\n",
       "    }\n",
       "</style>\n",
       "<table border=\"1\" class=\"dataframe\">\n",
       "  <thead>\n",
       "    <tr style=\"text-align: right;\">\n",
       "      <th></th>\n",
       "      <th>Deidentified_Pat_ID</th>\n",
       "      <th>Weight</th>\n",
       "      <th>Height</th>\n",
       "      <th>BMI</th>\n",
       "      <th>gender</th>\n",
       "      <th>age</th>\n",
       "      <th>ethnicity</th>\n",
       "      <th>race</th>\n",
       "      <th>family_diabetes_type</th>\n",
       "      <th>bp_high</th>\n",
       "      <th>bp_low</th>\n",
       "    </tr>\n",
       "  </thead>\n",
       "  <tbody>\n",
       "    <tr>\n",
       "      <th>0</th>\n",
       "      <td>MGVKKNZN</td>\n",
       "      <td>2320.0</td>\n",
       "      <td>23.41</td>\n",
       "      <td>66.000</td>\n",
       "      <td>0</td>\n",
       "      <td>60</td>\n",
       "      <td>3</td>\n",
       "      <td>7</td>\n",
       "      <td>NaN</td>\n",
       "      <td>120.0</td>\n",
       "      <td>78.0</td>\n",
       "    </tr>\n",
       "    <tr>\n",
       "      <th>1</th>\n",
       "      <td>MGVNDNAK</td>\n",
       "      <td>2896.0</td>\n",
       "      <td>23.89</td>\n",
       "      <td>73.000</td>\n",
       "      <td>0</td>\n",
       "      <td>51</td>\n",
       "      <td>3</td>\n",
       "      <td>7</td>\n",
       "      <td>3.0</td>\n",
       "      <td>102.0</td>\n",
       "      <td>66.0</td>\n",
       "    </tr>\n",
       "    <tr>\n",
       "      <th>2</th>\n",
       "      <td>MNANZAKG</td>\n",
       "      <td>3219.2</td>\n",
       "      <td>31.62</td>\n",
       "      <td>66.890</td>\n",
       "      <td>0</td>\n",
       "      <td>38</td>\n",
       "      <td>3</td>\n",
       "      <td>7</td>\n",
       "      <td>NaN</td>\n",
       "      <td>150.0</td>\n",
       "      <td>84.0</td>\n",
       "    </tr>\n",
       "    <tr>\n",
       "      <th>3</th>\n",
       "      <td>MNAOGDAK</td>\n",
       "      <td>3376.0</td>\n",
       "      <td>29.44</td>\n",
       "      <td>70.984</td>\n",
       "      <td>0</td>\n",
       "      <td>41</td>\n",
       "      <td>3</td>\n",
       "      <td>7</td>\n",
       "      <td>NaN</td>\n",
       "      <td>156.0</td>\n",
       "      <td>104.0</td>\n",
       "    </tr>\n",
       "    <tr>\n",
       "      <th>4</th>\n",
       "      <td>MNAZGATG</td>\n",
       "      <td>3340.8</td>\n",
       "      <td>29.13</td>\n",
       "      <td>71.000</td>\n",
       "      <td>0</td>\n",
       "      <td>67</td>\n",
       "      <td>3</td>\n",
       "      <td>7</td>\n",
       "      <td>NaN</td>\n",
       "      <td>128.0</td>\n",
       "      <td>84.0</td>\n",
       "    </tr>\n",
       "  </tbody>\n",
       "</table>\n",
       "</div>"
      ],
      "text/plain": [
       "  Deidentified_Pat_ID  Weight  Height     BMI  gender  age  ethnicity  race  \\\n",
       "0            MGVKKNZN  2320.0   23.41  66.000       0   60          3     7   \n",
       "1            MGVNDNAK  2896.0   23.89  73.000       0   51          3     7   \n",
       "2            MNANZAKG  3219.2   31.62  66.890       0   38          3     7   \n",
       "3            MNAOGDAK  3376.0   29.44  70.984       0   41          3     7   \n",
       "4            MNAZGATG  3340.8   29.13  71.000       0   67          3     7   \n",
       "\n",
       "   family_diabetes_type  bp_high  bp_low  \n",
       "0                   NaN    120.0    78.0  \n",
       "1                   3.0    102.0    66.0  \n",
       "2                   NaN    150.0    84.0  \n",
       "3                   NaN    156.0   104.0  \n",
       "4                   NaN    128.0    84.0  "
      ]
     },
     "execution_count": 124,
     "metadata": {},
     "output_type": "execute_result"
    }
   ],
   "source": [
    "BP_pd = BP_pd[['Deidentified_Pat_ID','bp_high', 'bp_low']]\n",
    "\n",
    "res = pd.merge(res,BP_pd, how='outer',on=['Deidentified_Pat_ID'])\n",
    "#res = res[[ 'Deidentified_Pat_ID', 'triglyceride','ldl', 'hdl','a1c']]\n",
    "res.head()"
   ]
  },
  {
   "cell_type": "code",
   "execution_count": 125,
   "metadata": {},
   "outputs": [
    {
     "data": {
      "text/plain": [
       "(6212, 11)"
      ]
     },
     "execution_count": 125,
     "metadata": {},
     "output_type": "execute_result"
    }
   ],
   "source": [
    "res.shape"
   ]
  },
  {
   "cell_type": "code",
   "execution_count": 126,
   "metadata": {},
   "outputs": [
    {
     "data": {
      "text/html": [
       "<div>\n",
       "<style scoped>\n",
       "    .dataframe tbody tr th:only-of-type {\n",
       "        vertical-align: middle;\n",
       "    }\n",
       "\n",
       "    .dataframe tbody tr th {\n",
       "        vertical-align: top;\n",
       "    }\n",
       "\n",
       "    .dataframe thead th {\n",
       "        text-align: right;\n",
       "    }\n",
       "</style>\n",
       "<table border=\"1\" class=\"dataframe\">\n",
       "  <thead>\n",
       "    <tr style=\"text-align: right;\">\n",
       "      <th></th>\n",
       "      <th>Deidentified_Pat_ID</th>\n",
       "      <th>triglyceride</th>\n",
       "      <th>ldl</th>\n",
       "      <th>hdl</th>\n",
       "      <th>a1c</th>\n",
       "    </tr>\n",
       "  </thead>\n",
       "  <tbody>\n",
       "    <tr>\n",
       "      <th>0</th>\n",
       "      <td>ZNODZHKT</td>\n",
       "      <td>20.0</td>\n",
       "      <td>109.0</td>\n",
       "      <td>74.0</td>\n",
       "      <td>NaN</td>\n",
       "    </tr>\n",
       "    <tr>\n",
       "      <th>1</th>\n",
       "      <td>ZHOHTGGV</td>\n",
       "      <td>23.0</td>\n",
       "      <td>19.0</td>\n",
       "      <td>33.0</td>\n",
       "      <td>5.7</td>\n",
       "    </tr>\n",
       "    <tr>\n",
       "      <th>2</th>\n",
       "      <td>ZDVZZVDT</td>\n",
       "      <td>24.0</td>\n",
       "      <td>123.0</td>\n",
       "      <td>75.0</td>\n",
       "      <td>NaN</td>\n",
       "    </tr>\n",
       "    <tr>\n",
       "      <th>3</th>\n",
       "      <td>ZDHVKTZT</td>\n",
       "      <td>26.0</td>\n",
       "      <td>85.0</td>\n",
       "      <td>65.0</td>\n",
       "      <td>NaN</td>\n",
       "    </tr>\n",
       "    <tr>\n",
       "      <th>4</th>\n",
       "      <td>ZDNVNAN</td>\n",
       "      <td>26.0</td>\n",
       "      <td>59.0</td>\n",
       "      <td>51.0</td>\n",
       "      <td>NaN</td>\n",
       "    </tr>\n",
       "  </tbody>\n",
       "</table>\n",
       "</div>"
      ],
      "text/plain": [
       "  Deidentified_Pat_ID  triglyceride    ldl   hdl  a1c\n",
       "0            ZNODZHKT          20.0  109.0  74.0  NaN\n",
       "1            ZHOHTGGV          23.0   19.0  33.0  5.7\n",
       "2            ZDVZZVDT          24.0  123.0  75.0  NaN\n",
       "3            ZDHVKTZT          26.0   85.0  65.0  NaN\n",
       "4             ZDNVNAN          26.0   59.0  51.0  NaN"
      ]
     },
     "execution_count": 126,
     "metadata": {},
     "output_type": "execute_result"
    }
   ],
   "source": [
    "Cholesterol_pd.head()"
   ]
  },
  {
   "cell_type": "code",
   "execution_count": null,
   "metadata": {},
   "outputs": [],
   "source": []
  },
  {
   "cell_type": "code",
   "execution_count": 127,
   "metadata": {},
   "outputs": [
    {
     "data": {
      "text/html": [
       "<div>\n",
       "<style scoped>\n",
       "    .dataframe tbody tr th:only-of-type {\n",
       "        vertical-align: middle;\n",
       "    }\n",
       "\n",
       "    .dataframe tbody tr th {\n",
       "        vertical-align: top;\n",
       "    }\n",
       "\n",
       "    .dataframe thead th {\n",
       "        text-align: right;\n",
       "    }\n",
       "</style>\n",
       "<table border=\"1\" class=\"dataframe\">\n",
       "  <thead>\n",
       "    <tr style=\"text-align: right;\">\n",
       "      <th></th>\n",
       "      <th>Deidentified_Pat_ID</th>\n",
       "      <th>Weight</th>\n",
       "      <th>Height</th>\n",
       "      <th>BMI</th>\n",
       "      <th>gender</th>\n",
       "      <th>age</th>\n",
       "      <th>ethnicity</th>\n",
       "      <th>race</th>\n",
       "      <th>family_diabetes_type</th>\n",
       "      <th>bp_high</th>\n",
       "      <th>bp_low</th>\n",
       "      <th>triglyceride</th>\n",
       "      <th>ldl</th>\n",
       "      <th>hdl</th>\n",
       "      <th>a1c</th>\n",
       "    </tr>\n",
       "  </thead>\n",
       "  <tbody>\n",
       "    <tr>\n",
       "      <th>0</th>\n",
       "      <td>MGVKKNZN</td>\n",
       "      <td>2320.0</td>\n",
       "      <td>23.41</td>\n",
       "      <td>66.000</td>\n",
       "      <td>0</td>\n",
       "      <td>60</td>\n",
       "      <td>3</td>\n",
       "      <td>7</td>\n",
       "      <td>NaN</td>\n",
       "      <td>120.0</td>\n",
       "      <td>78.0</td>\n",
       "      <td>NaN</td>\n",
       "      <td>NaN</td>\n",
       "      <td>NaN</td>\n",
       "      <td>NaN</td>\n",
       "    </tr>\n",
       "    <tr>\n",
       "      <th>1</th>\n",
       "      <td>MGVNDNAK</td>\n",
       "      <td>2896.0</td>\n",
       "      <td>23.89</td>\n",
       "      <td>73.000</td>\n",
       "      <td>0</td>\n",
       "      <td>51</td>\n",
       "      <td>3</td>\n",
       "      <td>7</td>\n",
       "      <td>3.0</td>\n",
       "      <td>102.0</td>\n",
       "      <td>66.0</td>\n",
       "      <td>78.0</td>\n",
       "      <td>119.0</td>\n",
       "      <td>69.0</td>\n",
       "      <td>5.3</td>\n",
       "    </tr>\n",
       "    <tr>\n",
       "      <th>2</th>\n",
       "      <td>MNANZAKG</td>\n",
       "      <td>3219.2</td>\n",
       "      <td>31.62</td>\n",
       "      <td>66.890</td>\n",
       "      <td>0</td>\n",
       "      <td>38</td>\n",
       "      <td>3</td>\n",
       "      <td>7</td>\n",
       "      <td>NaN</td>\n",
       "      <td>150.0</td>\n",
       "      <td>84.0</td>\n",
       "      <td>118.0</td>\n",
       "      <td>118.0</td>\n",
       "      <td>44.0</td>\n",
       "      <td>NaN</td>\n",
       "    </tr>\n",
       "    <tr>\n",
       "      <th>3</th>\n",
       "      <td>MNAOGDAK</td>\n",
       "      <td>3376.0</td>\n",
       "      <td>29.44</td>\n",
       "      <td>70.984</td>\n",
       "      <td>0</td>\n",
       "      <td>41</td>\n",
       "      <td>3</td>\n",
       "      <td>7</td>\n",
       "      <td>NaN</td>\n",
       "      <td>156.0</td>\n",
       "      <td>104.0</td>\n",
       "      <td>111.0</td>\n",
       "      <td>123.0</td>\n",
       "      <td>35.0</td>\n",
       "      <td>NaN</td>\n",
       "    </tr>\n",
       "    <tr>\n",
       "      <th>4</th>\n",
       "      <td>MNAZGATG</td>\n",
       "      <td>3340.8</td>\n",
       "      <td>29.13</td>\n",
       "      <td>71.000</td>\n",
       "      <td>0</td>\n",
       "      <td>67</td>\n",
       "      <td>3</td>\n",
       "      <td>7</td>\n",
       "      <td>NaN</td>\n",
       "      <td>128.0</td>\n",
       "      <td>84.0</td>\n",
       "      <td>121.0</td>\n",
       "      <td>75.0</td>\n",
       "      <td>38.0</td>\n",
       "      <td>NaN</td>\n",
       "    </tr>\n",
       "  </tbody>\n",
       "</table>\n",
       "</div>"
      ],
      "text/plain": [
       "  Deidentified_Pat_ID  Weight  Height     BMI  gender  age  ethnicity  race  \\\n",
       "0            MGVKKNZN  2320.0   23.41  66.000       0   60          3     7   \n",
       "1            MGVNDNAK  2896.0   23.89  73.000       0   51          3     7   \n",
       "2            MNANZAKG  3219.2   31.62  66.890       0   38          3     7   \n",
       "3            MNAOGDAK  3376.0   29.44  70.984       0   41          3     7   \n",
       "4            MNAZGATG  3340.8   29.13  71.000       0   67          3     7   \n",
       "\n",
       "   family_diabetes_type  bp_high  bp_low  triglyceride    ldl   hdl  a1c  \n",
       "0                   NaN    120.0    78.0           NaN    NaN   NaN  NaN  \n",
       "1                   3.0    102.0    66.0          78.0  119.0  69.0  5.3  \n",
       "2                   NaN    150.0    84.0         118.0  118.0  44.0  NaN  \n",
       "3                   NaN    156.0   104.0         111.0  123.0  35.0  NaN  \n",
       "4                   NaN    128.0    84.0         121.0   75.0  38.0  NaN  "
      ]
     },
     "execution_count": 127,
     "metadata": {},
     "output_type": "execute_result"
    }
   ],
   "source": [
    "res = pd.merge(res,Cholesterol_pd, how='outer',on=['Deidentified_Pat_ID'])\n",
    "#res = res[[ 'Deidentified_Pat_ID', 'triglyceride','ldl', 'hdl','a1c']]\n",
    "res.head()\n"
   ]
  },
  {
   "cell_type": "code",
   "execution_count": 128,
   "metadata": {},
   "outputs": [
    {
     "data": {
      "text/plain": [
       "(6212, 15)"
      ]
     },
     "execution_count": 128,
     "metadata": {},
     "output_type": "execute_result"
    }
   ],
   "source": [
    "res.shape"
   ]
  },
  {
   "cell_type": "code",
   "execution_count": 129,
   "metadata": {},
   "outputs": [
    {
     "data": {
      "text/html": [
       "<div>\n",
       "<style scoped>\n",
       "    .dataframe tbody tr th:only-of-type {\n",
       "        vertical-align: middle;\n",
       "    }\n",
       "\n",
       "    .dataframe tbody tr th {\n",
       "        vertical-align: top;\n",
       "    }\n",
       "\n",
       "    .dataframe thead th {\n",
       "        text-align: right;\n",
       "    }\n",
       "</style>\n",
       "<table border=\"1\" class=\"dataframe\">\n",
       "  <thead>\n",
       "    <tr style=\"text-align: right;\">\n",
       "      <th></th>\n",
       "      <th>Deidentified_Pat_ID</th>\n",
       "      <th>Weight</th>\n",
       "      <th>Height</th>\n",
       "      <th>BMI</th>\n",
       "      <th>gender</th>\n",
       "      <th>age</th>\n",
       "      <th>ethnicity</th>\n",
       "      <th>race</th>\n",
       "      <th>family_diabetes_type</th>\n",
       "      <th>bp_high</th>\n",
       "      <th>bp_low</th>\n",
       "      <th>triglyceride</th>\n",
       "      <th>ldl</th>\n",
       "      <th>hdl</th>\n",
       "      <th>a1c</th>\n",
       "      <th>gulcose</th>\n",
       "      <th>Fasting?</th>\n",
       "    </tr>\n",
       "  </thead>\n",
       "  <tbody>\n",
       "    <tr>\n",
       "      <th>0</th>\n",
       "      <td>MGVKKNZN</td>\n",
       "      <td>2320.0</td>\n",
       "      <td>23.41</td>\n",
       "      <td>66.000</td>\n",
       "      <td>0</td>\n",
       "      <td>60</td>\n",
       "      <td>3</td>\n",
       "      <td>7</td>\n",
       "      <td>NaN</td>\n",
       "      <td>120.0</td>\n",
       "      <td>78.0</td>\n",
       "      <td>NaN</td>\n",
       "      <td>NaN</td>\n",
       "      <td>NaN</td>\n",
       "      <td>NaN</td>\n",
       "      <td>NaN</td>\n",
       "      <td>NaN</td>\n",
       "    </tr>\n",
       "    <tr>\n",
       "      <th>1</th>\n",
       "      <td>MGVNDNAK</td>\n",
       "      <td>2896.0</td>\n",
       "      <td>23.89</td>\n",
       "      <td>73.000</td>\n",
       "      <td>0</td>\n",
       "      <td>51</td>\n",
       "      <td>3</td>\n",
       "      <td>7</td>\n",
       "      <td>3.0</td>\n",
       "      <td>102.0</td>\n",
       "      <td>66.0</td>\n",
       "      <td>78.0</td>\n",
       "      <td>119.0</td>\n",
       "      <td>69.0</td>\n",
       "      <td>5.3</td>\n",
       "      <td>94.0</td>\n",
       "      <td>NaN</td>\n",
       "    </tr>\n",
       "    <tr>\n",
       "      <th>2</th>\n",
       "      <td>MNANZAKG</td>\n",
       "      <td>3219.2</td>\n",
       "      <td>31.62</td>\n",
       "      <td>66.890</td>\n",
       "      <td>0</td>\n",
       "      <td>38</td>\n",
       "      <td>3</td>\n",
       "      <td>7</td>\n",
       "      <td>NaN</td>\n",
       "      <td>150.0</td>\n",
       "      <td>84.0</td>\n",
       "      <td>118.0</td>\n",
       "      <td>118.0</td>\n",
       "      <td>44.0</td>\n",
       "      <td>NaN</td>\n",
       "      <td>96.0</td>\n",
       "      <td>No</td>\n",
       "    </tr>\n",
       "    <tr>\n",
       "      <th>3</th>\n",
       "      <td>MNAOGDAK</td>\n",
       "      <td>3376.0</td>\n",
       "      <td>29.44</td>\n",
       "      <td>70.984</td>\n",
       "      <td>0</td>\n",
       "      <td>41</td>\n",
       "      <td>3</td>\n",
       "      <td>7</td>\n",
       "      <td>NaN</td>\n",
       "      <td>156.0</td>\n",
       "      <td>104.0</td>\n",
       "      <td>111.0</td>\n",
       "      <td>123.0</td>\n",
       "      <td>35.0</td>\n",
       "      <td>NaN</td>\n",
       "      <td>108.0</td>\n",
       "      <td>NaN</td>\n",
       "    </tr>\n",
       "    <tr>\n",
       "      <th>4</th>\n",
       "      <td>MNAZGATG</td>\n",
       "      <td>3340.8</td>\n",
       "      <td>29.13</td>\n",
       "      <td>71.000</td>\n",
       "      <td>0</td>\n",
       "      <td>67</td>\n",
       "      <td>3</td>\n",
       "      <td>7</td>\n",
       "      <td>NaN</td>\n",
       "      <td>128.0</td>\n",
       "      <td>84.0</td>\n",
       "      <td>121.0</td>\n",
       "      <td>75.0</td>\n",
       "      <td>38.0</td>\n",
       "      <td>NaN</td>\n",
       "      <td>NaN</td>\n",
       "      <td>NaN</td>\n",
       "    </tr>\n",
       "  </tbody>\n",
       "</table>\n",
       "</div>"
      ],
      "text/plain": [
       "  Deidentified_Pat_ID  Weight  Height     BMI  gender  age  ethnicity  race  \\\n",
       "0            MGVKKNZN  2320.0   23.41  66.000       0   60          3     7   \n",
       "1            MGVNDNAK  2896.0   23.89  73.000       0   51          3     7   \n",
       "2            MNANZAKG  3219.2   31.62  66.890       0   38          3     7   \n",
       "3            MNAOGDAK  3376.0   29.44  70.984       0   41          3     7   \n",
       "4            MNAZGATG  3340.8   29.13  71.000       0   67          3     7   \n",
       "\n",
       "   family_diabetes_type  bp_high  bp_low  triglyceride    ldl   hdl  a1c  \\\n",
       "0                   NaN    120.0    78.0           NaN    NaN   NaN  NaN   \n",
       "1                   3.0    102.0    66.0          78.0  119.0  69.0  5.3   \n",
       "2                   NaN    150.0    84.0         118.0  118.0  44.0  NaN   \n",
       "3                   NaN    156.0   104.0         111.0  123.0  35.0  NaN   \n",
       "4                   NaN    128.0    84.0         121.0   75.0  38.0  NaN   \n",
       "\n",
       "   gulcose Fasting?  \n",
       "0      NaN      NaN  \n",
       "1     94.0      NaN  \n",
       "2     96.0       No  \n",
       "3    108.0      NaN  \n",
       "4      NaN      NaN  "
      ]
     },
     "execution_count": 129,
     "metadata": {},
     "output_type": "execute_result"
    }
   ],
   "source": [
    "res = pd.merge(res,glucose_pd, how='outer',on=['Deidentified_Pat_ID'])\n",
    "#res = res[[ 'Deidentified_Pat_ID', 'triglyceride','ldl', 'hdl','a1c']]\n",
    "res.head()"
   ]
  },
  {
   "cell_type": "code",
   "execution_count": 130,
   "metadata": {},
   "outputs": [
    {
     "data": {
      "text/plain": [
       "(6212, 17)"
      ]
     },
     "execution_count": 130,
     "metadata": {},
     "output_type": "execute_result"
    }
   ],
   "source": [
    "res.shape"
   ]
  },
  {
   "cell_type": "code",
   "execution_count": 131,
   "metadata": {},
   "outputs": [
    {
     "data": {
      "text/html": [
       "<div>\n",
       "<style scoped>\n",
       "    .dataframe tbody tr th:only-of-type {\n",
       "        vertical-align: middle;\n",
       "    }\n",
       "\n",
       "    .dataframe tbody tr th {\n",
       "        vertical-align: top;\n",
       "    }\n",
       "\n",
       "    .dataframe thead th {\n",
       "        text-align: right;\n",
       "    }\n",
       "</style>\n",
       "<table border=\"1\" class=\"dataframe\">\n",
       "  <thead>\n",
       "    <tr style=\"text-align: right;\">\n",
       "      <th></th>\n",
       "      <th>Weight</th>\n",
       "      <th>Height</th>\n",
       "      <th>BMI</th>\n",
       "      <th>gender</th>\n",
       "      <th>age</th>\n",
       "      <th>ethnicity</th>\n",
       "      <th>race</th>\n",
       "      <th>family_diabetes_type</th>\n",
       "      <th>bp_high</th>\n",
       "      <th>bp_low</th>\n",
       "      <th>triglyceride</th>\n",
       "      <th>ldl</th>\n",
       "      <th>hdl</th>\n",
       "      <th>a1c</th>\n",
       "      <th>gulcose</th>\n",
       "    </tr>\n",
       "  </thead>\n",
       "  <tbody>\n",
       "    <tr>\n",
       "      <th>count</th>\n",
       "      <td>2429.000000</td>\n",
       "      <td>2415.000000</td>\n",
       "      <td>2911.000000</td>\n",
       "      <td>6212.000000</td>\n",
       "      <td>6212.000000</td>\n",
       "      <td>6212.000000</td>\n",
       "      <td>6212.000000</td>\n",
       "      <td>3222.000000</td>\n",
       "      <td>6157.000000</td>\n",
       "      <td>6157.000000</td>\n",
       "      <td>5468.000000</td>\n",
       "      <td>5373.000000</td>\n",
       "      <td>5466.000000</td>\n",
       "      <td>2287.000000</td>\n",
       "      <td>5693.000000</td>\n",
       "    </tr>\n",
       "    <tr>\n",
       "      <th>mean</th>\n",
       "      <td>3056.542577</td>\n",
       "      <td>29.680232</td>\n",
       "      <td>67.015456</td>\n",
       "      <td>0.607051</td>\n",
       "      <td>54.553928</td>\n",
       "      <td>2.943818</td>\n",
       "      <td>6.911301</td>\n",
       "      <td>2.941030</td>\n",
       "      <td>144.162742</td>\n",
       "      <td>82.390775</td>\n",
       "      <td>166.619422</td>\n",
       "      <td>122.790955</td>\n",
       "      <td>58.540505</td>\n",
       "      <td>6.367381</td>\n",
       "      <td>117.705270</td>\n",
       "    </tr>\n",
       "    <tr>\n",
       "      <th>std</th>\n",
       "      <td>726.204867</td>\n",
       "      <td>6.230362</td>\n",
       "      <td>3.742598</td>\n",
       "      <td>0.488445</td>\n",
       "      <td>15.343955</td>\n",
       "      <td>0.449224</td>\n",
       "      <td>0.760704</td>\n",
       "      <td>0.266519</td>\n",
       "      <td>18.551480</td>\n",
       "      <td>11.594975</td>\n",
       "      <td>155.916396</td>\n",
       "      <td>35.991479</td>\n",
       "      <td>17.718897</td>\n",
       "      <td>1.547652</td>\n",
       "      <td>33.343363</td>\n",
       "    </tr>\n",
       "    <tr>\n",
       "      <th>min</th>\n",
       "      <td>1458.000000</td>\n",
       "      <td>14.620000</td>\n",
       "      <td>57.000000</td>\n",
       "      <td>0.000000</td>\n",
       "      <td>18.000000</td>\n",
       "      <td>-1.000000</td>\n",
       "      <td>-1.000000</td>\n",
       "      <td>1.000000</td>\n",
       "      <td>90.000000</td>\n",
       "      <td>8.000000</td>\n",
       "      <td>20.000000</td>\n",
       "      <td>10.000000</td>\n",
       "      <td>15.000000</td>\n",
       "      <td>3.700000</td>\n",
       "      <td>55.000000</td>\n",
       "    </tr>\n",
       "    <tr>\n",
       "      <th>25%</th>\n",
       "      <td>2518.400000</td>\n",
       "      <td>25.325000</td>\n",
       "      <td>64.016000</td>\n",
       "      <td>0.000000</td>\n",
       "      <td>42.000000</td>\n",
       "      <td>3.000000</td>\n",
       "      <td>7.000000</td>\n",
       "      <td>3.000000</td>\n",
       "      <td>131.000000</td>\n",
       "      <td>74.000000</td>\n",
       "      <td>93.000000</td>\n",
       "      <td>97.000000</td>\n",
       "      <td>46.000000</td>\n",
       "      <td>5.400000</td>\n",
       "      <td>98.000000</td>\n",
       "    </tr>\n",
       "    <tr>\n",
       "      <th>50%</th>\n",
       "      <td>2992.000000</td>\n",
       "      <td>28.780000</td>\n",
       "      <td>66.750000</td>\n",
       "      <td>1.000000</td>\n",
       "      <td>56.000000</td>\n",
       "      <td>3.000000</td>\n",
       "      <td>7.000000</td>\n",
       "      <td>3.000000</td>\n",
       "      <td>140.000000</td>\n",
       "      <td>82.000000</td>\n",
       "      <td>138.000000</td>\n",
       "      <td>120.000000</td>\n",
       "      <td>56.000000</td>\n",
       "      <td>5.800000</td>\n",
       "      <td>106.000000</td>\n",
       "    </tr>\n",
       "    <tr>\n",
       "      <th>75%</th>\n",
       "      <td>3488.000000</td>\n",
       "      <td>33.050000</td>\n",
       "      <td>69.665500</td>\n",
       "      <td>1.000000</td>\n",
       "      <td>67.000000</td>\n",
       "      <td>3.000000</td>\n",
       "      <td>7.000000</td>\n",
       "      <td>3.000000</td>\n",
       "      <td>156.000000</td>\n",
       "      <td>90.000000</td>\n",
       "      <td>199.000000</td>\n",
       "      <td>144.000000</td>\n",
       "      <td>68.000000</td>\n",
       "      <td>6.700000</td>\n",
       "      <td>124.000000</td>\n",
       "    </tr>\n",
       "    <tr>\n",
       "      <th>max</th>\n",
       "      <td>7096.000000</td>\n",
       "      <td>65.730000</td>\n",
       "      <td>79.500000</td>\n",
       "      <td>1.000000</td>\n",
       "      <td>90.000000</td>\n",
       "      <td>3.000000</td>\n",
       "      <td>12.000000</td>\n",
       "      <td>4.000000</td>\n",
       "      <td>228.000000</td>\n",
       "      <td>148.000000</td>\n",
       "      <td>6163.000000</td>\n",
       "      <td>370.000000</td>\n",
       "      <td>166.000000</td>\n",
       "      <td>16.000000</td>\n",
       "      <td>249.000000</td>\n",
       "    </tr>\n",
       "  </tbody>\n",
       "</table>\n",
       "</div>"
      ],
      "text/plain": [
       "            Weight       Height          BMI       gender          age  \\\n",
       "count  2429.000000  2415.000000  2911.000000  6212.000000  6212.000000   \n",
       "mean   3056.542577    29.680232    67.015456     0.607051    54.553928   \n",
       "std     726.204867     6.230362     3.742598     0.488445    15.343955   \n",
       "min    1458.000000    14.620000    57.000000     0.000000    18.000000   \n",
       "25%    2518.400000    25.325000    64.016000     0.000000    42.000000   \n",
       "50%    2992.000000    28.780000    66.750000     1.000000    56.000000   \n",
       "75%    3488.000000    33.050000    69.665500     1.000000    67.000000   \n",
       "max    7096.000000    65.730000    79.500000     1.000000    90.000000   \n",
       "\n",
       "         ethnicity         race  family_diabetes_type      bp_high  \\\n",
       "count  6212.000000  6212.000000           3222.000000  6157.000000   \n",
       "mean      2.943818     6.911301              2.941030   144.162742   \n",
       "std       0.449224     0.760704              0.266519    18.551480   \n",
       "min      -1.000000    -1.000000              1.000000    90.000000   \n",
       "25%       3.000000     7.000000              3.000000   131.000000   \n",
       "50%       3.000000     7.000000              3.000000   140.000000   \n",
       "75%       3.000000     7.000000              3.000000   156.000000   \n",
       "max       3.000000    12.000000              4.000000   228.000000   \n",
       "\n",
       "            bp_low  triglyceride          ldl          hdl          a1c  \\\n",
       "count  6157.000000   5468.000000  5373.000000  5466.000000  2287.000000   \n",
       "mean     82.390775    166.619422   122.790955    58.540505     6.367381   \n",
       "std      11.594975    155.916396    35.991479    17.718897     1.547652   \n",
       "min       8.000000     20.000000    10.000000    15.000000     3.700000   \n",
       "25%      74.000000     93.000000    97.000000    46.000000     5.400000   \n",
       "50%      82.000000    138.000000   120.000000    56.000000     5.800000   \n",
       "75%      90.000000    199.000000   144.000000    68.000000     6.700000   \n",
       "max     148.000000   6163.000000   370.000000   166.000000    16.000000   \n",
       "\n",
       "           gulcose  \n",
       "count  5693.000000  \n",
       "mean    117.705270  \n",
       "std      33.343363  \n",
       "min      55.000000  \n",
       "25%      98.000000  \n",
       "50%     106.000000  \n",
       "75%     124.000000  \n",
       "max     249.000000  "
      ]
     },
     "execution_count": 131,
     "metadata": {},
     "output_type": "execute_result"
    }
   ],
   "source": [
    "res.describe()"
   ]
  },
  {
   "cell_type": "code",
   "execution_count": 132,
   "metadata": {},
   "outputs": [
    {
     "data": {
      "text/plain": [
       "(5693, 3560)"
      ]
     },
     "execution_count": 132,
     "metadata": {},
     "output_type": "execute_result"
    }
   ],
   "source": [
    "len(res[res['gulcose'].notna()]), len(res[res['Fasting?'].notna()])"
   ]
  },
  {
   "cell_type": "code",
   "execution_count": null,
   "metadata": {},
   "outputs": [],
   "source": []
  },
  {
   "cell_type": "code",
   "execution_count": 133,
   "metadata": {},
   "outputs": [
    {
     "data": {
      "text/plain": [
       "(6212, 3910)"
      ]
     },
     "execution_count": 133,
     "metadata": {},
     "output_type": "execute_result"
    }
   ],
   "source": [
    "len(res), len(head_pd)"
   ]
  },
  {
   "cell_type": "code",
   "execution_count": 134,
   "metadata": {},
   "outputs": [],
   "source": [
    "head_pd.columns = ['Deidentified_Pat_ID']"
   ]
  },
  {
   "cell_type": "code",
   "execution_count": 135,
   "metadata": {},
   "outputs": [
    {
     "data": {
      "text/html": [
       "<div>\n",
       "<style scoped>\n",
       "    .dataframe tbody tr th:only-of-type {\n",
       "        vertical-align: middle;\n",
       "    }\n",
       "\n",
       "    .dataframe tbody tr th {\n",
       "        vertical-align: top;\n",
       "    }\n",
       "\n",
       "    .dataframe thead th {\n",
       "        text-align: right;\n",
       "    }\n",
       "</style>\n",
       "<table border=\"1\" class=\"dataframe\">\n",
       "  <thead>\n",
       "    <tr style=\"text-align: right;\">\n",
       "      <th></th>\n",
       "      <th>Deidentified_Pat_ID</th>\n",
       "    </tr>\n",
       "  </thead>\n",
       "  <tbody>\n",
       "    <tr>\n",
       "      <th>0</th>\n",
       "      <td>MGVKKNZN</td>\n",
       "    </tr>\n",
       "    <tr>\n",
       "      <th>1</th>\n",
       "      <td>MNADOVKN</td>\n",
       "    </tr>\n",
       "    <tr>\n",
       "      <th>2</th>\n",
       "      <td>MNAODHZZ</td>\n",
       "    </tr>\n",
       "    <tr>\n",
       "      <th>3</th>\n",
       "      <td>MNAOGDAK</td>\n",
       "    </tr>\n",
       "    <tr>\n",
       "      <th>4</th>\n",
       "      <td>MNATONVG</td>\n",
       "    </tr>\n",
       "  </tbody>\n",
       "</table>\n",
       "</div>"
      ],
      "text/plain": [
       "  Deidentified_Pat_ID\n",
       "0            MGVKKNZN\n",
       "1            MNADOVKN\n",
       "2            MNAODHZZ\n",
       "3            MNAOGDAK\n",
       "4            MNATONVG"
      ]
     },
     "execution_count": 135,
     "metadata": {},
     "output_type": "execute_result"
    }
   ],
   "source": [
    "head_pd.head()"
   ]
  },
  {
   "cell_type": "code",
   "execution_count": 136,
   "metadata": {},
   "outputs": [
    {
     "data": {
      "text/html": [
       "<div>\n",
       "<style scoped>\n",
       "    .dataframe tbody tr th:only-of-type {\n",
       "        vertical-align: middle;\n",
       "    }\n",
       "\n",
       "    .dataframe tbody tr th {\n",
       "        vertical-align: top;\n",
       "    }\n",
       "\n",
       "    .dataframe thead th {\n",
       "        text-align: right;\n",
       "    }\n",
       "</style>\n",
       "<table border=\"1\" class=\"dataframe\">\n",
       "  <thead>\n",
       "    <tr style=\"text-align: right;\">\n",
       "      <th></th>\n",
       "      <th>Deidentified_Pat_ID</th>\n",
       "      <th>Weight</th>\n",
       "      <th>Height</th>\n",
       "      <th>BMI</th>\n",
       "      <th>gender</th>\n",
       "      <th>age</th>\n",
       "      <th>ethnicity</th>\n",
       "      <th>race</th>\n",
       "      <th>family_diabetes_type</th>\n",
       "      <th>bp_high</th>\n",
       "      <th>bp_low</th>\n",
       "      <th>triglyceride</th>\n",
       "      <th>ldl</th>\n",
       "      <th>hdl</th>\n",
       "      <th>a1c</th>\n",
       "      <th>gulcose</th>\n",
       "      <th>Fasting?</th>\n",
       "    </tr>\n",
       "  </thead>\n",
       "  <tbody>\n",
       "    <tr>\n",
       "      <th>0</th>\n",
       "      <td>MGVKKNZN</td>\n",
       "      <td>2320.0</td>\n",
       "      <td>23.41</td>\n",
       "      <td>66.000</td>\n",
       "      <td>0.0</td>\n",
       "      <td>60.0</td>\n",
       "      <td>3.0</td>\n",
       "      <td>7.0</td>\n",
       "      <td>NaN</td>\n",
       "      <td>120.0</td>\n",
       "      <td>78.0</td>\n",
       "      <td>NaN</td>\n",
       "      <td>NaN</td>\n",
       "      <td>NaN</td>\n",
       "      <td>NaN</td>\n",
       "      <td>NaN</td>\n",
       "      <td>NaN</td>\n",
       "    </tr>\n",
       "    <tr>\n",
       "      <th>1</th>\n",
       "      <td>MNAOGDAK</td>\n",
       "      <td>3376.0</td>\n",
       "      <td>29.44</td>\n",
       "      <td>70.984</td>\n",
       "      <td>0.0</td>\n",
       "      <td>41.0</td>\n",
       "      <td>3.0</td>\n",
       "      <td>7.0</td>\n",
       "      <td>NaN</td>\n",
       "      <td>156.0</td>\n",
       "      <td>104.0</td>\n",
       "      <td>111.0</td>\n",
       "      <td>123.0</td>\n",
       "      <td>35.0</td>\n",
       "      <td>NaN</td>\n",
       "      <td>108.0</td>\n",
       "      <td>NaN</td>\n",
       "    </tr>\n",
       "    <tr>\n",
       "      <th>2</th>\n",
       "      <td>MNAZGATG</td>\n",
       "      <td>3340.8</td>\n",
       "      <td>29.13</td>\n",
       "      <td>71.000</td>\n",
       "      <td>0.0</td>\n",
       "      <td>67.0</td>\n",
       "      <td>3.0</td>\n",
       "      <td>7.0</td>\n",
       "      <td>NaN</td>\n",
       "      <td>128.0</td>\n",
       "      <td>84.0</td>\n",
       "      <td>121.0</td>\n",
       "      <td>75.0</td>\n",
       "      <td>38.0</td>\n",
       "      <td>NaN</td>\n",
       "      <td>NaN</td>\n",
       "      <td>NaN</td>\n",
       "    </tr>\n",
       "    <tr>\n",
       "      <th>3</th>\n",
       "      <td>MNGDNAOA</td>\n",
       "      <td>4268.8</td>\n",
       "      <td>43.08</td>\n",
       "      <td>66.000</td>\n",
       "      <td>1.0</td>\n",
       "      <td>55.0</td>\n",
       "      <td>3.0</td>\n",
       "      <td>7.0</td>\n",
       "      <td>NaN</td>\n",
       "      <td>152.0</td>\n",
       "      <td>80.0</td>\n",
       "      <td>100.0</td>\n",
       "      <td>108.0</td>\n",
       "      <td>59.0</td>\n",
       "      <td>NaN</td>\n",
       "      <td>99.0</td>\n",
       "      <td>NaN</td>\n",
       "    </tr>\n",
       "    <tr>\n",
       "      <th>4</th>\n",
       "      <td>MNGGAADT</td>\n",
       "      <td>3539.2</td>\n",
       "      <td>30.86</td>\n",
       "      <td>71.000</td>\n",
       "      <td>0.0</td>\n",
       "      <td>62.0</td>\n",
       "      <td>3.0</td>\n",
       "      <td>7.0</td>\n",
       "      <td>NaN</td>\n",
       "      <td>152.0</td>\n",
       "      <td>101.0</td>\n",
       "      <td>127.0</td>\n",
       "      <td>90.0</td>\n",
       "      <td>60.0</td>\n",
       "      <td>5.8</td>\n",
       "      <td>112.0</td>\n",
       "      <td>No</td>\n",
       "    </tr>\n",
       "  </tbody>\n",
       "</table>\n",
       "</div>"
      ],
      "text/plain": [
       "  Deidentified_Pat_ID  Weight  Height     BMI  gender   age  ethnicity  race  \\\n",
       "0            MGVKKNZN  2320.0   23.41  66.000     0.0  60.0        3.0   7.0   \n",
       "1            MNAOGDAK  3376.0   29.44  70.984     0.0  41.0        3.0   7.0   \n",
       "2            MNAZGATG  3340.8   29.13  71.000     0.0  67.0        3.0   7.0   \n",
       "3            MNGDNAOA  4268.8   43.08  66.000     1.0  55.0        3.0   7.0   \n",
       "4            MNGGAADT  3539.2   30.86  71.000     0.0  62.0        3.0   7.0   \n",
       "\n",
       "   family_diabetes_type  bp_high  bp_low  triglyceride    ldl   hdl  a1c  \\\n",
       "0                   NaN    120.0    78.0           NaN    NaN   NaN  NaN   \n",
       "1                   NaN    156.0   104.0         111.0  123.0  35.0  NaN   \n",
       "2                   NaN    128.0    84.0         121.0   75.0  38.0  NaN   \n",
       "3                   NaN    152.0    80.0         100.0  108.0  59.0  NaN   \n",
       "4                   NaN    152.0   101.0         127.0   90.0  60.0  5.8   \n",
       "\n",
       "   gulcose Fasting?  \n",
       "0      NaN      NaN  \n",
       "1    108.0      NaN  \n",
       "2      NaN      NaN  \n",
       "3     99.0      NaN  \n",
       "4    112.0       No  "
      ]
     },
     "execution_count": 136,
     "metadata": {},
     "output_type": "execute_result"
    }
   ],
   "source": [
    "res = pd.merge(res,head_pd, how='right',on=['Deidentified_Pat_ID'])\n",
    "#res = res[[ 'Deidentified_Pat_ID', 'triglyceride','ldl', 'hdl','a1c']]\n",
    "res.head()"
   ]
  },
  {
   "cell_type": "code",
   "execution_count": 150,
   "metadata": {},
   "outputs": [
    {
     "data": {
      "text/plain": [
       "(3910, 17)"
      ]
     },
     "execution_count": 150,
     "metadata": {},
     "output_type": "execute_result"
    }
   ],
   "source": [
    "res.shape"
   ]
  },
  {
   "cell_type": "code",
   "execution_count": 138,
   "metadata": {
    "scrolled": true
   },
   "outputs": [
    {
     "data": {
      "text/html": [
       "<div>\n",
       "<style scoped>\n",
       "    .dataframe tbody tr th:only-of-type {\n",
       "        vertical-align: middle;\n",
       "    }\n",
       "\n",
       "    .dataframe tbody tr th {\n",
       "        vertical-align: top;\n",
       "    }\n",
       "\n",
       "    .dataframe thead th {\n",
       "        text-align: right;\n",
       "    }\n",
       "</style>\n",
       "<table border=\"1\" class=\"dataframe\">\n",
       "  <thead>\n",
       "    <tr style=\"text-align: right;\">\n",
       "      <th></th>\n",
       "      <th>Weight</th>\n",
       "      <th>Height</th>\n",
       "      <th>BMI</th>\n",
       "      <th>gender</th>\n",
       "      <th>age</th>\n",
       "      <th>ethnicity</th>\n",
       "      <th>race</th>\n",
       "      <th>family_diabetes_type</th>\n",
       "      <th>bp_high</th>\n",
       "      <th>bp_low</th>\n",
       "      <th>triglyceride</th>\n",
       "      <th>ldl</th>\n",
       "      <th>hdl</th>\n",
       "      <th>a1c</th>\n",
       "      <th>gulcose</th>\n",
       "    </tr>\n",
       "  </thead>\n",
       "  <tbody>\n",
       "    <tr>\n",
       "      <th>count</th>\n",
       "      <td>1535.000000</td>\n",
       "      <td>1530.000000</td>\n",
       "      <td>1831.000000</td>\n",
       "      <td>3909.000000</td>\n",
       "      <td>3909.000000</td>\n",
       "      <td>3909.000000</td>\n",
       "      <td>3909.000000</td>\n",
       "      <td>2026.000000</td>\n",
       "      <td>3880.000000</td>\n",
       "      <td>3880.000000</td>\n",
       "      <td>3504.000000</td>\n",
       "      <td>3445.000000</td>\n",
       "      <td>3502.000000</td>\n",
       "      <td>1452.000000</td>\n",
       "      <td>3619.000000</td>\n",
       "    </tr>\n",
       "    <tr>\n",
       "      <th>mean</th>\n",
       "      <td>3032.718958</td>\n",
       "      <td>29.455307</td>\n",
       "      <td>66.962376</td>\n",
       "      <td>0.598619</td>\n",
       "      <td>55.402661</td>\n",
       "      <td>2.944743</td>\n",
       "      <td>6.912254</td>\n",
       "      <td>2.947680</td>\n",
       "      <td>144.436856</td>\n",
       "      <td>82.413144</td>\n",
       "      <td>165.351027</td>\n",
       "      <td>122.187170</td>\n",
       "      <td>58.601770</td>\n",
       "      <td>6.405510</td>\n",
       "      <td>118.490743</td>\n",
       "    </tr>\n",
       "    <tr>\n",
       "      <th>std</th>\n",
       "      <td>705.606040</td>\n",
       "      <td>5.907708</td>\n",
       "      <td>3.783876</td>\n",
       "      <td>0.490241</td>\n",
       "      <td>15.228507</td>\n",
       "      <td>0.450197</td>\n",
       "      <td>0.768977</td>\n",
       "      <td>0.249893</td>\n",
       "      <td>18.618118</td>\n",
       "      <td>11.649194</td>\n",
       "      <td>135.801132</td>\n",
       "      <td>35.520014</td>\n",
       "      <td>17.483198</td>\n",
       "      <td>1.552943</td>\n",
       "      <td>33.809903</td>\n",
       "    </tr>\n",
       "    <tr>\n",
       "      <th>min</th>\n",
       "      <td>1458.000000</td>\n",
       "      <td>17.230000</td>\n",
       "      <td>57.000000</td>\n",
       "      <td>0.000000</td>\n",
       "      <td>19.000000</td>\n",
       "      <td>-1.000000</td>\n",
       "      <td>-1.000000</td>\n",
       "      <td>1.000000</td>\n",
       "      <td>90.000000</td>\n",
       "      <td>8.000000</td>\n",
       "      <td>23.000000</td>\n",
       "      <td>10.000000</td>\n",
       "      <td>15.000000</td>\n",
       "      <td>3.700000</td>\n",
       "      <td>56.000000</td>\n",
       "    </tr>\n",
       "    <tr>\n",
       "      <th>25%</th>\n",
       "      <td>2512.000000</td>\n",
       "      <td>25.270000</td>\n",
       "      <td>64.000000</td>\n",
       "      <td>0.000000</td>\n",
       "      <td>43.000000</td>\n",
       "      <td>3.000000</td>\n",
       "      <td>7.000000</td>\n",
       "      <td>3.000000</td>\n",
       "      <td>132.000000</td>\n",
       "      <td>74.000000</td>\n",
       "      <td>93.750000</td>\n",
       "      <td>97.000000</td>\n",
       "      <td>46.000000</td>\n",
       "      <td>5.400000</td>\n",
       "      <td>98.000000</td>\n",
       "    </tr>\n",
       "    <tr>\n",
       "      <th>50%</th>\n",
       "      <td>2976.000000</td>\n",
       "      <td>28.670000</td>\n",
       "      <td>66.535000</td>\n",
       "      <td>1.000000</td>\n",
       "      <td>57.000000</td>\n",
       "      <td>3.000000</td>\n",
       "      <td>7.000000</td>\n",
       "      <td>3.000000</td>\n",
       "      <td>140.000000</td>\n",
       "      <td>82.000000</td>\n",
       "      <td>138.000000</td>\n",
       "      <td>120.000000</td>\n",
       "      <td>56.000000</td>\n",
       "      <td>5.800000</td>\n",
       "      <td>107.000000</td>\n",
       "    </tr>\n",
       "    <tr>\n",
       "      <th>75%</th>\n",
       "      <td>3456.000000</td>\n",
       "      <td>32.627500</td>\n",
       "      <td>69.500000</td>\n",
       "      <td>1.000000</td>\n",
       "      <td>68.000000</td>\n",
       "      <td>3.000000</td>\n",
       "      <td>7.000000</td>\n",
       "      <td>3.000000</td>\n",
       "      <td>156.000000</td>\n",
       "      <td>89.000000</td>\n",
       "      <td>198.000000</td>\n",
       "      <td>144.000000</td>\n",
       "      <td>69.000000</td>\n",
       "      <td>6.825000</td>\n",
       "      <td>125.000000</td>\n",
       "    </tr>\n",
       "    <tr>\n",
       "      <th>max</th>\n",
       "      <td>6348.800000</td>\n",
       "      <td>65.730000</td>\n",
       "      <td>79.000000</td>\n",
       "      <td>1.000000</td>\n",
       "      <td>90.000000</td>\n",
       "      <td>3.000000</td>\n",
       "      <td>12.000000</td>\n",
       "      <td>4.000000</td>\n",
       "      <td>226.000000</td>\n",
       "      <td>148.000000</td>\n",
       "      <td>2776.000000</td>\n",
       "      <td>370.000000</td>\n",
       "      <td>166.000000</td>\n",
       "      <td>16.000000</td>\n",
       "      <td>249.000000</td>\n",
       "    </tr>\n",
       "  </tbody>\n",
       "</table>\n",
       "</div>"
      ],
      "text/plain": [
       "            Weight       Height          BMI       gender          age  \\\n",
       "count  1535.000000  1530.000000  1831.000000  3909.000000  3909.000000   \n",
       "mean   3032.718958    29.455307    66.962376     0.598619    55.402661   \n",
       "std     705.606040     5.907708     3.783876     0.490241    15.228507   \n",
       "min    1458.000000    17.230000    57.000000     0.000000    19.000000   \n",
       "25%    2512.000000    25.270000    64.000000     0.000000    43.000000   \n",
       "50%    2976.000000    28.670000    66.535000     1.000000    57.000000   \n",
       "75%    3456.000000    32.627500    69.500000     1.000000    68.000000   \n",
       "max    6348.800000    65.730000    79.000000     1.000000    90.000000   \n",
       "\n",
       "         ethnicity         race  family_diabetes_type      bp_high  \\\n",
       "count  3909.000000  3909.000000           2026.000000  3880.000000   \n",
       "mean      2.944743     6.912254              2.947680   144.436856   \n",
       "std       0.450197     0.768977              0.249893    18.618118   \n",
       "min      -1.000000    -1.000000              1.000000    90.000000   \n",
       "25%       3.000000     7.000000              3.000000   132.000000   \n",
       "50%       3.000000     7.000000              3.000000   140.000000   \n",
       "75%       3.000000     7.000000              3.000000   156.000000   \n",
       "max       3.000000    12.000000              4.000000   226.000000   \n",
       "\n",
       "            bp_low  triglyceride          ldl          hdl          a1c  \\\n",
       "count  3880.000000   3504.000000  3445.000000  3502.000000  1452.000000   \n",
       "mean     82.413144    165.351027   122.187170    58.601770     6.405510   \n",
       "std      11.649194    135.801132    35.520014    17.483198     1.552943   \n",
       "min       8.000000     23.000000    10.000000    15.000000     3.700000   \n",
       "25%      74.000000     93.750000    97.000000    46.000000     5.400000   \n",
       "50%      82.000000    138.000000   120.000000    56.000000     5.800000   \n",
       "75%      89.000000    198.000000   144.000000    69.000000     6.825000   \n",
       "max     148.000000   2776.000000   370.000000   166.000000    16.000000   \n",
       "\n",
       "           gulcose  \n",
       "count  3619.000000  \n",
       "mean    118.490743  \n",
       "std      33.809903  \n",
       "min      56.000000  \n",
       "25%      98.000000  \n",
       "50%     107.000000  \n",
       "75%     125.000000  \n",
       "max     249.000000  "
      ]
     },
     "execution_count": 138,
     "metadata": {},
     "output_type": "execute_result"
    }
   ],
   "source": [
    "res.describe()"
   ]
  },
  {
   "cell_type": "code",
   "execution_count": 151,
   "metadata": {},
   "outputs": [
    {
     "data": {
      "text/plain": [
       "796"
      ]
     },
     "execution_count": 151,
     "metadata": {},
     "output_type": "execute_result"
    }
   ],
   "source": [
    "len(res[res['a1c']>5.7])"
   ]
  },
  {
   "cell_type": "code",
   "execution_count": 152,
   "metadata": {},
   "outputs": [
    {
     "data": {
      "text/plain": [
       "656"
      ]
     },
     "execution_count": 152,
     "metadata": {},
     "output_type": "execute_result"
    }
   ],
   "source": [
    "len(res[res['a1c']<=5.7])"
   ]
  },
  {
   "cell_type": "code",
   "execution_count": 153,
   "metadata": {},
   "outputs": [
    {
     "name": "stdout",
     "output_type": "stream",
     "text": [
      "Percent of missing data\n"
     ]
    },
    {
     "data": {
      "text/plain": [
       "[('a1c', 62.86),\n",
       " ('Height', 60.87),\n",
       " ('Weight', 60.74),\n",
       " ('BMI', 53.17),\n",
       " ('family_diabetes_type', 48.18),\n",
       " ('Fasting?', 42.61),\n",
       " ('ldl', 11.89),\n",
       " ('hdl', 10.43),\n",
       " ('triglyceride', 10.38),\n",
       " ('gulcose', 7.44)]"
      ]
     },
     "execution_count": 153,
     "metadata": {},
     "output_type": "execute_result"
    }
   ],
   "source": [
    "# determine the threshold for missing values\n",
    "def percent_missing(df):\n",
    "    data = pd.DataFrame(df)\n",
    "    df_cols = list(pd.DataFrame(data))\n",
    "    dict_x = {}\n",
    "    for i in range(0, len(df_cols)):\n",
    "        dict_x.update({df_cols[i]: round(data[df_cols[i]].isnull().mean()*100,2)})\n",
    "    \n",
    "    return dict_x\n",
    "\n",
    "missing = percent_missing(res)\n",
    "df_miss = sorted(missing.items(), key=lambda x: x[1], reverse=True)\n",
    "print('Percent of missing data')\n",
    "df_miss[0:10]"
   ]
  },
  {
   "cell_type": "code",
   "execution_count": 154,
   "metadata": {},
   "outputs": [
    {
     "data": {
      "image/png": "[encoded data removed]",
      "text/plain": [
       "<Figure size 576x504 with 1 Axes>"
      ]
     },
     "metadata": {},
     "output_type": "display_data"
    }
   ],
   "source": [
    "# Visualize missing values\n",
    "sns.set_style(\"white\")\n",
    "f, ax = plt.subplots(figsize=(8, 7))\n",
    "sns.set_color_codes(palette='deep')\n",
    "missing = round(res.isnull().mean()*100,2)\n",
    "missing = missing[missing > 0]\n",
    "missing.sort_values(inplace=True)\n",
    "missing.plot.bar(color=\"b\")\n",
    "# Tweak the visual presentation\n",
    "ax.xaxis.grid(False)\n",
    "ax.set(ylabel=\"Percent of missing values\")\n",
    "ax.set(xlabel=\"Features\")\n",
    "ax.set(title=\"Percent missing data by feature\")\n",
    "sns.despine(trim=True, left=True)"
   ]
  },
  {
   "cell_type": "code",
   "execution_count": 155,
   "metadata": {},
   "outputs": [
    {
     "data": {
      "image/png": "[encoded data removed]",
      "text/plain": [
       "<Figure size 576x504 with 1 Axes>"
      ]
     },
     "metadata": {},
     "output_type": "display_data"
    }
   ],
   "source": [
    "feature_name = 'a1c'\n",
    "res_bp = res[res[feature_name].notna()]\n",
    "sns.set_style(\"white\")\n",
    "sns.set_color_codes(palette='deep')\n",
    "f, ax = plt.subplots(figsize=(8, 7))\n",
    "#Check the new distribution \n",
    "sns.distplot(res_bp[feature_name], color=\"b\");\n",
    "ax.xaxis.grid(False)\n",
    "ax.set(ylabel=\"Frequency\")\n",
    "ax.set(xlabel=feature_name)\n",
    "ax.set(title=feature_name+ \" distribution\")\n",
    "sns.despine(trim=True, left=True)\n",
    "plt.show()"
   ]
  },
  {
   "cell_type": "code",
   "execution_count": 156,
   "metadata": {},
   "outputs": [
    {
     "data": {
      "image/png": "[encoded data removed]",
      "text/plain": [
       "<Figure size 576x504 with 1 Axes>"
      ]
     },
     "metadata": {},
     "output_type": "display_data"
    }
   ],
   "source": [
    "feature_name = 'ldl'\n",
    "res_bp = res[res[feature_name].notna()]\n",
    "sns.set_style(\"white\")\n",
    "sns.set_color_codes(palette='deep')\n",
    "f, ax = plt.subplots(figsize=(8, 7))\n",
    "#Check the new distribution \n",
    "sns.distplot(res_bp[feature_name], color=\"b\");\n",
    "ax.xaxis.grid(False)\n",
    "ax.set(ylabel=\"Frequency\")\n",
    "ax.set(xlabel=feature_name)\n",
    "ax.set(title=feature_name+ \" distribution\")\n",
    "sns.despine(trim=True, left=True)\n",
    "plt.show()"
   ]
  },
  {
   "cell_type": "code",
   "execution_count": 146,
   "metadata": {},
   "outputs": [
    {
     "data": {
      "image/png": "[encoded data removed]",
      "text/plain": [
       "<Figure size 576x504 with 1 Axes>"
      ]
     },
     "metadata": {},
     "output_type": "display_data"
    }
   ],
   "source": [
    "feature_name = 'hdl'\n",
    "res_bp = res[res[feature_name].notna()]\n",
    "sns.set_style(\"white\")\n",
    "sns.set_color_codes(palette='deep')\n",
    "f, ax = plt.subplots(figsize=(8, 7))\n",
    "#Check the new distribution \n",
    "sns.distplot(res_bp[feature_name], color=\"b\");\n",
    "ax.xaxis.grid(False)\n",
    "ax.set(ylabel=\"Frequency\")\n",
    "ax.set(xlabel=feature_name)\n",
    "ax.set(title=feature_name+ \" distribution\")\n",
    "sns.despine(trim=True, left=True)\n",
    "plt.show()"
   ]
  },
  {
   "cell_type": "code",
   "execution_count": 147,
   "metadata": {},
   "outputs": [
    {
     "data": {
      "image/png": "[encoded data removed]",
      "text/plain": [
       "<Figure size 576x504 with 1 Axes>"
      ]
     },
     "metadata": {},
     "output_type": "display_data"
    }
   ],
   "source": [
    "res_bp = res[res['BMI'].notna()]\n",
    "sns.set_style(\"white\")\n",
    "sns.set_color_codes(palette='deep')\n",
    "f, ax = plt.subplots(figsize=(8, 7))\n",
    "#Check the new distribution \n",
    "sns.distplot(res_bp['BMI'], color=\"b\");\n",
    "ax.xaxis.grid(False)\n",
    "ax.set(ylabel=\"Frequency\")\n",
    "ax.set(xlabel=\"BMI\")\n",
    "ax.set(title=\"BMI distribution\")\n",
    "sns.despine(trim=True, left=True)\n",
    "plt.show()"
   ]
  },
  {
   "cell_type": "code",
   "execution_count": 148,
   "metadata": {},
   "outputs": [
    {
     "data": {
      "image/png": "[encoded data removed]",
      "text/plain": [
       "<Figure size 576x504 with 1 Axes>"
      ]
     },
     "metadata": {},
     "output_type": "display_data"
    }
   ],
   "source": [
    "res_bp = res[res['bp_high'].notna()]\n",
    "sns.set_style(\"white\")\n",
    "sns.set_color_codes(palette='deep')\n",
    "f, ax = plt.subplots(figsize=(8, 7))\n",
    "#Check the new distribution \n",
    "sns.distplot(res_bp['bp_high'], color=\"b\");\n",
    "ax.xaxis.grid(False)\n",
    "ax.set(ylabel=\"Frequency\")\n",
    "ax.set(xlabel=\"bp_high\")\n",
    "ax.set(title=\"bp_high distribution\")\n",
    "sns.despine(trim=True, left=True)\n",
    "plt.show()"
   ]
  },
  {
   "cell_type": "code",
   "execution_count": 157,
   "metadata": {},
   "outputs": [],
   "source": [
    "res.to_csv(output, index=False)"
   ]
  },
  {
   "cell_type": "code",
   "execution_count": null,
   "metadata": {},
   "outputs": [],
   "source": []
  },
  {
   "cell_type": "code",
   "execution_count": null,
   "metadata": {},
   "outputs": [],
   "source": []
  }
 ],
 "metadata": {
  "kernelspec": {
   "display_name": "Python 3",
   "language": "python",
   "name": "python3"
  },
  "language_info": {
   "codemirror_mode": {
    "name": "ipython",
    "version": 3
   },
   "file_extension": ".py",
   "mimetype": "text/x-python",
   "name": "python",
   "nbconvert_exporter": "python",
   "pygments_lexer": "ipython3",
   "version": "3.6.9"
  }
 },
 "nbformat": 4,
 "nbformat_minor": 2
}
