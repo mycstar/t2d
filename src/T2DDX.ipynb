{
 "cells": [
  {
   "cell_type": "code",
   "execution_count": 3,
   "metadata": {},
   "outputs": [],
   "source": [
    "# Essentials\n",
    "import numpy as np\n",
    "import pandas as pd\n",
    "import datetime\n",
    "import random\n",
    "\n",
    "# Plots\n",
    "import seaborn as sns\n",
    "import matplotlib.pyplot as plt\n",
    "\n",
    "# Models\n",
    "from sklearn.ensemble import RandomForestRegressor, GradientBoostingRegressor, AdaBoostRegressor, BaggingRegressor\n",
    "from sklearn.kernel_ridge import KernelRidge\n",
    "from sklearn.linear_model import Ridge, RidgeCV\n",
    "from sklearn.linear_model import ElasticNet, ElasticNetCV\n",
    "from sklearn.svm import SVR\n",
    "from mlxtend.regressor import StackingCVRegressor\n",
    "import lightgbm as lgb\n",
    "from lightgbm import LGBMRegressor\n",
    "from xgboost import XGBRegressor\n",
    "\n",
    "# Stats\n",
    "from scipy.stats import skew, norm\n",
    "from scipy.special import boxcox1p\n",
    "from scipy.stats import boxcox_normmax\n",
    "\n",
    "# Misc\n",
    "from sklearn.model_selection import GridSearchCV\n",
    "from sklearn.model_selection import KFold, cross_val_score\n",
    "from sklearn.metrics import mean_squared_error\n",
    "from sklearn.preprocessing import OneHotEncoder\n",
    "from sklearn.preprocessing import LabelEncoder\n",
    "from sklearn.pipeline import make_pipeline\n",
    "from sklearn.preprocessing import scale\n",
    "from sklearn.preprocessing import StandardScaler\n",
    "from sklearn.preprocessing import RobustScaler\n",
    "from sklearn.decomposition import PCA\n",
    "\n",
    "pd.set_option('display.max_columns', None)\n",
    "\n",
    "# Ignore useless warnings\n",
    "import warnings\n",
    "warnings.filterwarnings(action=\"ignore\")\n",
    "pd.options.display.max_seq_items = 8000\n",
    "pd.options.display.max_rows = 8000"
   ]
  },
  {
   "cell_type": "code",
   "execution_count": 4,
   "metadata": {},
   "outputs": [],
   "source": [
    "bp_file = '/data/data1/diabetes/EMR-data/T2DDX.csv'\n",
    "bp_file_p = '/data/data1/diabetes/EMR-data2/T2DDX.csv'"
   ]
  },
  {
   "cell_type": "code",
   "execution_count": 5,
   "metadata": {},
   "outputs": [],
   "source": [
    "data_pd = pd.read_csv(bp_file, sep='|')\n"
   ]
  },
  {
   "cell_type": "code",
   "execution_count": 6,
   "metadata": {},
   "outputs": [
    {
     "data": {
      "text/plain": [
       "(198, 6)"
      ]
     },
     "execution_count": 6,
     "metadata": {},
     "output_type": "execute_result"
    }
   ],
   "source": [
    "data_pd.shape"
   ]
  },
  {
   "cell_type": "code",
   "execution_count": 8,
   "metadata": {},
   "outputs": [
    {
     "data": {
      "text/plain": [
       "array(['Controlled diabetes mellitus type II without complication (HCC)',\n",
       "       'Controlled type 2 diabetes mellitus without complication (HCC)',\n",
       "       'Controlled type 2 diabetes mellitus without complication, with long-term current use of insulin (HCC)',\n",
       "       'Controlled type 2 diabetes mellitus without complication, without long-term current use of insulin (HCC)',\n",
       "       'DM (diabetes mellitus) (HCC)',\n",
       "       'DM II (diabetes mellitus, type II), controlled (HCC)',\n",
       "       'DM type 2, goal HbA1c 7%-8% (HCC)', 'Diabetes (HCC)',\n",
       "       'Diabetes mellitus (HCC)',\n",
       "       'Diabetes mellitus type 2 in nonobese (HCC)',\n",
       "       'Diabetes mellitus type 2 without retinopathy (HCC)',\n",
       "       'Diabetes mellitus type 2, diet-controlled (HCC)',\n",
       "       'Diabetes mellitus type 2, insulin dependent (HCC)',\n",
       "       'Diabetes mellitus without ophthalmic manifestations (HCC)',\n",
       "       'Diabetes mellitus, type 2 (HCC)',\n",
       "       'Diabetes mellitus, type II (HCC)',\n",
       "       'Diabetes type 2, controlled (HCC)',\n",
       "       'New onset type 2 diabetes mellitus (HCC)',\n",
       "       'Non-insulin dependent type 2 diabetes mellitus (HCC)',\n",
       "       'Type 2 diabetes mellitus (HCC)',\n",
       "       'Type 2 diabetes mellitus with hemoglobin A1c goal of less than 7.5% (HCC)',\n",
       "       'Type 2 diabetes mellitus with hemoglobin A1c goal of less than 8.0% (HCC)',\n",
       "       'Type 2 diabetes mellitus without complication (HCC)',\n",
       "       'Type 2 diabetes mellitus without complication, with long-term current use of insulin (HCC)',\n",
       "       'Type 2 diabetes mellitus without complication, without long-term current use of insulin (HCC)',\n",
       "       'Type 2 diabetes mellitus without ophthalmic manifestations (HCC)',\n",
       "       'Type 2 diabetes mellitus without retinopathy (HCC)',\n",
       "       'Type 2 diabetes mellitus, controlled (HCC)',\n",
       "       'Type II or unspecified type diabetes mellitus without mention of complication, not stated as uncontrolled'],\n",
       "      dtype=object)"
      ]
     },
     "execution_count": 8,
     "metadata": {},
     "output_type": "execute_result"
    }
   ],
   "source": [
    "pd.Series(data_pd[\"dx_name\"].tolist()).sort_values().unique()"
   ]
  },
  {
   "cell_type": "code",
   "execution_count": 7,
   "metadata": {},
   "outputs": [
    {
     "data": {
      "text/html": [
       "<div>\n",
       "<style scoped>\n",
       "    .dataframe tbody tr th:only-of-type {\n",
       "        vertical-align: middle;\n",
       "    }\n",
       "\n",
       "    .dataframe tbody tr th {\n",
       "        vertical-align: top;\n",
       "    }\n",
       "\n",
       "    .dataframe thead th {\n",
       "        text-align: right;\n",
       "    }\n",
       "</style>\n",
       "<table border=\"1\" class=\"dataframe\">\n",
       "  <thead>\n",
       "    <tr style=\"text-align: right;\">\n",
       "      <th></th>\n",
       "      <th>Deidentified_Pat_ID</th>\n",
       "      <th>NotedYear</th>\n",
       "      <th>dx_name</th>\n",
       "      <th>CURRENT_ICD10_LIST</th>\n",
       "      <th>Age of T2D onset</th>\n",
       "      <th>PregnantAtDX?</th>\n",
       "    </tr>\n",
       "  </thead>\n",
       "  <tbody>\n",
       "    <tr>\n",
       "      <th>0</th>\n",
       "      <td>MNOAZATN</td>\n",
       "      <td>2018.0</td>\n",
       "      <td>Type 2 diabetes mellitus without complication,...</td>\n",
       "      <td>E11.9</td>\n",
       "      <td>57.0</td>\n",
       "      <td>NaN</td>\n",
       "    </tr>\n",
       "    <tr>\n",
       "      <th>1</th>\n",
       "      <td>ZHVTHGVK</td>\n",
       "      <td>2017.0</td>\n",
       "      <td>Controlled type 2 diabetes mellitus without co...</td>\n",
       "      <td>E11.9</td>\n",
       "      <td>48.0</td>\n",
       "      <td>NaN</td>\n",
       "    </tr>\n",
       "    <tr>\n",
       "      <th>2</th>\n",
       "      <td>ZHVOHAK</td>\n",
       "      <td>2012.0</td>\n",
       "      <td>Diabetes mellitus type 2, insulin dependent (HCC)</td>\n",
       "      <td>E11.9, Z79.4</td>\n",
       "      <td>70.0</td>\n",
       "      <td>NaN</td>\n",
       "    </tr>\n",
       "    <tr>\n",
       "      <th>3</th>\n",
       "      <td>ZHHGNGVV</td>\n",
       "      <td>2016.0</td>\n",
       "      <td>Type 2 diabetes mellitus without complication ...</td>\n",
       "      <td>E11.9</td>\n",
       "      <td>39.0</td>\n",
       "      <td>NaN</td>\n",
       "    </tr>\n",
       "    <tr>\n",
       "      <th>4</th>\n",
       "      <td>ZHHKZVV</td>\n",
       "      <td>2016.0</td>\n",
       "      <td>Type 2 diabetes mellitus without complication,...</td>\n",
       "      <td>E11.9</td>\n",
       "      <td>60.0</td>\n",
       "      <td>NaN</td>\n",
       "    </tr>\n",
       "  </tbody>\n",
       "</table>\n",
       "</div>"
      ],
      "text/plain": [
       "  Deidentified_Pat_ID  NotedYear  \\\n",
       "0            MNOAZATN     2018.0   \n",
       "1            ZHVTHGVK     2017.0   \n",
       "2             ZHVOHAK     2012.0   \n",
       "3            ZHHGNGVV     2016.0   \n",
       "4             ZHHKZVV     2016.0   \n",
       "\n",
       "                                             dx_name CURRENT_ICD10_LIST  \\\n",
       "0  Type 2 diabetes mellitus without complication,...              E11.9   \n",
       "1  Controlled type 2 diabetes mellitus without co...              E11.9   \n",
       "2  Diabetes mellitus type 2, insulin dependent (HCC)       E11.9, Z79.4   \n",
       "3  Type 2 diabetes mellitus without complication ...              E11.9   \n",
       "4  Type 2 diabetes mellitus without complication,...              E11.9   \n",
       "\n",
       "   Age of T2D onset  PregnantAtDX?  \n",
       "0              57.0            NaN  \n",
       "1              48.0            NaN  \n",
       "2              70.0            NaN  \n",
       "3              39.0            NaN  \n",
       "4              60.0            NaN  "
      ]
     },
     "execution_count": 7,
     "metadata": {},
     "output_type": "execute_result"
    }
   ],
   "source": [
    "data_pd.head()"
   ]
  },
  {
   "cell_type": "code",
   "execution_count": 9,
   "metadata": {},
   "outputs": [
    {
     "data": {
      "text/plain": [
       "188"
      ]
     },
     "execution_count": 9,
     "metadata": {},
     "output_type": "execute_result"
    }
   ],
   "source": [
    "len(pd.Series(data_pd[\"Deidentified_Pat_ID\"].tolist()).sort_values().unique())"
   ]
  },
  {
   "cell_type": "code",
   "execution_count": null,
   "metadata": {},
   "outputs": [],
   "source": []
  },
  {
   "cell_type": "code",
   "execution_count": 10,
   "metadata": {},
   "outputs": [
    {
     "data": {
      "text/html": [
       "<div>\n",
       "<style scoped>\n",
       "    .dataframe tbody tr th:only-of-type {\n",
       "        vertical-align: middle;\n",
       "    }\n",
       "\n",
       "    .dataframe tbody tr th {\n",
       "        vertical-align: top;\n",
       "    }\n",
       "\n",
       "    .dataframe thead th {\n",
       "        text-align: right;\n",
       "    }\n",
       "</style>\n",
       "<table border=\"1\" class=\"dataframe\">\n",
       "  <thead>\n",
       "    <tr style=\"text-align: right;\">\n",
       "      <th></th>\n",
       "      <th>Deidentified_Pat_ID</th>\n",
       "      <th>NotedYear</th>\n",
       "      <th>dx_name</th>\n",
       "      <th>CURRENT_ICD10_LIST</th>\n",
       "      <th>Age of T2D onset</th>\n",
       "      <th>PregnantAtDX?</th>\n",
       "    </tr>\n",
       "  </thead>\n",
       "  <tbody>\n",
       "    <tr>\n",
       "      <th>0</th>\n",
       "      <td>MNOAZATN</td>\n",
       "      <td>2018.0</td>\n",
       "      <td>Type 2 diabetes mellitus without complication,...</td>\n",
       "      <td>E11.9</td>\n",
       "      <td>57.0</td>\n",
       "      <td>NaN</td>\n",
       "    </tr>\n",
       "    <tr>\n",
       "      <th>189</th>\n",
       "      <td>ZAKVZZZ</td>\n",
       "      <td>2017.0</td>\n",
       "      <td>Type 2 diabetes mellitus without complication,...</td>\n",
       "      <td>E11.9</td>\n",
       "      <td>81.0</td>\n",
       "      <td>NaN</td>\n",
       "    </tr>\n",
       "    <tr>\n",
       "      <th>188</th>\n",
       "      <td>ZAVKHOT</td>\n",
       "      <td>2015.0</td>\n",
       "      <td>Type 2 diabetes mellitus (HCC)</td>\n",
       "      <td>E11.9</td>\n",
       "      <td>49.0</td>\n",
       "      <td>NaN</td>\n",
       "    </tr>\n",
       "    <tr>\n",
       "      <th>134</th>\n",
       "      <td>ZDADNTZ</td>\n",
       "      <td>2017.0</td>\n",
       "      <td>Type 2 diabetes mellitus without complication,...</td>\n",
       "      <td>E11.9</td>\n",
       "      <td>58.0</td>\n",
       "      <td>NaN</td>\n",
       "    </tr>\n",
       "    <tr>\n",
       "      <th>135</th>\n",
       "      <td>ZDAGOHAG</td>\n",
       "      <td>2015.0</td>\n",
       "      <td>Controlled diabetes mellitus type II without c...</td>\n",
       "      <td>E11.9</td>\n",
       "      <td>62.0</td>\n",
       "      <td>NaN</td>\n",
       "    </tr>\n",
       "    <tr>\n",
       "      <th>136</th>\n",
       "      <td>ZDAOGGH</td>\n",
       "      <td>2015.0</td>\n",
       "      <td>Type 2 diabetes mellitus without complication ...</td>\n",
       "      <td>E11.9</td>\n",
       "      <td>54.0</td>\n",
       "      <td>NaN</td>\n",
       "    </tr>\n",
       "    <tr>\n",
       "      <th>110</th>\n",
       "      <td>ZDDADNOZ</td>\n",
       "      <td>2016.0</td>\n",
       "      <td>Controlled type 2 diabetes mellitus without co...</td>\n",
       "      <td>E11.9</td>\n",
       "      <td>69.0</td>\n",
       "      <td>NaN</td>\n",
       "    </tr>\n",
       "    <tr>\n",
       "      <th>111</th>\n",
       "      <td>ZDDAGTVH</td>\n",
       "      <td>2016.0</td>\n",
       "      <td>Diabetes mellitus type 2 without retinopathy (...</td>\n",
       "      <td>E11.9</td>\n",
       "      <td>71.0</td>\n",
       "      <td>NaN</td>\n",
       "    </tr>\n",
       "    <tr>\n",
       "      <th>104</th>\n",
       "      <td>ZDDDKVKO</td>\n",
       "      <td>2016.0</td>\n",
       "      <td>Diabetes mellitus type 2 without retinopathy (...</td>\n",
       "      <td>E11.9</td>\n",
       "      <td>63.0</td>\n",
       "      <td>NaN</td>\n",
       "    </tr>\n",
       "    <tr>\n",
       "      <th>101</th>\n",
       "      <td>ZDDHHTO</td>\n",
       "      <td>2017.0</td>\n",
       "      <td>Controlled type 2 diabetes mellitus without co...</td>\n",
       "      <td>E11.9</td>\n",
       "      <td>41.0</td>\n",
       "      <td>NaN</td>\n",
       "    </tr>\n",
       "  </tbody>\n",
       "</table>\n",
       "</div>"
      ],
      "text/plain": [
       "    Deidentified_Pat_ID  NotedYear  \\\n",
       "0              MNOAZATN     2018.0   \n",
       "189             ZAKVZZZ     2017.0   \n",
       "188             ZAVKHOT     2015.0   \n",
       "134             ZDADNTZ     2017.0   \n",
       "135            ZDAGOHAG     2015.0   \n",
       "136             ZDAOGGH     2015.0   \n",
       "110            ZDDADNOZ     2016.0   \n",
       "111            ZDDAGTVH     2016.0   \n",
       "104            ZDDDKVKO     2016.0   \n",
       "101             ZDDHHTO     2017.0   \n",
       "\n",
       "                                               dx_name CURRENT_ICD10_LIST  \\\n",
       "0    Type 2 diabetes mellitus without complication,...              E11.9   \n",
       "189  Type 2 diabetes mellitus without complication,...              E11.9   \n",
       "188                     Type 2 diabetes mellitus (HCC)              E11.9   \n",
       "134  Type 2 diabetes mellitus without complication,...              E11.9   \n",
       "135  Controlled diabetes mellitus type II without c...              E11.9   \n",
       "136  Type 2 diabetes mellitus without complication ...              E11.9   \n",
       "110  Controlled type 2 diabetes mellitus without co...              E11.9   \n",
       "111  Diabetes mellitus type 2 without retinopathy (...              E11.9   \n",
       "104  Diabetes mellitus type 2 without retinopathy (...              E11.9   \n",
       "101  Controlled type 2 diabetes mellitus without co...              E11.9   \n",
       "\n",
       "     Age of T2D onset  PregnantAtDX?  \n",
       "0                57.0            NaN  \n",
       "189              81.0            NaN  \n",
       "188              49.0            NaN  \n",
       "134              58.0            NaN  \n",
       "135              62.0            NaN  \n",
       "136              54.0            NaN  \n",
       "110              69.0            NaN  \n",
       "111              71.0            NaN  \n",
       "104              63.0            NaN  \n",
       "101              41.0            NaN  "
      ]
     },
     "execution_count": 10,
     "metadata": {},
     "output_type": "execute_result"
    }
   ],
   "source": [
    "data_pd.sort_values([\"Deidentified_Pat_ID\",\"Age of T2D onset\"], inplace=True)\n"
   ]
  },
  {
   "cell_type": "code",
   "execution_count": 11,
   "metadata": {},
   "outputs": [
    {
     "data": {
      "text/plain": [
       "(198, 6)"
      ]
     },
     "execution_count": 11,
     "metadata": {},
     "output_type": "execute_result"
    }
   ],
   "source": [
    "data_pd.shape"
   ]
  },
  {
   "cell_type": "code",
   "execution_count": 12,
   "metadata": {},
   "outputs": [
    {
     "data": {
      "text/plain": [
       "188"
      ]
     },
     "execution_count": 12,
     "metadata": {},
     "output_type": "execute_result"
    }
   ],
   "source": [
    "len(data_pd)\n",
    "len(pd.Series(data_pd[\"Deidentified_Pat_ID\"].tolist()).sort_values().unique())"
   ]
  },
  {
   "cell_type": "code",
   "execution_count": 13,
   "metadata": {
    "scrolled": true
   },
   "outputs": [
    {
     "data": {
      "text/html": [
       "<div>\n",
       "<style scoped>\n",
       "    .dataframe tbody tr th:only-of-type {\n",
       "        vertical-align: middle;\n",
       "    }\n",
       "\n",
       "    .dataframe tbody tr th {\n",
       "        vertical-align: top;\n",
       "    }\n",
       "\n",
       "    .dataframe thead th {\n",
       "        text-align: right;\n",
       "    }\n",
       "</style>\n",
       "<table border=\"1\" class=\"dataframe\">\n",
       "  <thead>\n",
       "    <tr style=\"text-align: right;\">\n",
       "      <th></th>\n",
       "      <th>Deidentified_Pat_ID</th>\n",
       "      <th>NotedYear</th>\n",
       "      <th>dx_name</th>\n",
       "      <th>CURRENT_ICD10_LIST</th>\n",
       "      <th>Age of T2D onset</th>\n",
       "      <th>PregnantAtDX?</th>\n",
       "    </tr>\n",
       "  </thead>\n",
       "  <tbody>\n",
       "    <tr>\n",
       "      <th>0</th>\n",
       "      <td>MNOAZATN</td>\n",
       "      <td>2018.0</td>\n",
       "      <td>Type 2 diabetes mellitus without complication,...</td>\n",
       "      <td>E11.9</td>\n",
       "      <td>57.0</td>\n",
       "      <td>NaN</td>\n",
       "    </tr>\n",
       "    <tr>\n",
       "      <th>189</th>\n",
       "      <td>ZAKVZZZ</td>\n",
       "      <td>2017.0</td>\n",
       "      <td>Type 2 diabetes mellitus without complication,...</td>\n",
       "      <td>E11.9</td>\n",
       "      <td>81.0</td>\n",
       "      <td>NaN</td>\n",
       "    </tr>\n",
       "    <tr>\n",
       "      <th>188</th>\n",
       "      <td>ZAVKHOT</td>\n",
       "      <td>2015.0</td>\n",
       "      <td>Type 2 diabetes mellitus (HCC)</td>\n",
       "      <td>E11.9</td>\n",
       "      <td>49.0</td>\n",
       "      <td>NaN</td>\n",
       "    </tr>\n",
       "    <tr>\n",
       "      <th>134</th>\n",
       "      <td>ZDADNTZ</td>\n",
       "      <td>2017.0</td>\n",
       "      <td>Type 2 diabetes mellitus without complication,...</td>\n",
       "      <td>E11.9</td>\n",
       "      <td>58.0</td>\n",
       "      <td>NaN</td>\n",
       "    </tr>\n",
       "    <tr>\n",
       "      <th>135</th>\n",
       "      <td>ZDAGOHAG</td>\n",
       "      <td>2015.0</td>\n",
       "      <td>Controlled diabetes mellitus type II without c...</td>\n",
       "      <td>E11.9</td>\n",
       "      <td>62.0</td>\n",
       "      <td>NaN</td>\n",
       "    </tr>\n",
       "    <tr>\n",
       "      <th>136</th>\n",
       "      <td>ZDAOGGH</td>\n",
       "      <td>2015.0</td>\n",
       "      <td>Type 2 diabetes mellitus without complication ...</td>\n",
       "      <td>E11.9</td>\n",
       "      <td>54.0</td>\n",
       "      <td>NaN</td>\n",
       "    </tr>\n",
       "    <tr>\n",
       "      <th>110</th>\n",
       "      <td>ZDDADNOZ</td>\n",
       "      <td>2016.0</td>\n",
       "      <td>Controlled type 2 diabetes mellitus without co...</td>\n",
       "      <td>E11.9</td>\n",
       "      <td>69.0</td>\n",
       "      <td>NaN</td>\n",
       "    </tr>\n",
       "    <tr>\n",
       "      <th>111</th>\n",
       "      <td>ZDDAGTVH</td>\n",
       "      <td>2016.0</td>\n",
       "      <td>Diabetes mellitus type 2 without retinopathy (...</td>\n",
       "      <td>E11.9</td>\n",
       "      <td>71.0</td>\n",
       "      <td>NaN</td>\n",
       "    </tr>\n",
       "    <tr>\n",
       "      <th>104</th>\n",
       "      <td>ZDDDKVKO</td>\n",
       "      <td>2016.0</td>\n",
       "      <td>Diabetes mellitus type 2 without retinopathy (...</td>\n",
       "      <td>E11.9</td>\n",
       "      <td>63.0</td>\n",
       "      <td>NaN</td>\n",
       "    </tr>\n",
       "    <tr>\n",
       "      <th>101</th>\n",
       "      <td>ZDDHHTO</td>\n",
       "      <td>2017.0</td>\n",
       "      <td>Controlled type 2 diabetes mellitus without co...</td>\n",
       "      <td>E11.9</td>\n",
       "      <td>41.0</td>\n",
       "      <td>NaN</td>\n",
       "    </tr>\n",
       "  </tbody>\n",
       "</table>\n",
       "</div>"
      ],
      "text/plain": [
       "    Deidentified_Pat_ID  NotedYear  \\\n",
       "0              MNOAZATN     2018.0   \n",
       "189             ZAKVZZZ     2017.0   \n",
       "188             ZAVKHOT     2015.0   \n",
       "134             ZDADNTZ     2017.0   \n",
       "135            ZDAGOHAG     2015.0   \n",
       "136             ZDAOGGH     2015.0   \n",
       "110            ZDDADNOZ     2016.0   \n",
       "111            ZDDAGTVH     2016.0   \n",
       "104            ZDDDKVKO     2016.0   \n",
       "101             ZDDHHTO     2017.0   \n",
       "\n",
       "                                               dx_name CURRENT_ICD10_LIST  \\\n",
       "0    Type 2 diabetes mellitus without complication,...              E11.9   \n",
       "189  Type 2 diabetes mellitus without complication,...              E11.9   \n",
       "188                     Type 2 diabetes mellitus (HCC)              E11.9   \n",
       "134  Type 2 diabetes mellitus without complication,...              E11.9   \n",
       "135  Controlled diabetes mellitus type II without c...              E11.9   \n",
       "136  Type 2 diabetes mellitus without complication ...              E11.9   \n",
       "110  Controlled type 2 diabetes mellitus without co...              E11.9   \n",
       "111  Diabetes mellitus type 2 without retinopathy (...              E11.9   \n",
       "104  Diabetes mellitus type 2 without retinopathy (...              E11.9   \n",
       "101  Controlled type 2 diabetes mellitus without co...              E11.9   \n",
       "\n",
       "     Age of T2D onset  PregnantAtDX?  \n",
       "0                57.0            NaN  \n",
       "189              81.0            NaN  \n",
       "188              49.0            NaN  \n",
       "134              58.0            NaN  \n",
       "135              62.0            NaN  \n",
       "136              54.0            NaN  \n",
       "110              69.0            NaN  \n",
       "111              71.0            NaN  \n",
       "104              63.0            NaN  \n",
       "101              41.0            NaN  "
      ]
     },
     "execution_count": 13,
     "metadata": {},
     "output_type": "execute_result"
    }
   ],
   "source": [
    "single_data1 = data_pd.drop_duplicates([\"Deidentified_Pat_ID\"], keep='last')\n",
    "single_data1.head(n=10)"
   ]
  },
  {
   "cell_type": "code",
   "execution_count": 14,
   "metadata": {},
   "outputs": [
    {
     "data": {
      "text/plain": [
       "(188, 6)"
      ]
     },
     "execution_count": 14,
     "metadata": {},
     "output_type": "execute_result"
    }
   ],
   "source": [
    "single_data1.shape"
   ]
  },
  {
   "cell_type": "code",
   "execution_count": 19,
   "metadata": {},
   "outputs": [
    {
     "data": {
      "image/png": "[encoded data removed]",
      "text/plain": [
       "<Figure size 576x504 with 1 Axes>"
      ]
     },
     "metadata": {},
     "output_type": "display_data"
    }
   ],
   "source": [
    "age_data = single_data1[single_data1['Age of T2D onset'].notna()]\n",
    "sns.set_style(\"white\")\n",
    "sns.set_color_codes(palette='deep')\n",
    "f, ax = plt.subplots(figsize=(8, 7))\n",
    "#Check the new distribution \n",
    "sns.distplot(age_data['Age of T2D onset'], color=\"b\");\n",
    "ax.xaxis.grid(False)\n",
    "ax.set(ylabel=\"Frequency\")\n",
    "ax.set(xlabel=\"Result\")\n",
    "ax.set(title=\"Age of T2D onset distribution\")\n",
    "sns.despine(trim=True, left=True)\n",
    "plt.show()"
   ]
  },
  {
   "cell_type": "code",
   "execution_count": 76,
   "metadata": {},
   "outputs": [],
   "source": [
    "single_data1.to_csv(bp_file_p, index=False)"
   ]
  },
  {
   "cell_type": "code",
   "execution_count": null,
   "metadata": {},
   "outputs": [],
   "source": []
  },
  {
   "cell_type": "code",
   "execution_count": null,
   "metadata": {},
   "outputs": [],
   "source": []
  }
 ],
 "metadata": {
  "kernelspec": {
   "display_name": "Python 3",
   "language": "python",
   "name": "python3"
  },
  "language_info": {
   "codemirror_mode": {
    "name": "ipython",
    "version": 3
   },
   "file_extension": ".py",
   "mimetype": "text/x-python",
   "name": "python",
   "nbconvert_exporter": "python",
   "pygments_lexer": "ipython3",
   "version": "3.7.3"
  }
 },
 "nbformat": 4,
 "nbformat_minor": 2
}
