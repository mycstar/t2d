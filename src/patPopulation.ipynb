{
 "cells": [
  {
   "cell_type": "code",
   "execution_count": 2,
   "metadata": {},
   "outputs": [],
   "source": [
    "# Essentials\n",
    "import numpy as np\n",
    "import pandas as pd\n",
    "import datetime\n",
    "import random\n",
    "\n",
    "# Plots\n",
    "import seaborn as sns\n",
    "import matplotlib.pyplot as plt\n",
    "\n",
    "# Models\n",
    "from sklearn.ensemble import RandomForestRegressor, GradientBoostingRegressor, AdaBoostRegressor, BaggingRegressor\n",
    "from sklearn.kernel_ridge import KernelRidge\n",
    "from sklearn.linear_model import Ridge, RidgeCV\n",
    "from sklearn.linear_model import ElasticNet, ElasticNetCV\n",
    "from sklearn.svm import SVR\n",
    "from mlxtend.regressor import StackingCVRegressor\n",
    "import lightgbm as lgb\n",
    "from lightgbm import LGBMRegressor\n",
    "from xgboost import XGBRegressor\n",
    "\n",
    "# Stats\n",
    "from scipy.stats import skew, norm\n",
    "from scipy.special import boxcox1p\n",
    "from scipy.stats import boxcox_normmax\n",
    "\n",
    "# Misc\n",
    "from sklearn.model_selection import GridSearchCV\n",
    "from sklearn.model_selection import KFold, cross_val_score\n",
    "from sklearn.metrics import mean_squared_error\n",
    "from sklearn.preprocessing import OneHotEncoder\n",
    "from sklearn.preprocessing import LabelEncoder\n",
    "from sklearn.pipeline import make_pipeline\n",
    "from sklearn.preprocessing import scale\n",
    "from sklearn.preprocessing import StandardScaler\n",
    "from sklearn.preprocessing import RobustScaler\n",
    "from sklearn.decomposition import PCA\n",
    "\n",
    "pd.set_option('display.max_columns', None)\n",
    "\n",
    "# Ignore useless warnings\n",
    "import warnings\n",
    "warnings.filterwarnings(action=\"ignore\")\n",
    "pd.options.display.max_seq_items = 8000\n",
    "pd.options.display.max_rows = 8000"
   ]
  },
  {
   "cell_type": "code",
   "execution_count": 11,
   "metadata": {},
   "outputs": [],
   "source": [
    "bp_file = '/data/data1/diabetes/EMR-data/PatPopulation.csv'\n",
    "bp_file_p = '/data/data1/diabetes/EMR-data2/PatPopulation.csv'"
   ]
  },
  {
   "cell_type": "code",
   "execution_count": 12,
   "metadata": {},
   "outputs": [],
   "source": [
    "data_pd = pd.read_csv(bp_file, sep='|')\n"
   ]
  },
  {
   "cell_type": "code",
   "execution_count": 13,
   "metadata": {},
   "outputs": [
    {
     "data": {
      "text/plain": [
       "(6212, 5)"
      ]
     },
     "execution_count": 13,
     "metadata": {},
     "output_type": "execute_result"
    }
   ],
   "source": [
    "data_pd.shape"
   ]
  },
  {
   "cell_type": "code",
   "execution_count": 14,
   "metadata": {},
   "outputs": [
    {
     "data": {
      "text/html": [
       "<div>\n",
       "<style scoped>\n",
       "    .dataframe tbody tr th:only-of-type {\n",
       "        vertical-align: middle;\n",
       "    }\n",
       "\n",
       "    .dataframe tbody tr th {\n",
       "        vertical-align: top;\n",
       "    }\n",
       "\n",
       "    .dataframe thead th {\n",
       "        text-align: right;\n",
       "    }\n",
       "</style>\n",
       "<table border=\"1\" class=\"dataframe\">\n",
       "  <thead>\n",
       "    <tr style=\"text-align: right;\">\n",
       "      <th></th>\n",
       "      <th>Deidentified_Pat_ID</th>\n",
       "      <th>Gender</th>\n",
       "      <th>Age</th>\n",
       "      <th>Ethnicity</th>\n",
       "      <th>PAT_RACE</th>\n",
       "    </tr>\n",
       "  </thead>\n",
       "  <tbody>\n",
       "    <tr>\n",
       "      <th>0</th>\n",
       "      <td>ZZGTTHZ</td>\n",
       "      <td>Female</td>\n",
       "      <td>61</td>\n",
       "      <td>Not Hispanic or Latino</td>\n",
       "      <td>Caucasian/White</td>\n",
       "    </tr>\n",
       "    <tr>\n",
       "      <th>1</th>\n",
       "      <td>ZDGGTZZ</td>\n",
       "      <td>Male</td>\n",
       "      <td>55</td>\n",
       "      <td>Not Hispanic or Latino</td>\n",
       "      <td>Caucasian/White</td>\n",
       "    </tr>\n",
       "    <tr>\n",
       "      <th>2</th>\n",
       "      <td>ZHTKNGVH</td>\n",
       "      <td>Male</td>\n",
       "      <td>79</td>\n",
       "      <td>Not Hispanic or Latino</td>\n",
       "      <td>Caucasian/White</td>\n",
       "    </tr>\n",
       "    <tr>\n",
       "      <th>3</th>\n",
       "      <td>ZNGVZDKH</td>\n",
       "      <td>Female</td>\n",
       "      <td>34</td>\n",
       "      <td>Not Hispanic or Latino</td>\n",
       "      <td>Caucasian/White</td>\n",
       "    </tr>\n",
       "    <tr>\n",
       "      <th>4</th>\n",
       "      <td>ZTDDKN</td>\n",
       "      <td>Female</td>\n",
       "      <td>60</td>\n",
       "      <td>Not Hispanic or Latino</td>\n",
       "      <td>Caucasian/White</td>\n",
       "    </tr>\n",
       "  </tbody>\n",
       "</table>\n",
       "</div>"
      ],
      "text/plain": [
       "  Deidentified_Pat_ID  Gender  Age               Ethnicity          PAT_RACE\n",
       "0             ZZGTTHZ  Female   61  Not Hispanic or Latino   Caucasian/White\n",
       "1             ZDGGTZZ    Male   55  Not Hispanic or Latino   Caucasian/White\n",
       "2            ZHTKNGVH    Male   79  Not Hispanic or Latino   Caucasian/White\n",
       "3            ZNGVZDKH  Female   34  Not Hispanic or Latino   Caucasian/White\n",
       "4              ZTDDKN  Female   60  Not Hispanic or Latino   Caucasian/White"
      ]
     },
     "execution_count": 14,
     "metadata": {},
     "output_type": "execute_result"
    }
   ],
   "source": [
    "data_pd.head()"
   ]
  },
  {
   "cell_type": "code",
   "execution_count": 15,
   "metadata": {},
   "outputs": [],
   "source": [
    "def gender_type(x):\n",
    "    if x == 'Female':\n",
    "        return 1\n",
    "\n",
    "    elif x == 'Male':\n",
    "        return 0\n",
    "    else:\n",
    "        print(x)\n",
    "        return -1\n",
    "\n",
    "\n",
    "def ethnicity_type(x):\n",
    "    if x == 'Hispanic or Latino':\n",
    "        return 2\n",
    "    elif x == 'Not Hispanic or Latino':\n",
    "        return 3\n",
    "    else:\n",
    "        return -1\n",
    "\n",
    "\n",
    "def race_type(x):\n",
    "    if x == ' African American/Black':\n",
    "        return 1\n",
    "    elif x == ' African American/Black, Caucasian/White':\n",
    "        return 2\n",
    "    elif x == ' American Indian or Alaskan Native':\n",
    "        return 3\n",
    "    elif x == ' American Indian or Alaskan Native, Caucasian/White':\n",
    "        return 4\n",
    "    elif x == ' African American/Black, Caucasian/White':\n",
    "        return 5\n",
    "    elif x == ' Asian':\n",
    "        return 6\n",
    "    elif x == ' Caucasian/White':\n",
    "        return 7\n",
    "    elif x == ' Caucasian/White, Declined':\n",
    "        return 8\n",
    "    elif x == ' Caucasian/White, Hispanic/Latino/White':\n",
    "        return 9\n",
    "    elif x == ' Hispanic/Latino/White':\n",
    "        return 10\n",
    "    elif x == ' Native Hawaiian':\n",
    "        return 11\n",
    "    elif x == ' Pacific Islander':\n",
    "        return 12\n",
    "    else:\n",
    "        return -1"
   ]
  },
  {
   "cell_type": "code",
   "execution_count": 16,
   "metadata": {},
   "outputs": [
    {
     "data": {
      "text/plain": [
       "array([' African American/Black',\n",
       "       ' African American/Black, Caucasian/White',\n",
       "       ' American Indian or Alaskan Native',\n",
       "       ' American Indian or Alaskan Native, Caucasian/White', ' Asian',\n",
       "       ' Caucasian/White', ' Caucasian/White, Declined',\n",
       "       ' Caucasian/White, Hispanic/Latino/White', ' Declined',\n",
       "       ' Hispanic/Latino/White', ' Native Hawaiian', ' Pacific Islander',\n",
       "       nan], dtype=object)"
      ]
     },
     "execution_count": 16,
     "metadata": {},
     "output_type": "execute_result"
    }
   ],
   "source": [
    "pd.Series(data_pd[\"PAT_RACE\"].tolist()).sort_values().unique()"
   ]
  },
  {
   "cell_type": "code",
   "execution_count": 17,
   "metadata": {},
   "outputs": [],
   "source": [
    "data_pd['gender1'] = data_pd['Gender'].apply(lambda x: gender_type(x))\n",
    "data_pd['ethnicity1'] = data_pd['Ethnicity'].apply(lambda x: ethnicity_type(x))\n",
    "data_pd['race1'] = data_pd['PAT_RACE'].apply(lambda x: race_type(x))"
   ]
  },
  {
   "cell_type": "code",
   "execution_count": 18,
   "metadata": {},
   "outputs": [
    {
     "data": {
      "text/html": [
       "<div>\n",
       "<style scoped>\n",
       "    .dataframe tbody tr th:only-of-type {\n",
       "        vertical-align: middle;\n",
       "    }\n",
       "\n",
       "    .dataframe tbody tr th {\n",
       "        vertical-align: top;\n",
       "    }\n",
       "\n",
       "    .dataframe thead th {\n",
       "        text-align: right;\n",
       "    }\n",
       "</style>\n",
       "<table border=\"1\" class=\"dataframe\">\n",
       "  <thead>\n",
       "    <tr style=\"text-align: right;\">\n",
       "      <th></th>\n",
       "      <th>Deidentified_Pat_ID</th>\n",
       "      <th>Gender</th>\n",
       "      <th>Age</th>\n",
       "      <th>Ethnicity</th>\n",
       "      <th>PAT_RACE</th>\n",
       "      <th>gender1</th>\n",
       "      <th>ethnicity1</th>\n",
       "      <th>race1</th>\n",
       "    </tr>\n",
       "  </thead>\n",
       "  <tbody>\n",
       "    <tr>\n",
       "      <th>0</th>\n",
       "      <td>ZZGTTHZ</td>\n",
       "      <td>Female</td>\n",
       "      <td>61</td>\n",
       "      <td>Not Hispanic or Latino</td>\n",
       "      <td>Caucasian/White</td>\n",
       "      <td>1</td>\n",
       "      <td>3</td>\n",
       "      <td>7</td>\n",
       "    </tr>\n",
       "    <tr>\n",
       "      <th>1</th>\n",
       "      <td>ZDGGTZZ</td>\n",
       "      <td>Male</td>\n",
       "      <td>55</td>\n",
       "      <td>Not Hispanic or Latino</td>\n",
       "      <td>Caucasian/White</td>\n",
       "      <td>0</td>\n",
       "      <td>3</td>\n",
       "      <td>7</td>\n",
       "    </tr>\n",
       "    <tr>\n",
       "      <th>2</th>\n",
       "      <td>ZHTKNGVH</td>\n",
       "      <td>Male</td>\n",
       "      <td>79</td>\n",
       "      <td>Not Hispanic or Latino</td>\n",
       "      <td>Caucasian/White</td>\n",
       "      <td>0</td>\n",
       "      <td>3</td>\n",
       "      <td>7</td>\n",
       "    </tr>\n",
       "    <tr>\n",
       "      <th>3</th>\n",
       "      <td>ZNGVZDKH</td>\n",
       "      <td>Female</td>\n",
       "      <td>34</td>\n",
       "      <td>Not Hispanic or Latino</td>\n",
       "      <td>Caucasian/White</td>\n",
       "      <td>1</td>\n",
       "      <td>3</td>\n",
       "      <td>7</td>\n",
       "    </tr>\n",
       "    <tr>\n",
       "      <th>4</th>\n",
       "      <td>ZTDDKN</td>\n",
       "      <td>Female</td>\n",
       "      <td>60</td>\n",
       "      <td>Not Hispanic or Latino</td>\n",
       "      <td>Caucasian/White</td>\n",
       "      <td>1</td>\n",
       "      <td>3</td>\n",
       "      <td>7</td>\n",
       "    </tr>\n",
       "  </tbody>\n",
       "</table>\n",
       "</div>"
      ],
      "text/plain": [
       "  Deidentified_Pat_ID  Gender  Age               Ethnicity          PAT_RACE  \\\n",
       "0             ZZGTTHZ  Female   61  Not Hispanic or Latino   Caucasian/White   \n",
       "1             ZDGGTZZ    Male   55  Not Hispanic or Latino   Caucasian/White   \n",
       "2            ZHTKNGVH    Male   79  Not Hispanic or Latino   Caucasian/White   \n",
       "3            ZNGVZDKH  Female   34  Not Hispanic or Latino   Caucasian/White   \n",
       "4              ZTDDKN  Female   60  Not Hispanic or Latino   Caucasian/White   \n",
       "\n",
       "   gender1  ethnicity1  race1  \n",
       "0        1           3      7  \n",
       "1        0           3      7  \n",
       "2        0           3      7  \n",
       "3        1           3      7  \n",
       "4        1           3      7  "
      ]
     },
     "execution_count": 18,
     "metadata": {},
     "output_type": "execute_result"
    }
   ],
   "source": [
    "data_pd.head()"
   ]
  },
  {
   "cell_type": "code",
   "execution_count": 19,
   "metadata": {},
   "outputs": [
    {
     "data": {
      "text/plain": [
       "gender1\n",
       "0    2441\n",
       "1    3771\n",
       "dtype: int64"
      ]
     },
     "execution_count": 19,
     "metadata": {},
     "output_type": "execute_result"
    }
   ],
   "source": [
    "data_pd.pivot_table(index=['gender1'], aggfunc='size')"
   ]
  },
  {
   "cell_type": "code",
   "execution_count": 20,
   "metadata": {},
   "outputs": [
    {
     "data": {
      "text/plain": [
       "ethnicity1\n",
       "-1      77\n",
       " 2      41\n",
       " 3    6094\n",
       "dtype: int64"
      ]
     },
     "execution_count": 20,
     "metadata": {},
     "output_type": "execute_result"
    }
   ],
   "source": [
    "data_pd.pivot_table(index=['ethnicity1'], aggfunc='size')"
   ]
  },
  {
   "cell_type": "code",
   "execution_count": 21,
   "metadata": {},
   "outputs": [
    {
     "data": {
      "text/plain": [
       "race1\n",
       "-1       38\n",
       " 1       11\n",
       " 2        1\n",
       " 3       34\n",
       " 4        9\n",
       " 6       44\n",
       " 7     6066\n",
       " 8        1\n",
       " 9        1\n",
       " 10       2\n",
       " 11       3\n",
       " 12       2\n",
       "dtype: int64"
      ]
     },
     "execution_count": 21,
     "metadata": {},
     "output_type": "execute_result"
    }
   ],
   "source": [
    "data_pd.pivot_table(index=['race1'], aggfunc='size')"
   ]
  },
  {
   "cell_type": "code",
   "execution_count": 23,
   "metadata": {},
   "outputs": [
    {
     "data": {
      "text/plain": [
       "(6212, 6212)"
      ]
     },
     "execution_count": 23,
     "metadata": {},
     "output_type": "execute_result"
    }
   ],
   "source": [
    "len(data_pd), len(pd.Series(data_pd[\"Deidentified_Pat_ID\"].tolist()).sort_values().unique())"
   ]
  },
  {
   "cell_type": "code",
   "execution_count": 25,
   "metadata": {},
   "outputs": [],
   "source": [
    "data_pd = data_pd[['Deidentified_Pat_ID', 'gender1', 'Age', 'ethnicity1', 'race1']]\n",
    "data_pd.columns = ['Deidentified_Pat_ID', 'gender', 'age', 'ethnicity', 'race']\n",
    "data_pd.to_csv(bp_file_p, index=False)"
   ]
  },
  {
   "cell_type": "code",
   "execution_count": 76,
   "metadata": {},
   "outputs": [],
   "source": []
  },
  {
   "cell_type": "code",
   "execution_count": 26,
   "metadata": {},
   "outputs": [
    {
     "data": {
      "image/png": "[encoded data removed]",
      "text/plain": [
       "<Figure size 576x504 with 1 Axes>"
      ]
     },
     "metadata": {},
     "output_type": "display_data"
    }
   ],
   "source": [
    "sns.set_style(\"white\")\n",
    "sns.set_color_codes(palette='deep')\n",
    "f, ax = plt.subplots(figsize=(8, 7))\n",
    "#Check the new distribution \n",
    "sns.distplot(data_pd['race'], color=\"b\");\n",
    "ax.xaxis.grid(False)\n",
    "ax.set(ylabel=\"Frequency\")\n",
    "ax.set(xlabel=\"race\")\n",
    "ax.set(title=\"race distribution\")\n",
    "sns.despine(trim=True, left=True)\n",
    "plt.show()"
   ]
  },
  {
   "cell_type": "code",
   "execution_count": null,
   "metadata": {},
   "outputs": [],
   "source": []
  }
 ],
 "metadata": {
  "kernelspec": {
   "display_name": "Python 3",
   "language": "python",
   "name": "python3"
  },
  "language_info": {
   "codemirror_mode": {
    "name": "ipython",
    "version": 3
   },
   "file_extension": ".py",
   "mimetype": "text/x-python",
   "name": "python",
   "nbconvert_exporter": "python",
   "pygments_lexer": "ipython3",
   "version": "3.7.3"
  }
 },
 "nbformat": 4,
 "nbformat_minor": 2
}
